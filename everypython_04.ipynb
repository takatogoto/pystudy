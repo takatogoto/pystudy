{
 "cells": [
  {
   "cell_type": "markdown",
   "metadata": {},
   "source": [
    "# Chapter 04\n",
    "## Object"
   ]
  },
  {
   "cell_type": "code",
   "execution_count": 1,
   "metadata": {},
   "outputs": [],
   "source": [
    "# リスト要素のインデックスを探す関数\n",
    "def find_index(the_list, target):\n",
    "    # the_listからtargetのインデックスを調べる関数\n",
    "    idx = 0            # インデックス用のカウンタを初期化\n",
    "    for item in the_list:   # リストの要素を一つずつ調べる\n",
    "        if target == the_list[idx]:\n",
    "            # 調べたい要素が見つかったのでインデックスを返す\n",
    "            return idx\n",
    "        idx = idx+1    # インデックスを1増やす"
   ]
  },
  {
   "cell_type": "code",
   "execution_count": 2,
   "metadata": {},
   "outputs": [
    {
     "data": {
      "text/plain": [
       "2"
      ]
     },
     "execution_count": 2,
     "metadata": {},
     "output_type": "execute_result"
    }
   ],
   "source": [
    "# 関数を使ってみる\n",
    "# リストを定義\n",
    "mcz=[\"れに\", \"かなこ\", \"しおり\", \"あやか\", \"ももか\"]\n",
    "find_index(mcz, \"しおり\")"
   ]
  },
  {
   "cell_type": "code",
   "execution_count": 3,
   "metadata": {},
   "outputs": [
    {
     "data": {
      "text/plain": [
       "2"
      ]
     },
     "execution_count": 3,
     "metadata": {},
     "output_type": "execute_result"
    }
   ],
   "source": [
    "# メソッドを使って同じ処理を書く方が簡単\n",
    "mcz.index(\"しおり\")"
   ]
  },
  {
   "cell_type": "code",
   "execution_count": 6,
   "metadata": {},
   "outputs": [
    {
     "data": {
      "text/plain": [
       "0"
      ]
     },
     "execution_count": 6,
     "metadata": {},
     "output_type": "execute_result"
    }
   ],
   "source": [
    "ac = [1,2,4,5,1]\n",
    "ac.index(1)"
   ]
  },
  {
   "cell_type": "markdown",
   "metadata": {},
   "source": [
    "## num"
   ]
  },
  {
   "cell_type": "code",
   "execution_count": 7,
   "metadata": {},
   "outputs": [
    {
     "data": {
      "text/plain": [
       "511"
      ]
     },
     "execution_count": 7,
     "metadata": {},
     "output_type": "execute_result"
    }
   ],
   "source": [
    "# 16進数のリテラル表記\n",
    "0x1ff       # 10進数で511"
   ]
  },
  {
   "cell_type": "code",
   "execution_count": 8,
   "metadata": {},
   "outputs": [
    {
     "data": {
      "text/plain": [
       "'0x3ff'"
      ]
     },
     "execution_count": 8,
     "metadata": {},
     "output_type": "execute_result"
    }
   ],
   "source": [
    "# 10進数を16進数リテラル文字列に変換\n",
    "hex(1023)   "
   ]
  },
  {
   "cell_type": "code",
   "execution_count": 11,
   "metadata": {},
   "outputs": [
    {
     "data": {
      "text/plain": [
       "256"
      ]
     },
     "execution_count": 11,
     "metadata": {},
     "output_type": "execute_result"
    }
   ],
   "source": [
    "# 16進数リテラル相当の文字列を数値に変換\n",
    "int(\"0x100\", 16)"
   ]
  },
  {
   "cell_type": "code",
   "execution_count": 12,
   "metadata": {},
   "outputs": [
    {
     "data": {
      "text/plain": [
       "8"
      ]
     },
     "execution_count": 12,
     "metadata": {},
     "output_type": "execute_result"
    }
   ],
   "source": [
    "# 2進数のリテラル表記\n",
    "0b1000      # 10進数で8"
   ]
  },
  {
   "cell_type": "code",
   "execution_count": 13,
   "metadata": {},
   "outputs": [
    {
     "data": {
      "text/plain": [
       "'0b1111111111'"
      ]
     },
     "execution_count": 13,
     "metadata": {},
     "output_type": "execute_result"
    }
   ],
   "source": [
    "# 10進数を2進数リテラル相当の文字列に変換\n",
    "bin(1023)"
   ]
  },
  {
   "cell_type": "code",
   "execution_count": 9,
   "metadata": {},
   "outputs": [
    {
     "data": {
      "text/plain": [
       "1023"
      ]
     },
     "execution_count": 9,
     "metadata": {},
     "output_type": "execute_result"
    }
   ],
   "source": [
    "# 2進数リテラル相当の文字列を数値に変換\n",
    "int(\"0b1111111111\", 2)"
   ]
  },
  {
   "cell_type": "code",
   "execution_count": 10,
   "metadata": {},
   "outputs": [
    {
     "data": {
      "text/plain": [
       "1023"
      ]
     },
     "execution_count": 10,
     "metadata": {},
     "output_type": "execute_result"
    }
   ],
   "source": [
    "# 8進数のリテラル表記\n",
    "0o1777"
   ]
  },
  {
   "cell_type": "code",
   "execution_count": 14,
   "metadata": {},
   "outputs": [
    {
     "data": {
      "text/plain": [
       "'0o1777'"
      ]
     },
     "execution_count": 14,
     "metadata": {},
     "output_type": "execute_result"
    }
   ],
   "source": [
    "# 10進数を8進数リテラル相当の文字列に変換\n",
    "oct(1023)"
   ]
  },
  {
   "cell_type": "code",
   "execution_count": 15,
   "metadata": {},
   "outputs": [
    {
     "data": {
      "text/plain": [
       "1023"
      ]
     },
     "execution_count": 15,
     "metadata": {},
     "output_type": "execute_result"
    }
   ],
   "source": [
    "# 8進数リテラル相当の文字列を数値に変換\n",
    "int(\"0o1777\", 8)"
   ]
  },
  {
   "cell_type": "code",
   "execution_count": 16,
   "metadata": {},
   "outputs": [
    {
     "data": {
      "text/plain": [
       "'0b1111'"
      ]
     },
     "execution_count": 16,
     "metadata": {},
     "output_type": "execute_result"
    }
   ],
   "source": [
    "# 二進数の1010と0101のOR\n",
    "bin(0b1010 | 0b0101)"
   ]
  },
  {
   "cell_type": "code",
   "execution_count": 17,
   "metadata": {},
   "outputs": [
    {
     "data": {
      "text/plain": [
       "'0b1010'"
      ]
     },
     "execution_count": 17,
     "metadata": {},
     "output_type": "execute_result"
    }
   ],
   "source": [
    "# 二進数の1111と1010のAND\n",
    "bin(0b1111 & 0b1010)"
   ]
  },
  {
   "cell_type": "code",
   "execution_count": 18,
   "metadata": {},
   "outputs": [
    {
     "data": {
      "text/plain": [
       "'0b1010'"
      ]
     },
     "execution_count": 18,
     "metadata": {},
     "output_type": "execute_result"
    }
   ],
   "source": [
    "# 二進数の1111と0101のXOR\n",
    "bin(0b1111 ^ 0b0101)"
   ]
  },
  {
   "cell_type": "code",
   "execution_count": 19,
   "metadata": {},
   "outputs": [
    {
     "data": {
      "text/plain": [
       "'0b1000'"
      ]
     },
     "execution_count": 19,
     "metadata": {},
     "output_type": "execute_result"
    }
   ],
   "source": [
    "# 0100の左シフト\n",
    "bin(0b0100 << 1)"
   ]
  },
  {
   "cell_type": "code",
   "execution_count": 20,
   "metadata": {},
   "outputs": [
    {
     "data": {
      "text/plain": [
       "'0b100'"
      ]
     },
     "execution_count": 20,
     "metadata": {},
     "output_type": "execute_result"
    }
   ],
   "source": [
    "# 1000の右シフト\n",
    "bin(0b1000 >> 1)"
   ]
  },
  {
   "cell_type": "markdown",
   "metadata": {},
   "source": [
    "## str"
   ]
  },
  {
   "cell_type": "code",
   "execution_count": 21,
   "metadata": {},
   "outputs": [
    {
     "data": {
      "text/plain": [
       "'おっぱお'"
      ]
     },
     "execution_count": 21,
     "metadata": {},
     "output_type": "execute_result"
    }
   ],
   "source": [
    "orig_str = \"いっぱい\"          # 置換前の文字列を定義\n",
    "orig_str.replace(\"い\", \"お\")  # 文字列の「い」を「お」に置換、結果を表示"
   ]
  },
  {
   "cell_type": "code",
   "execution_count": 22,
   "metadata": {},
   "outputs": [
    {
     "data": {
      "text/plain": [
       "'おっぱい'"
      ]
     },
     "execution_count": 22,
     "metadata": {},
     "output_type": "execute_result"
    }
   ],
   "source": [
    "# ちなみに，replace()メソッドは置換数を指定できる\n",
    "orig_str.replace(\"い\", \"お\", 1)"
   ]
  },
  {
   "cell_type": "code",
   "execution_count": 23,
   "metadata": {},
   "outputs": [
    {
     "data": {
      "text/plain": [
       "1000000"
      ]
     },
     "execution_count": 23,
     "metadata": {},
     "output_type": "execute_result"
    }
   ],
   "source": [
    "# カンマ付き文字列の削除と数値への変換\n",
    "str_num = \"1,000,000\"                # カンマの入った整数相当の文字列\n",
    "num = int(str_num.replace(\",\", \"\"))  # カンマを取り除きint()で数値にする\n",
    "num"
   ]
  },
  {
   "cell_type": "code",
   "execution_count": 24,
   "metadata": {},
   "outputs": [
    {
     "data": {
      "text/plain": [
       "'...---...'"
      ]
     },
     "execution_count": 24,
     "metadata": {},
     "output_type": "execute_result"
    }
   ],
   "source": [
    "# オマケ 文字 -> モールス信号への変換\n",
    "\n",
    "m_sos = \"SOS\"                # 文字列を定義\n",
    "# 文字列をモールス信号に置き換える\n",
    "m_sos = m_sos.replace(\"S\", \"...\")\n",
    "m_sos = m_sos.replace(\"O\", \"---\")\n",
    "m_sos"
   ]
  },
  {
   "cell_type": "code",
   "execution_count": 25,
   "metadata": {},
   "outputs": [
    {
     "data": {
      "image/png": "[encoded data removed]",
      "text/plain": [
       "<Figure size 432x288 with 1 Axes>"
      ]
     },
     "metadata": {
      "needs_background": "light"
     },
     "output_type": "display_data"
    }
   ],
   "source": [
    "# splitメソッドの使用例\n",
    "%matplotlib inline\n",
    "import matplotlib.pyplot as plt\n",
    "\n",
    "str_speeds = \"38 42 20 40 39\"       # 戦車のスピード(km/h)\n",
    "str_armor = \"80 50 17 50 51\"        # 戦車の装甲厚(mm)\n",
    "speeds = str_speeds.split(\" \")      # 速度をスペースで分割\n",
    "armors = str_armor.split(\" \")       # 装甲厚をスペースで分割\n",
    "markers = [\"o\", \"v\", \"^\", \"<\", \">\"]\n",
    "\n",
    "for idx in range(len(speeds)):      # リストの長さ分ループ\n",
    "    x = int(speeds[idx])            # 文字列を数値に変換\n",
    "    y = int(armors[idx])\n",
    "    # 散布図を描く\n",
    "    plt.scatter(x, y, marker=markers[idx])    \n",
    "\n",
    "\n",
    "    #IV号戦車(o) LT-38(v) 八九式中戦車(^) III号突撃砲(<) M3中戦車(>)"
   ]
  },
  {
   "cell_type": "code",
   "execution_count": 26,
   "metadata": {},
   "outputs": [
    {
     "name": "stdout",
     "output_type": "stream",
     "text": [
      "38,42,20,40,39\n"
     ]
    }
   ],
   "source": [
    "# split()した文字列をjoin()で連結\n",
    "str_speeds = \"38 42 20 40 39\"  # 空白で区切られた数値\n",
    "speeds = str_speeds.split()    # 空白で分割\n",
    "csep_speeds = \",\".join(speeds) # コンマで連結\n",
    "print(csep_speeds)             # 結果を表示"
   ]
  },
  {
   "cell_type": "code",
   "execution_count": 27,
   "metadata": {},
   "outputs": [
    {
     "data": {
      "text/plain": [
       "str"
      ]
     },
     "execution_count": 27,
     "metadata": {},
     "output_type": "execute_result"
    }
   ],
   "source": [
    "type(csep_speeds)"
   ]
  },
  {
   "cell_type": "code",
   "execution_count": 28,
   "metadata": {},
   "outputs": [
    {
     "data": {
      "text/plain": [
       "list"
      ]
     },
     "execution_count": 28,
     "metadata": {},
     "output_type": "execute_result"
    }
   ],
   "source": [
    "type(speeds)"
   ]
  },
  {
   "cell_type": "code",
   "execution_count": 29,
   "metadata": {},
   "outputs": [
    {
     "name": "stdout",
     "output_type": "stream",
     "text": [
      ",38,,42,20,40,39,\n"
     ]
    }
   ],
   "source": [
    "# replace()メソッドを使うと，余分な空白も置換される\n",
    "str_speeds2 = \" 38  42 20 40 39 \"    # 余分な空白が入った文字列\n",
    "print(str_speeds2.replace(\" \", \",\")) # replace()を使った結果を表示"
   ]
  },
  {
   "cell_type": "code",
   "execution_count": 30,
   "metadata": {},
   "outputs": [
    {
     "name": "stdout",
     "output_type": "stream",
     "text": [
      "38,42,20,40,39\n"
     ]
    }
   ],
   "source": [
    "# split()とjoin()を組み合わせれば，余分な空白が除去される\n",
    "str_speeds2 = \" 38  42 20 40 39 \"    # 余分な空白が入った文字列\n",
    "speeds2 = str_speeds2.split()\n",
    "csep_speeds2 = \",\".join(speeds2)     # split(), join()を使って置換\n",
    "print(csep_speeds2)                  # 結果を表示"
   ]
  },
  {
   "cell_type": "code",
   "execution_count": 80,
   "metadata": {},
   "outputs": [
    {
     "name": "stdout",
     "output_type": "stream",
     "text": [
      "ゆく河の流れは絶えずして\n",
      "    しかももとの水にあらず\n"
     ]
    }
   ],
   "source": [
    "def func():                     # 関数の定義\n",
    "    # 改行を含む文字列を変数にするとインデントがずれる\n",
    "    words = \"\"\"ゆく河の流れは絶えずして\n",
    "    しかももとの水にあらず\"\"\"\n",
    "    print(words)\n",
    "\n",
    "func()"
   ]
  },
  {
   "cell_type": "code",
   "execution_count": 32,
   "metadata": {},
   "outputs": [
    {
     "name": "stdout",
     "output_type": "stream",
     "text": [
      "ゆく河の流れは絶えずして\n",
      "しかももとの水にあらず\n"
     ]
    }
   ],
   "source": [
    "# エスケープシーケンスを使って改行文字を入れるとすっきりする\n",
    "def func():\n",
    "    words = \"ゆく河の流れは絶えずして\\nしかももとの水にあらず\"\n",
    "    print(words)\n",
    "\n",
    "func()"
   ]
  },
  {
   "cell_type": "code",
   "execution_count": 33,
   "metadata": {},
   "outputs": [
    {
     "name": "stdout",
     "output_type": "stream",
     "text": [
      "ゆく河の流れは絶えずして\n",
      "しかももとの水にあらず\n"
     ]
    }
   ],
   "source": [
    "# なお，インデントを崩さずに長い文字列を定義するには\n",
    "# 以下のような方法もあります\n",
    "#\n",
    "# ※ただし，改行のエスケープシーケンスは明示する必要があることに注意\n",
    "\n",
    "def func():\n",
    "    words = (\"ゆく河の流れは絶えずして\\n\"\n",
    "             \"しかももとの水にあらず\")\n",
    "    print(words)\n",
    "\n",
    "func()"
   ]
  },
  {
   "cell_type": "code",
   "execution_count": 34,
   "metadata": {},
   "outputs": [
    {
     "data": {
      "text/plain": [
       "'C:\\\\path\\\\to\\\\file'"
      ]
     },
     "execution_count": 34,
     "metadata": {},
     "output_type": "execute_result"
    }
   ],
   "source": [
    "# raw文字列を使うとエスケープシーケンスも文字列として扱われる\n",
    "# Windowsのファイルへのパスを扱うときなどに便利\n",
    "raw = r\"C:\\path\\to\\file\"\n",
    "raw"
   ]
  },
  {
   "cell_type": "code",
   "execution_count": 35,
   "metadata": {},
   "outputs": [
    {
     "data": {
      "text/plain": [
       "'C:\\\\path\\to\\x0cile'"
      ]
     },
     "execution_count": 35,
     "metadata": {},
     "output_type": "execute_result"
    }
   ],
   "source": [
    "# raw文字列でない場合と結果を比較\n",
    "non_raw = \"C:\\path\\to\\file\"\n",
    "non_raw"
   ]
  },
  {
   "cell_type": "code",
   "execution_count": 36,
   "metadata": {},
   "outputs": [
    {
     "name": "stdout",
     "output_type": "stream",
     "text": [
      "JPEG画像のようです\n"
     ]
    }
   ],
   "source": [
    "# endswith(), startswith()メソッド\n",
    "# 文字列の末尾，または先頭に特定の文字列があるかどうかを調べるために使います\n",
    "# メソッド名に「三単現のS」がついていることに注意\n",
    "# スライスやインデクシングを駆使して同様の処理が可能ですが\n",
    "# メソッドを使った方が簡単です\n",
    "\n",
    "fn = \"funny_picture.jpg\"\n",
    "if fn.endswith(\".jpg\"):\n",
    "    print(\"JPEG画像のようです\")\n",
    "\n",
    "# c.f.\n",
    "# if fn[-4:] == \".jpg\":\n",
    "#     print(\"JPEG画像のようです\")"
   ]
  },
  {
   "cell_type": "code",
   "execution_count": 37,
   "metadata": {},
   "outputs": [
    {
     "data": {
      "text/plain": [
       "'HAM SPAM'"
      ]
     },
     "execution_count": 37,
     "metadata": {},
     "output_type": "execute_result"
    }
   ],
   "source": [
    "# strip()メソッド\n",
    "# 主に文字列の前後にある空白を除去するために使います\n",
    "\n",
    "orig_str = \" HAM SPAM \"\n",
    "stripped_str = orig_str.strip()\n",
    "stripped_str"
   ]
  },
  {
   "cell_type": "code",
   "execution_count": 38,
   "metadata": {},
   "outputs": [
    {
     "name": "stdout",
     "output_type": "stream",
     "text": [
      "本当にSPAMが好きなんですね\n"
     ]
    }
   ],
   "source": [
    "# upper(), lower()メソッドを組み合わせると，英字の大/小文字を無視して\n",
    "# 文字列の比較ができます\n",
    "\n",
    "upper_str = \"I like SPAM and egg.\"\n",
    "if \"spam\" in upper_str.lower():\n",
    "    print(\"本当にSPAMが好きなんですね\")"
   ]
  },
  {
   "cell_type": "code",
   "execution_count": 45,
   "metadata": {},
   "outputs": [
    {
     "data": {
      "text/plain": [
       "'Guido loves Python !'"
      ]
     },
     "execution_count": 45,
     "metadata": {},
     "output_type": "execute_result"
    }
   ],
   "source": [
    "# 要素の埋め込み\n",
    "\"{} loves Python !\".format('Guido')"
   ]
  },
  {
   "cell_type": "code",
   "execution_count": 41,
   "metadata": {},
   "outputs": [
    {
     "name": "stdout",
     "output_type": "stream",
     "text": [
      "<a href=\"http://python.org\">python.org</a>\n",
      "<a href=\"http://pypy.org\">pypy.org</a>\n",
      "<a href=\"http://http://cython.org/\">cython.org/</a>\n"
     ]
    }
   ],
   "source": [
    "# 複数要素の埋め込み\n",
    "linkstr = '<a href=\"{}\">{}</a>'\n",
    "for i in ['http://python.org',\n",
    "          'http://pypy.org',\n",
    "          'http://http://cython.org/']:\n",
    "    print(linkstr.format(i, i.replace('http://', '')))"
   ]
  },
  {
   "cell_type": "code",
   "execution_count": 42,
   "metadata": {},
   "outputs": [
    {
     "data": {
      "text/plain": [
       "'Spam Ham Spam'"
      ]
     },
     "execution_count": 42,
     "metadata": {},
     "output_type": "execute_result"
    }
   ],
   "source": [
    "# 引数の順番を指定\n",
    "\"{0} {1} {0}\".format('Spam', 'Ham')"
   ]
  },
  {
   "cell_type": "code",
   "execution_count": 43,
   "metadata": {},
   "outputs": [
    {
     "data": {
      "text/plain": [
       "'Spam Ham Spam'"
      ]
     },
     "execution_count": 43,
     "metadata": {},
     "output_type": "execute_result"
    }
   ],
   "source": [
    "# キーで位置を指定\n",
    "\"{food1} {food2} {food1}\".format(food1=\"Spam\",\n",
    "                                 food2=\"Ham\")"
   ]
  },
  {
   "cell_type": "code",
   "execution_count": 44,
   "metadata": {},
   "outputs": [
    {
     "data": {
      "text/plain": [
       "\"1964 is Guido's birthyear\""
      ]
     },
     "execution_count": 44,
     "metadata": {},
     "output_type": "execute_result"
    }
   ],
   "source": [
    "# ディクショナリによる置換\n",
    "d = {'name': 'Guido', 'birthyear': 1964}\n",
    "\"{0[birthyear]} is {0[name]}'s birthyear\".format(d)"
   ]
  },
  {
   "cell_type": "code",
   "execution_count": 46,
   "metadata": {},
   "outputs": [
    {
     "data": {
      "text/plain": [
       "'Python version: 3.7.0 (default, Jun 28 2018, 08:04:48) [MSC v.1912 64 bit (AMD64)]'"
      ]
     },
     "execution_count": 46,
     "metadata": {},
     "output_type": "execute_result"
    }
   ],
   "source": [
    "# アトリビュートを指定して置換\n",
    "import sys\n",
    "# sys.versionを表示\n",
    "\"Python version: {0.version}\".format(sys)"
   ]
  },
  {
   "cell_type": "code",
   "execution_count": 47,
   "metadata": {},
   "outputs": [
    {
     "data": {
      "text/plain": [
       "'3.7.0 (default, Jun 28 2018, 08:04:48) [MSC v.1912 64 bit (AMD64)]'"
      ]
     },
     "execution_count": 47,
     "metadata": {},
     "output_type": "execute_result"
    }
   ],
   "source": [
    "sys.version"
   ]
  },
  {
   "cell_type": "code",
   "execution_count": 83,
   "metadata": {},
   "outputs": [
    {
     "data": {
      "text/plain": [
       "\"1964 is Guido's birthyear.\\n1990 is aaa's birthyear\""
      ]
     },
     "execution_count": 83,
     "metadata": {},
     "output_type": "execute_result"
    }
   ],
   "source": [
    "e = {'name': 'aaa', 'birthyear': 1990}\n",
    "\"{0[birthyear]} is {0[name]}'s birthyear.\\n{1[birthyear]} is {1[name]}'s birthyear\".format(d, e)"
   ]
  },
  {
   "cell_type": "code",
   "execution_count": 48,
   "metadata": {},
   "outputs": [
    {
     "data": {
      "text/plain": [
       "'Spam            300'"
      ]
     },
     "execution_count": 48,
     "metadata": {},
     "output_type": "execute_result"
    }
   ],
   "source": [
    "# 寄せを指定して差し込む\n",
    "# 1つ目の要素を左寄せ，2つ目の要素を右寄せで置換\n",
    "tmpl = \"{0:10} {1:>8}\"\n",
    "tmpl.format('Spam', 300)"
   ]
  },
  {
   "cell_type": "code",
   "execution_count": 49,
   "metadata": {},
   "outputs": [
    {
     "data": {
      "text/plain": [
       "'Ham             200'"
      ]
     },
     "execution_count": 49,
     "metadata": {},
     "output_type": "execute_result"
    }
   ],
   "source": [
    "tmpl.format('Ham', 200)"
   ]
  },
  {
   "cell_type": "code",
   "execution_count": 50,
   "metadata": {},
   "outputs": [
    {
     "data": {
      "text/plain": [
       "'49.00%'"
      ]
     },
     "execution_count": 50,
     "metadata": {},
     "output_type": "execute_result"
    }
   ],
   "source": [
    "# 表記を指定した差し込み\n",
    "# 小数点以下2桁ま\n",
    "\"{:.2%}\".format(6260/12776)"
   ]
  },
  {
   "cell_type": "code",
   "execution_count": 51,
   "metadata": {},
   "outputs": [
    {
     "data": {
      "text/plain": [
       "'10,000'"
      ]
     },
     "execution_count": 51,
     "metadata": {},
     "output_type": "execute_result"
    }
   ],
   "source": [
    "\"{:,}\".format(10000)"
   ]
  },
  {
   "cell_type": "code",
   "execution_count": 84,
   "metadata": {},
   "outputs": [
    {
     "data": {
      "text/plain": [
       "'まずは君が落ち着け'"
      ]
     },
     "execution_count": 84,
     "metadata": {},
     "output_type": "execute_result"
    }
   ],
   "source": [
    "# Python 3.6移行では，f文字列という機能が追加されます\n",
    "name = \"君\"                 # 置換する要素を変数で定義\n",
    "f\"まずは{name}が落ち着け\"      # {name}の部分が変数の内容に置き換わる"
   ]
  },
  {
   "cell_type": "markdown",
   "metadata": {},
   "source": [
    "##  list tuple"
   ]
  },
  {
   "cell_type": "code",
   "execution_count": 53,
   "metadata": {},
   "outputs": [
    {
     "name": "stdout",
     "output_type": "stream",
     "text": [
      "[1, 2, 3, 4, 5]\n"
     ]
    }
   ],
   "source": [
    "# リストからスライスで要素を取り出す\n",
    "a = [1, 2, 3, 4, 5]   # リストを定義\n",
    "print(a)                     # リストを表示"
   ]
  },
  {
   "cell_type": "code",
   "execution_count": 54,
   "metadata": {},
   "outputs": [
    {
     "data": {
      "text/plain": [
       "[3, 4, 5]"
      ]
     },
     "execution_count": 54,
     "metadata": {},
     "output_type": "execute_result"
    }
   ],
   "source": [
    "# インデックスを超える要素数を与えてみる\n",
    "a[2:100]              # エラーにならない"
   ]
  },
  {
   "cell_type": "code",
   "execution_count": 55,
   "metadata": {},
   "outputs": [
    {
     "data": {
      "text/plain": [
       "[1, 3, 5]"
      ]
     },
     "execution_count": 55,
     "metadata": {},
     "output_type": "execute_result"
    }
   ],
   "source": [
    "a[::2]                # ステップ数を使ってリストから2つづつ取り出す"
   ]
  },
  {
   "cell_type": "code",
   "execution_count": 56,
   "metadata": {},
   "outputs": [
    {
     "data": {
      "text/plain": [
       "[1, 2, 'Three', 'Four', 'five', 5]"
      ]
     },
     "execution_count": 56,
     "metadata": {},
     "output_type": "execute_result"
    }
   ],
   "source": [
    "a = [1, 2, 3, 4, 5]   # リストを定義\n",
    "# スライスと代入を使って3つの要素を入れ替え\n",
    "a[2:4] = ['Three', 'Four', 'five']\n",
    "a                     # 結果を確認"
   ]
  },
  {
   "cell_type": "code",
   "execution_count": 57,
   "metadata": {},
   "outputs": [
    {
     "data": {
      "text/plain": [
       "[1, 2]"
      ]
     },
     "execution_count": 57,
     "metadata": {},
     "output_type": "execute_result"
    }
   ],
   "source": [
    "a = [1, 2, 3, 4, 5]   # リストを定義\n",
    "del a[2:]             # インデックス2から先を全削除\n",
    "a                     # 結果を確認"
   ]
  },
  {
   "cell_type": "code",
   "execution_count": 58,
   "metadata": {},
   "outputs": [
    {
     "name": "stdout",
     "output_type": "stream",
     "text": [
      "2 1\n"
     ]
    }
   ],
   "source": [
    "# アンパック代入を使った変数の入れ替え\n",
    "a = 1\n",
    "b = 2\n",
    "b, a = a, b   # 複数の要素を同時に代入\n",
    "print(a, b)"
   ]
  },
  {
   "cell_type": "code",
   "execution_count": 59,
   "metadata": {},
   "outputs": [
    {
     "data": {
      "text/plain": [
       "[145, 157, 157, 158, 163]"
      ]
     },
     "execution_count": 59,
     "metadata": {},
     "output_type": "execute_result"
    }
   ],
   "source": [
    "# sort()メソッドを使ったリストのソート\n",
    "monk_fish_team = [158, 157, 163, 157, 145]\n",
    "monk_fish_team.sort()          # ソートをする\n",
    "monk_fish_team                 # リストの内容を確認"
   ]
  },
  {
   "cell_type": "code",
   "execution_count": 60,
   "metadata": {},
   "outputs": [
    {
     "data": {
      "text/plain": [
       "[163, 158, 157, 157, 145]"
      ]
     },
     "execution_count": 60,
     "metadata": {},
     "output_type": "execute_result"
    }
   ],
   "source": [
    "# 逆順(数値の大きい順)にソート\n",
    "monk_fish_team.sort(reverse=True)  # ソートをする\n",
    "monk_fish_team                     # リストの内容を確認"
   ]
  },
  {
   "cell_type": "code",
   "execution_count": 61,
   "metadata": {},
   "outputs": [],
   "source": [
    "# 戦車のデータを定義\n",
    "tank_data = [(\"IV号戦車\", 38, 80, 75), (\"LT-38\", 42, 50, 37),\n",
    "             (\"八九式中戦車\", 20, 17, 57), (\"III号突撃砲\", 40, 50, 75),\n",
    "             (\"M3中戦車\", 39, 51, 75)]"
   ]
  },
  {
   "cell_type": "code",
   "execution_count": 62,
   "metadata": {},
   "outputs": [],
   "source": [
    "# ソートに利用する関数を定義\n",
    "def evaluate_tankdata(tup):\n",
    "    # 戦車の諸元を足して返す関数\n",
    "    return tup[1]+tup[2]+tup[3]"
   ]
  },
  {
   "cell_type": "code",
   "execution_count": 63,
   "metadata": {},
   "outputs": [
    {
     "name": "stdout",
     "output_type": "stream",
     "text": [
      "193\n",
      "165\n"
     ]
    }
   ],
   "source": [
    "# 関数を使ってみる\n",
    "print(evaluate_tankdata(tank_data[0]))\n",
    "print(evaluate_tankdata(tank_data[4]))"
   ]
  },
  {
   "cell_type": "code",
   "execution_count": 64,
   "metadata": {},
   "outputs": [
    {
     "data": {
      "text/plain": [
       "('IV号戦車', 38, 80, 75)"
      ]
     },
     "execution_count": 64,
     "metadata": {},
     "output_type": "execute_result"
    }
   ],
   "source": [
    "tank_data[0]"
   ]
  },
  {
   "cell_type": "code",
   "execution_count": 66,
   "metadata": {},
   "outputs": [
    {
     "data": {
      "text/plain": [
       "tuple"
      ]
     },
     "execution_count": 66,
     "metadata": {},
     "output_type": "execute_result"
    }
   ],
   "source": [
    "type(tank_data[0])"
   ]
  },
  {
   "cell_type": "code",
   "execution_count": 67,
   "metadata": {},
   "outputs": [
    {
     "data": {
      "text/plain": [
       "list"
      ]
     },
     "execution_count": 67,
     "metadata": {},
     "output_type": "execute_result"
    }
   ],
   "source": [
    "type(tank_data)"
   ]
  },
  {
   "cell_type": "code",
   "execution_count": 68,
   "metadata": {},
   "outputs": [
    {
     "name": "stdout",
     "output_type": "stream",
     "text": [
      "[('IV号戦車', 38, 80, 75), ('III号突撃砲', 40, 50, 75), ('M3中戦車', 39, 51, 75), ('LT-38', 42, 50, 37), ('八九式中戦車', 20, 17, 57)]\n"
     ]
    }
   ],
   "source": [
    "# ソート順を変えてソートを実行\n",
    "tank_data.sort(key=evaluate_tankdata, reverse=True)\n",
    "print(tank_data)"
   ]
  },
  {
   "cell_type": "markdown",
   "metadata": {},
   "source": [
    "## set"
   ]
  },
  {
   "cell_type": "code",
   "execution_count": 69,
   "metadata": {},
   "outputs": [
    {
     "data": {
      "text/plain": [
       "{0, 1, 2, 3, 5, 7, 8, 11}"
      ]
     },
     "execution_count": 69,
     "metadata": {},
     "output_type": "execute_result"
    }
   ],
   "source": [
    "# set型のメソッドには，2タイプのメソッドがあります\n",
    "# 1つは，操作の結果setのコピーを返し，オブジェクトを変更しない(破壊的操作を行わない)メソッドです\n",
    "\n",
    "prime = set([2, 3, 5, 7, 11])\n",
    "fib = set([0, 1, 2, 3, 5, 8])\n",
    "new_set = prime.union(fib)     # メソッドが返す結果を変数で受け取る\n",
    "new_set                        # 変数を表示"
   ]
  },
  {
   "cell_type": "code",
   "execution_count": 70,
   "metadata": {},
   "outputs": [
    {
     "data": {
      "text/plain": [
       "{2, 3, 5, 7, 11}"
      ]
     },
     "execution_count": 70,
     "metadata": {},
     "output_type": "execute_result"
    }
   ],
   "source": [
    "prime                          # メソッドを呼び出した元の変数は変わらない"
   ]
  },
  {
   "cell_type": "code",
   "execution_count": 71,
   "metadata": {},
   "outputs": [
    {
     "data": {
      "text/plain": [
       "{'北海道', '岩手県', '秋田県', '青森県'}"
      ]
     },
     "execution_count": 71,
     "metadata": {},
     "output_type": "execute_result"
    }
   ],
   "source": [
    "# もう1つは，オブジェクト自体を変更する(破壊的操作を行う)メソッドです\n",
    "\n",
    "prefs = set(['北海道', '青森県', '秋田県'])  # setを定義\n",
    "prefs.add('岩手県')                        # 要素を追加\n",
    "prefs                                     # 変数を表示"
   ]
  },
  {
   "cell_type": "markdown",
   "metadata": {},
   "source": [
    "## dictionary"
   ]
  },
  {
   "cell_type": "code",
   "execution_count": 72,
   "metadata": {},
   "outputs": [
    {
     "data": {
      "text/plain": [
       "{'one': 1, 'two': 2}"
      ]
     },
     "execution_count": 72,
     "metadata": {},
     "output_type": "execute_result"
    }
   ],
   "source": [
    "# どれも{'one':1, 'two':2}というディクショナリを作ります\n",
    "\n",
    "# ディクショナリからディクショナリを作る(コピー)\n",
    "dict({'one':1, 'two':2})"
   ]
  },
  {
   "cell_type": "code",
   "execution_count": 73,
   "metadata": {},
   "outputs": [
    {
     "data": {
      "text/plain": [
       "{'one': 1, 'two': 2}"
      ]
     },
     "execution_count": 73,
     "metadata": {},
     "output_type": "execute_result"
    }
   ],
   "source": [
    "# キーと値のシーケンスからディクショナリを作る\n",
    "dict([['one', 1], ['two', 2]])"
   ]
  },
  {
   "cell_type": "code",
   "execution_count": 74,
   "metadata": {},
   "outputs": [
    {
     "data": {
      "text/plain": [
       "{'one': 1, 'two': 2}"
      ]
     },
     "execution_count": 74,
     "metadata": {},
     "output_type": "execute_result"
    }
   ],
   "source": [
    "# キーワード引数からディクショナリを作る\n",
    "dict(one=1, two=2)"
   ]
  },
  {
   "cell_type": "code",
   "execution_count": 75,
   "metadata": {},
   "outputs": [
    {
     "data": {
      "text/plain": [
       "dict_keys(['title', 'link', 'dc_date', 'dc:creator'])"
      ]
     },
     "execution_count": 75,
     "metadata": {},
     "output_type": "execute_result"
    }
   ],
   "source": [
    "rssitem = {\"title\"  :\"Pythonを勉強中\",\n",
    "           \"link\"   :\"http://host.to/blog/entry\",\n",
    "           \"dc_date\":\"2016-07-12T13:24:04Z\"}\n",
    "# ディクショナリを更新\n",
    "rssitem.update({\"title\"     :\"Pythonを勉強中\",\n",
    "                \"dc:creator\":\"someone\"})\n",
    "rssitem.keys()   # キーの一覧を取得"
   ]
  },
  {
   "cell_type": "code",
   "execution_count": 76,
   "metadata": {},
   "outputs": [
    {
     "data": {
      "text/plain": [
       "{'title': 'Pythonを勉強中',\n",
       " 'link': 'http://host.to/blog/entry',\n",
       " 'dc_date': '2016-07-12T13:24:04Z',\n",
       " 'dc:creator': 'someone'}"
      ]
     },
     "execution_count": 76,
     "metadata": {},
     "output_type": "execute_result"
    }
   ],
   "source": [
    "rssitem          # ディクショナリの内容を表示"
   ]
  },
  {
   "cell_type": "code",
   "execution_count": 77,
   "metadata": {},
   "outputs": [
    {
     "name": "stdout",
     "output_type": "stream",
     "text": [
      "{'If': 1, 'you': 2, 'can': 2, 'dream': 1, 'it,': 1, 'do': 1, 'it.': 1, '-': 1, 'Walt': 1, 'Disney': 1}\n"
     ]
    }
   ],
   "source": [
    "# 英単語の出現数をディクショナリで数える\n",
    "#\n",
    "# 本書ではスペースの都合などで抽象的なサンプルコードを掲載してありますが\n",
    "# こちらではコードを補って実動するよう書き換えてあります\n",
    "\n",
    "line = \"\"\"If you can dream it, you can do it. \n",
    "- Walt Disney\"\"\"\n",
    "wordcnt = {}              # ディクショナリを初期化\n",
    "for word in line.split():\n",
    "    if word in wordcnt:\n",
    "        wordcnt[word] = wordcnt[word]+1\n",
    "    else:\n",
    "        wordcnt[word] = 1\n",
    "print(wordcnt)            # 結果を表示"
   ]
  },
  {
   "cell_type": "code",
   "execution_count": 78,
   "metadata": {},
   "outputs": [
    {
     "name": "stdout",
     "output_type": "stream",
     "text": [
      "{'If': 1, 'you': 2, 'can': 2, 'dream': 1, 'it,': 1, 'do': 1, 'it.': 1, '-': 1, 'Walt': 1, 'Disney': 1}\n"
     ]
    }
   ],
   "source": [
    "# ディクショナリのgetメソッドを使って書き換える\n",
    "wordcnt = {}              # ディクショナリを初期化\n",
    "for word in line.split():\n",
    "    wordcnt[word] = wordcnt.get(word, 0)+1\n",
    "print(wordcnt)            # 結果を表示"
   ]
  },
  {
   "cell_type": "code",
   "execution_count": 79,
   "metadata": {},
   "outputs": [
    {
     "name": "stdout",
     "output_type": "stream",
     "text": [
      "{'If': 1, 'you': 2, 'can': 2, 'dream': 1, 'it,': 1, 'do': 1, 'it.': 1, '-': 1, 'Walt': 1, 'Disney': 1}\n"
     ]
    }
   ],
   "source": [
    "# オマケ setdefault()を使ったサンプル\n",
    "wordcnt = {}              # ディクショナリを初期化\n",
    "for word in line.split():\n",
    "    wordcnt[word] = wordcnt.setdefault(word, 0) + 1\n",
    "print(wordcnt)            # 結果を表示"
   ]
  },
  {
   "cell_type": "markdown",
   "metadata": {},
   "source": [
    "## If"
   ]
  },
  {
   "cell_type": "code",
   "execution_count": 1,
   "metadata": {},
   "outputs": [
    {
     "name": "stdout",
     "output_type": "stream",
     "text": [
      "sは空ではない\n"
     ]
    }
   ],
   "source": [
    "# Trueと判別されるオブジェクト\n",
    "s = \"SPAM\"  # 文字列を定義\n",
    "if len(s) != 0:\n",
    "    print(\"sは空ではない\")"
   ]
  },
  {
   "cell_type": "code",
   "execution_count": 2,
   "metadata": {},
   "outputs": [
    {
     "name": "stdout",
     "output_type": "stream",
     "text": [
      "sは空ではない\n"
     ]
    }
   ],
   "source": [
    "# 同じ処理を以下のようにも書ける\n",
    "if s:\n",
    "    print(\"sは空ではない\")"
   ]
  },
  {
   "cell_type": "code",
   "execution_count": 3,
   "metadata": {},
   "outputs": [
    {
     "name": "stdout",
     "output_type": "stream",
     "text": [
      "True\n"
     ]
    }
   ],
   "source": [
    "# 他にTrue(真)となるオブジェクト\n",
    "if 1:               # 0以外の数値\n",
    "    print(True)"
   ]
  },
  {
   "cell_type": "code",
   "execution_count": 4,
   "metadata": {},
   "outputs": [
    {
     "name": "stdout",
     "output_type": "stream",
     "text": [
      "True\n"
     ]
    }
   ],
   "source": [
    "if \"KILLERRABBIT\":  # 長さのある(空でない)文字列\n",
    "    print(True)"
   ]
  },
  {
   "cell_type": "code",
   "execution_count": 5,
   "metadata": {},
   "outputs": [
    {
     "name": "stdout",
     "output_type": "stream",
     "text": [
      "True\n"
     ]
    }
   ],
   "source": [
    "if [1, 2, 3]:       # 要素を持つリスト，タプルなどシーケンス\n",
    "    print(True)"
   ]
  },
  {
   "cell_type": "code",
   "execution_count": 6,
   "metadata": {},
   "outputs": [
    {
     "name": "stdout",
     "output_type": "stream",
     "text": [
      "True\n"
     ]
    }
   ],
   "source": [
    "if {1:'One', 2:'Two'}: # 要素を持つディクショナリ\n",
    "    print(True)"
   ]
  },
  {
   "cell_type": "code",
   "execution_count": 7,
   "metadata": {},
   "outputs": [],
   "source": [
    "# False(偽)となるオブジェクト\n",
    "# どれもprint()のあるブロックが実行されない\n",
    "if 0:               # 数値の0\n",
    "    print(True)"
   ]
  },
  {
   "cell_type": "code",
   "execution_count": 8,
   "metadata": {},
   "outputs": [],
   "source": [
    "if \"\":              # 空の文字列\n",
    "    print(True)"
   ]
  },
  {
   "cell_type": "code",
   "execution_count": 9,
   "metadata": {},
   "outputs": [],
   "source": [
    "if []:              # 空のリストやタプルなどシーケンス\n",
    "    print(True)"
   ]
  },
  {
   "cell_type": "code",
   "execution_count": 10,
   "metadata": {},
   "outputs": [],
   "source": [
    "if {}:              # 空のディクショナリ\n",
    "    print(True)"
   ]
  },
  {
   "cell_type": "markdown",
   "metadata": {},
   "source": [
    "## for"
   ]
  },
  {
   "cell_type": "code",
   "execution_count": 11,
   "metadata": {},
   "outputs": [
    {
     "name": "stdout",
     "output_type": "stream",
     "text": [
      "10 11 12 13 14 15 16 17 18 19 20 "
     ]
    }
   ],
   "source": [
    "# 10から20のシーケンスを作る\n",
    "for i in range(10, 21):\n",
    "    print(i, end=' ')   # 改行せずに繰り返しを表示"
   ]
  },
  {
   "cell_type": "code",
   "execution_count": 12,
   "metadata": {},
   "outputs": [
    {
     "name": "stdout",
     "output_type": "stream",
     "text": [
      "10 12 14 16 18 20 "
     ]
    }
   ],
   "source": [
    "# range()にステップ数を与える\n",
    "for i in range(10, 21, 2):  # 10から20まで，2ごとに増える\n",
    "    print(i, end=' ')"
   ]
  },
  {
   "cell_type": "code",
   "execution_count": 13,
   "metadata": {},
   "outputs": [
    {
     "name": "stdout",
     "output_type": "stream",
     "text": [
      "10 13 16 19 "
     ]
    }
   ],
   "source": [
    "for i in range(10, 21, 3):  # 10から19まで，3ごとに増える\n",
    "    print(i, end=' ')"
   ]
  },
  {
   "cell_type": "code",
   "execution_count": 14,
   "metadata": {},
   "outputs": [
    {
     "name": "stdout",
     "output_type": "stream",
     "text": [
      "20 19 18 17 16 15 14 13 12 11 10 "
     ]
    }
   ],
   "source": [
    "for i in range(20, 9, -1):  # 20から10まで，1ずつ減る\n",
    "    print(i, end=' ')"
   ]
  },
  {
   "cell_type": "code",
   "execution_count": 15,
   "metadata": {},
   "outputs": [
    {
     "name": "stdout",
     "output_type": "stream",
     "text": [
      "0 かなこ 1 れに 2 しおり 3 あやか 4 ももか "
     ]
    }
   ],
   "source": [
    "# カウンタ変数を使ったループカウンタ\n",
    "\n",
    "# 本書のコードを補って実動するようにしてあります\n",
    "\n",
    "# シーケンスを定義\n",
    "seq = [\"かなこ\", \"れに\", \"しおり\", \"あやか\", \"ももか\"]\n",
    "counter = 0        # ループカウンタを初期化\n",
    "for item in seq:\n",
    "    print(counter, item, end=' ')\n",
    "    counter += 1"
   ]
  },
  {
   "cell_type": "code",
   "execution_count": 16,
   "metadata": {},
   "outputs": [
    {
     "name": "stdout",
     "output_type": "stream",
     "text": [
      "0 かなこ 1 れに 2 しおり 3 あやか 4 ももか "
     ]
    }
   ],
   "source": [
    "# range()を使ったループカウンタ\n",
    "for cnt in range(len(seq)):\n",
    "    print(cnt, seq[cnt], end=' ')"
   ]
  },
  {
   "cell_type": "code",
   "execution_count": 17,
   "metadata": {},
   "outputs": [
    {
     "name": "stdout",
     "output_type": "stream",
     "text": [
      "0 かなこ 1 れに 2 しおり 3 あやか 4 ももか "
     ]
    }
   ],
   "source": [
    "# enumerate()を使った例\n",
    "for cnt, item in enumerate(seq):\n",
    "    print(cnt, item, end=' ')"
   ]
  },
  {
   "cell_type": "code",
   "execution_count": 18,
   "metadata": {},
   "outputs": [
    {
     "name": "stdout",
     "output_type": "stream",
     "text": [
      "1 a\n",
      "2 b\n",
      "3 c\n",
      "4 d\n"
     ]
    }
   ],
   "source": [
    "for n, w in zip([1, 2, 3, 4], ['a', 'b', 'c', 'd']):\n",
    "    print(n, w)"
   ]
  },
  {
   "cell_type": "markdown",
   "metadata": {},
   "source": [
    "## function"
   ]
  },
  {
   "cell_type": "code",
   "execution_count": 19,
   "metadata": {},
   "outputs": [
    {
     "data": {
      "text/plain": [
       "[1, 2]"
      ]
     },
     "execution_count": 19,
     "metadata": {},
     "output_type": "execute_result"
    }
   ],
   "source": [
    "# 複数の戻り値を返す関数\n",
    "\n",
    "# 書籍のコードを補って実動するように書き換えてあります\n",
    "\n",
    "def foo():\n",
    "    return [1, 2]\n",
    "\n",
    "# 関数の戻り値をリストで受け取る\n",
    "alist = foo()\n",
    "alist           # 戻り値として受け取ったリストを表示"
   ]
  },
  {
   "cell_type": "code",
   "execution_count": 20,
   "metadata": {},
   "outputs": [
    {
     "name": "stdout",
     "output_type": "stream",
     "text": [
      "145 163 156.0\n"
     ]
    }
   ],
   "source": [
    "# リストの最小値，最大値，平均値を返す関数\n",
    "def digest(in_list):\n",
    "    minvalue = min(in_list)\n",
    "    maxvalue = max(in_list)\n",
    "    average = sum(in_list)/len(in_list)\n",
    "    # 次のreturnの行は[〜]を省略してもよい\n",
    "    return [minvalue, maxvalue, average]\n",
    "\n",
    "\n",
    "# 関数を使ってみる\n",
    "monk_fish_team = [158, 157, 163, 157, 145]\n",
    "minvalue, maxvalue, average = digest(monk_fish_team)\n",
    "print(minvalue, maxvalue, average)"
   ]
  },
  {
   "cell_type": "code",
   "execution_count": 23,
   "metadata": {},
   "outputs": [
    {
     "name": "stdout",
     "output_type": "stream",
     "text": [
      "1 2 (3, 4, 5)\n"
     ]
    }
   ],
   "source": [
    "def foo(a, b, *vals):   # 引数を持つ関数を定義\n",
    "    print(a, b, vals)\n",
    "foo(1, 2, 3, 4, 5)      # 5つの数値を引数に指定して呼び出し"
   ]
  },
  {
   "cell_type": "code",
   "execution_count": 24,
   "metadata": {},
   "outputs": [
    {
     "ename": "TypeError",
     "evalue": "foo() got an unexpected keyword argument 'c'",
     "output_type": "error",
     "traceback": [
      "\u001b[1;31m---------------------------------------------------------------------------\u001b[0m",
      "\u001b[1;31mTypeError\u001b[0m                                 Traceback (most recent call last)",
      "\u001b[1;32m<ipython-input-24-3a66cded62b1>\u001b[0m in \u001b[0;36m<module>\u001b[1;34m\u001b[0m\n\u001b[1;32m----> 1\u001b[1;33m \u001b[0mfoo\u001b[0m\u001b[1;33m(\u001b[0m\u001b[1;36m1\u001b[0m\u001b[1;33m,\u001b[0m \u001b[1;36m2\u001b[0m\u001b[1;33m,\u001b[0m \u001b[0mc\u001b[0m\u001b[1;33m=\u001b[0m\u001b[1;36m3\u001b[0m\u001b[1;33m)\u001b[0m          \u001b[1;31m# cという未定義のキーワード引数を指定\u001b[0m\u001b[1;33m\u001b[0m\u001b[0m\n\u001b[0m",
      "\u001b[1;31mTypeError\u001b[0m: foo() got an unexpected keyword argument 'c'"
     ]
    }
   ],
   "source": [
    "foo(1, 2, c=3)          # cという未定義のキーワード引数を指定"
   ]
  },
  {
   "cell_type": "code",
   "execution_count": 25,
   "metadata": {},
   "outputs": [
    {
     "name": "stdout",
     "output_type": "stream",
     "text": [
      "1 2 {'c': 3, 'd': 4}\n"
     ]
    }
   ],
   "source": [
    "def bar(a, b, **args):    # **引数を持つ関数を定義\n",
    "    print(a, b, args)\n",
    "\n",
    "bar(1, 2, c=3, d=4)       # 未定義のキーワード引数を指定"
   ]
  },
  {
   "cell_type": "code",
   "execution_count": 26,
   "metadata": {},
   "outputs": [
    {
     "data": {
      "text/plain": [
       "[1, 2, 3, 4, 0]"
      ]
     },
     "execution_count": 26,
     "metadata": {},
     "output_type": "execute_result"
    }
   ],
   "source": [
    "def append_to(a_list, b_list=[]):\n",
    "    # 変更可能なオブジェクト(リスト)をデフォルト引数に持つ関数を定義\n",
    "    b_list.append(0)\n",
    "    return a_list+b_list\n",
    "\n",
    "list_1 = [1, 2, 3, 4]        # リストを定義\n",
    "# 第二引数を省略して関数を呼び出し\n",
    "list_2 = append_to(list_1)\n",
    "list_2     "
   ]
  },
  {
   "cell_type": "code",
   "execution_count": 27,
   "metadata": {},
   "outputs": [
    {
     "data": {
      "text/plain": [
       "[1, 2, 3, 4, 0, 0]"
      ]
     },
     "execution_count": 27,
     "metadata": {},
     "output_type": "execute_result"
    }
   ],
   "source": [
    "list_3 = append_to(list_1)   # 関数をもう一度呼び出す\n",
    "# 関数内の引数b_listにさらに0が追加されるので\n",
    "# 結果の末尾が[0, 0]になる\n",
    "list_3"
   ]
  },
  {
   "cell_type": "code",
   "execution_count": 28,
   "metadata": {},
   "outputs": [
    {
     "data": {
      "text/plain": [
       "[1, 2, 3, 4, 0, 0, 0]"
      ]
     },
     "execution_count": 28,
     "metadata": {},
     "output_type": "execute_result"
    }
   ],
   "source": [
    "list_3 = append_to(list_1)\n",
    "# 引数b_listにさらに0が追加されるため，結果がかわる\n",
    "list_3"
   ]
  },
  {
   "cell_type": "markdown",
   "metadata": {},
   "source": [
    "## str Japanese"
   ]
  },
  {
   "cell_type": "code",
   "execution_count": 29,
   "metadata": {},
   "outputs": [
    {
     "name": "stdout",
     "output_type": "stream",
     "text": [
      "1 49\n",
      "A 65\n",
      "Z 90\n",
      "a 97\n"
     ]
    }
   ],
   "source": [
    "# コンピュータの内部では，文字が対応する数値に置き換えられる\n",
    "s = \"1AZa\"\n",
    "for c in s:\n",
    "    print(c, ord(c))  # 文字に対応する数値を表示する"
   ]
  },
  {
   "cell_type": "code",
   "execution_count": 30,
   "metadata": {},
   "outputs": [
    {
     "name": "stdout",
     "output_type": "stream",
     "text": [
      "日 26085 101 229\n",
      "本 26412 103 44\n",
      "語 35486 138 158\n"
     ]
    }
   ],
   "source": [
    "# マルチバイト文字(UTF-8)のコードを表示する\n",
    "ms = \"日本語\"\n",
    "for c in ms:\n",
    "    print(c, ord(c), ord(c)//256, ord(c)%256)"
   ]
  },
  {
   "cell_type": "code",
   "execution_count": 31,
   "metadata": {},
   "outputs": [
    {
     "data": {
      "text/plain": [
       "5"
      ]
     },
     "execution_count": 31,
     "metadata": {},
     "output_type": "execute_result"
    }
   ],
   "source": [
    "s = \"あいうえお\"       # ひらがなを含む文字列を定義\n",
    "len(s)               # 長さを調べる"
   ]
  },
  {
   "cell_type": "code",
   "execution_count": 32,
   "metadata": {},
   "outputs": [
    {
     "data": {
      "text/plain": [
       "10"
      ]
     },
     "execution_count": 32,
     "metadata": {},
     "output_type": "execute_result"
    }
   ],
   "source": [
    "bs = s.encode('shift-jis') # 文字列型からバイト型に変換\n",
    "len(bs)              # 長さを調べる"
   ]
  },
  {
   "cell_type": "code",
   "execution_count": 33,
   "metadata": {},
   "outputs": [
    {
     "name": "stdout",
     "output_type": "stream",
     "text": [
      "b'\\x82\\xa0\\x82\\xa2\\x82\\xa4\\x82\\xa6\\x82\\xa8'\n"
     ]
    }
   ],
   "source": [
    "print(bs)            # バイト型をprint()する"
   ]
  },
  {
   "cell_type": "code",
   "execution_count": 34,
   "metadata": {},
   "outputs": [
    {
     "data": {
      "text/plain": [
       "'あ'"
      ]
     },
     "execution_count": 34,
     "metadata": {},
     "output_type": "execute_result"
    }
   ],
   "source": [
    "s[0]                 # インデックスで一文字目を取り出す"
   ]
  },
  {
   "cell_type": "code",
   "execution_count": 35,
   "metadata": {},
   "outputs": [
    {
     "data": {
      "text/plain": [
       "130"
      ]
     },
     "execution_count": 35,
     "metadata": {},
     "output_type": "execute_result"
    }
   ],
   "source": [
    "bs[0]                # バイト型の一文字目を取り出す"
   ]
  },
  {
   "cell_type": "code",
   "execution_count": 36,
   "metadata": {},
   "outputs": [
    {
     "name": "stdout",
     "output_type": "stream",
     "text": [
      "b'\\xa4\\xaf\\xa4\\xc3\\xa1\\xa2\\xbb\\xa6\\xa4\\xbb\\xa1\\xaa'\n"
     ]
    }
   ],
   "source": [
    "s = \"くっ、殺せ！\"                  # 文字列を定義\n",
    "bs = s.encode(\"euc-jp\", \"strict\") # エンコード(EUC-JP)を指定してエンコード，バイト型に変換\n",
    "print(bs)                         # バイト型の文字列を表示"
   ]
  },
  {
   "cell_type": "code",
   "execution_count": 37,
   "metadata": {},
   "outputs": [
    {
     "name": "stdout",
     "output_type": "stream",
     "text": [
      "くっくっくっ\n"
     ]
    }
   ],
   "source": [
    "# バイト型のリテラルを変数に代入\n",
    "bs = b'\\x82\\xad\\x82\\xc1\\x82\\xad\\x82\\xc1\\x82\\xad\\x82\\xc1'\n",
    "u = bs.decode('shift-jis', 'ignore') # エンコードを指定してデコード，文字列型の変換\n",
    "print(u)                             # 文字列を表示"
   ]
  },
  {
   "cell_type": "markdown",
   "metadata": {},
   "source": [
    "## file"
   ]
  },
  {
   "cell_type": "code",
   "execution_count": 40,
   "metadata": {},
   "outputs": [
    {
     "name": "stdout",
     "output_type": "stream",
     "text": [
      "人生はゼロから生まれゼロに戻るのだから、失敗しても何も損はしない\n"
     ]
    }
   ],
   "source": [
    "# ファイルを開く\n",
    "\n",
    "# コードを実行できるように，サンプルコードの同じ階層に\n",
    "# テキストファイルを設置してあります\n",
    "\n",
    "# ファイルを開いてファイルオブジェクトを得る\n",
    "f = open(\"foo.txt\", \"r\", encoding=\"utf-8\")\n",
    "s = f.read()           # ファイルの内容をすべて文字列に読み込む\n",
    "print(s)               # ファイルの内容を表示する\n",
    "f.close()"
   ]
  },
  {
   "cell_type": "code",
   "execution_count": 39,
   "metadata": {},
   "outputs": [],
   "source": [
    "f = open(\"newfile.txt\", \"w\", encoding=\"utf-8\")\n",
    "f.write(\"人生はゼロから生まれゼロに戻るのだから、失敗しても何も損はしない\")\n",
    "f.close()"
   ]
  },
  {
   "cell_type": "code",
   "execution_count": 41,
   "metadata": {},
   "outputs": [
    {
     "data": {
      "text/plain": [
       "'utf-8'"
      ]
     },
     "execution_count": 41,
     "metadata": {},
     "output_type": "execute_result"
    }
   ],
   "source": [
    "import sys    # sysモジュールをインポート\n",
    "# ファイルシステムのエンコーディングを表示する\n",
    "sys.getfilesystemencoding()"
   ]
  },
  {
   "cell_type": "code",
   "execution_count": 48,
   "metadata": {},
   "outputs": [
    {
     "data": {
      "text/plain": [
       "b'\\xd8\\xff\\xe0'"
      ]
     },
     "execution_count": 48,
     "metadata": {},
     "output_type": "execute_result"
    }
   ],
   "source": [
    "imgfile = open('someimage.png', 'rb')\n",
    "imgsrc = imgfile.read()\n",
    "if imgsrc[1:4] == b'PNG':\n",
    "    print('image/png')\n",
    "imgsrc[1:4]"
   ]
  },
  {
   "cell_type": "code",
   "execution_count": 49,
   "metadata": {},
   "outputs": [
    {
     "data": {
      "text/plain": [
       "b'PNG'"
      ]
     },
     "execution_count": 49,
     "metadata": {},
     "output_type": "execute_result"
    }
   ],
   "source": [
    "b'PNG'"
   ]
  },
  {
   "cell_type": "code",
   "execution_count": null,
   "metadata": {},
   "outputs": [],
   "source": [
    "import os\n",
    "if os.name =='nt':\n",
    "    print('Windows')\n",
    "elif os.name =='posix':\n",
    "    print('Unix')"
   ]
  }
 ],
 "metadata": {
  "kernelspec": {
   "display_name": "Python 3",
   "language": "python",
   "name": "python3"
  },
  "language_info": {
   "codemirror_mode": {
    "name": "ipython",
    "version": 3
   },
   "file_extension": ".py",
   "mimetype": "text/x-python",
   "name": "python",
   "nbconvert_exporter": "python",
   "pygments_lexer": "ipython3",
   "version": "3.7.0"
  }
 },
 "nbformat": 4,
 "nbformat_minor": 2
}
