{
 "cells": [
  {
   "cell_type": "markdown",
   "metadata": {},
   "source": [
    "# Chapter 03-01\n",
    "## Dictionary"
   ]
  },
  {
   "cell_type": "code",
   "execution_count": 1,
   "metadata": {},
   "outputs": [
    {
     "data": {
      "text/plain": [
       "'神奈川県'"
      ]
     },
     "execution_count": 1,
     "metadata": {},
     "output_type": "execute_result"
    }
   ],
   "source": [
    "# ニックネーム，出身地，キャッチフレーズをリストに登録\n",
    "purple = [\"れにちゃん\", \"神奈川県\", \"感電少女\"]\n",
    "\n",
    "# インデックスを使えば要素を取り出せるが\n",
    "# インデックスを覚えておく必要があり少し面倒\n",
    "purple[1]"
   ]
  },
  {
   "cell_type": "code",
   "execution_count": 2,
   "metadata": {},
   "outputs": [],
   "source": [
    "# 同じ内容をディクショナリに登録\n",
    "purple = {\"ニックネーム\": \"れにちゃん\",\n",
    "          \"出身地\": \"神奈川県\",\n",
    "          \"キャッチフレーズ\": \"感電少女\"}"
   ]
  },
  {
   "cell_type": "markdown",
   "metadata": {},
   "source": [
    "### key"
   ]
  },
  {
   "cell_type": "code",
   "execution_count": 3,
   "metadata": {},
   "outputs": [
    {
     "name": "stdout",
     "output_type": "stream",
     "text": [
      "神奈川県\n"
     ]
    }
   ],
   "source": [
    "# ディクショナリから出身地を取り出す\n",
    "print(purple[\"出身地\"])"
   ]
  },
  {
   "cell_type": "code",
   "execution_count": 4,
   "metadata": {},
   "outputs": [
    {
     "data": {
      "text/plain": [
       "{'ニックネーム': 'れにちゃん', '出身地': '神奈川県', 'キャッチフレーズ': '感電少女'}"
      ]
     },
     "execution_count": 4,
     "metadata": {},
     "output_type": "execute_result"
    }
   ],
   "source": [
    "# ディクショナリの内容を表示すると\n",
    "# 並び順が定義したときと変わっている\n",
    "# (ただしPython 3.5まで，3.6からは並び順が保存される)\n",
    "purple"
   ]
  },
  {
   "cell_type": "code",
   "execution_count": 5,
   "metadata": {},
   "outputs": [
    {
     "data": {
      "text/plain": [
       "{'ニックネーム': 'れにちゃん', '出身地': '神奈川県', 'キャッチフレーズ': '鋼少女'}"
      ]
     },
     "execution_count": 5,
     "metadata": {},
     "output_type": "execute_result"
    }
   ],
   "source": [
    "# キーを使って要素を入れ替え\n",
    "purple[\"キャッチフレーズ\"] = \"鋼少女\"\n",
    "purple            # ディクショナリを表示"
   ]
  },
  {
   "cell_type": "code",
   "execution_count": 6,
   "metadata": {},
   "outputs": [
    {
     "data": {
      "text/plain": [
       "{'ニックネーム': 'れにちゃん', '出身地': '神奈川県', 'キャッチフレーズ': '鋼少女', '生年月日': '1993年6月21日'}"
      ]
     },
     "execution_count": 6,
     "metadata": {},
     "output_type": "execute_result"
    }
   ],
   "source": [
    "# キーを使って新しい要素を追加\n",
    "purple[\"生年月日\"] = \"1993年6月21日\"\n",
    "purple            # ディクショナリを表示"
   ]
  },
  {
   "cell_type": "code",
   "execution_count": 7,
   "metadata": {},
   "outputs": [
    {
     "data": {
      "text/plain": [
       "{'出身地': '神奈川県', 'キャッチフレーズ': '鋼少女', '生年月日': '1993年6月21日'}"
      ]
     },
     "execution_count": 7,
     "metadata": {},
     "output_type": "execute_result"
    }
   ],
   "source": [
    "# キーを添えて要素を削除\n",
    "del purple[\"ニックネーム\"]\n",
    "purple            # ディクショナリを表示"
   ]
  },
  {
   "cell_type": "code",
   "execution_count": 8,
   "metadata": {},
   "outputs": [
    {
     "ename": "KeyError",
     "evalue": "'ニックネーム'",
     "output_type": "error",
     "traceback": [
      "\u001b[1;31m---------------------------------------------------------------------------\u001b[0m",
      "\u001b[1;31mKeyError\u001b[0m                                  Traceback (most recent call last)",
      "\u001b[1;32m<ipython-input-8-82b7cf984e3b>\u001b[0m in \u001b[0;36m<module>\u001b[1;34m\u001b[0m\n\u001b[0;32m      1\u001b[0m \u001b[1;31m# 存在しない(削除した)キーを参照しようとするとエラーになる\u001b[0m\u001b[1;33m\u001b[0m\u001b[1;33m\u001b[0m\u001b[0m\n\u001b[1;32m----> 2\u001b[1;33m \u001b[0mpurple\u001b[0m\u001b[1;33m[\u001b[0m\u001b[1;34m\"ニックネーム\"\u001b[0m\u001b[1;33m]\u001b[0m\u001b[1;33m\u001b[0m\u001b[0m\n\u001b[0m",
      "\u001b[1;31mKeyError\u001b[0m: 'ニックネーム'"
     ]
    }
   ],
   "source": [
    "# 存在しない(削除した)キーを参照しようとするとエラーになる\n",
    "purple[\"ニックネーム\"]"
   ]
  },
  {
   "cell_type": "code",
   "execution_count": 9,
   "metadata": {},
   "outputs": [],
   "source": [
    "# inを使ったキーの存在確認のサンプル\n",
    "def convert_number(num):\n",
    "    # アラビア数字をローマ数字に変換するプログラム\n",
    "    # アラビア数字とローマ数字の対応表をディクショナリに定義\n",
    "    roman_nums = {1:\"I\", 2:\"II\", 3:\"III\", 4:\"IV\", 5:\"V\",\n",
    "                  6:\"VI\", 7:\"VII\", 8:\"VIII\", 9:\"IX\"}\n",
    "    if num in roman_nums:\n",
    "        # ディクショナリのキーとして引数の整数が存在していたら\n",
    "        # キーに対応する値を戻り値にする\n",
    "        return roman_nums[num]\n",
    "    else:\n",
    "        return \"[変換できません]\""
   ]
  },
  {
   "cell_type": "code",
   "execution_count": 10,
   "metadata": {},
   "outputs": [
    {
     "data": {
      "text/plain": [
       "'III'"
      ]
     },
     "execution_count": 10,
     "metadata": {},
     "output_type": "execute_result"
    }
   ],
   "source": [
    "convert_number(3)   # 関数を呼び出してみる"
   ]
  },
  {
   "cell_type": "code",
   "execution_count": 11,
   "metadata": {},
   "outputs": [
    {
     "data": {
      "text/plain": [
       "'[変換できません]'"
      ]
     },
     "execution_count": 11,
     "metadata": {},
     "output_type": "execute_result"
    }
   ],
   "source": [
    "convert_number(11)"
   ]
  },
  {
   "cell_type": "code",
   "execution_count": 12,
   "metadata": {},
   "outputs": [
    {
     "name": "stdout",
     "output_type": "stream",
     "text": [
      "ニックネーム れにちゃん\n",
      "出身地 神奈川県\n",
      "キャッチフレーズ 感電少女\n",
      "生年月日 1993年6月21日\n"
     ]
    }
   ],
   "source": [
    "# ディクショナリをforに添えて，キーの一覧を取り出す\n",
    "purple = {\"ニックネーム\": \"れにちゃん\",\n",
    "          \"出身地\": \"神奈川県\",\n",
    "          \"キャッチフレーズ\": \"感電少女\",\n",
    "          \"生年月日\": \"1993年6月21日\"}\n",
    "for key in purple:           # キーをすべて取り出す\n",
    "    print(key, purple[key])  # キーと要素を表示"
   ]
  },
  {
   "cell_type": "markdown",
   "metadata": {},
   "source": [
    "## Set"
   ]
  },
  {
   "cell_type": "code",
   "execution_count": 13,
   "metadata": {},
   "outputs": [],
   "source": [
    "# setの例\n",
    "dice = {1, 2, 3, 4, 5, 6}\n",
    "coin = {\"表\", \"裏\"}"
   ]
  },
  {
   "cell_type": "code",
   "execution_count": 14,
   "metadata": {},
   "outputs": [
    {
     "data": {
      "text/plain": [
       "{1, 2, 3, 5, 7, 8, 13, 17}"
      ]
     },
     "execution_count": 14,
     "metadata": {},
     "output_type": "execute_result"
    }
   ],
   "source": [
    "prime = {2, 3, 5, 7, 13, 17}  # 素数のsetを定義\n",
    "fib = {1, 1, 2, 3, 5, 8, 13}  # フィボナッチ数のsetを定義\n",
    "\n",
    "prime_fib = prime | fib       # 2つの和集合を得る\n",
    "prime_fib                     # 得られた和集合を表示"
   ]
  },
  {
   "cell_type": "code",
   "execution_count": 15,
   "metadata": {},
   "outputs": [
    {
     "data": {
      "text/plain": [
       "{1, 3, 5}"
      ]
     },
     "execution_count": 15,
     "metadata": {},
     "output_type": "execute_result"
    }
   ],
   "source": [
    "dice = {1, 2, 3, 4, 5, 6}      # サイコロの目のsetを定義\n",
    "even = {2, 4, 6, 8, 10}        # 偶数のsetを定義\n",
    "\n",
    "odd_dice = dice - even         # サイコロの目と偶数の差集合をとる\n",
    "odd_dice                       # 奇数の目だけを表示する"
   ]
  },
  {
   "cell_type": "code",
   "execution_count": 16,
   "metadata": {},
   "outputs": [
    {
     "data": {
      "text/plain": [
       "{'秋田', '青森'}"
      ]
     },
     "execution_count": 16,
     "metadata": {},
     "output_type": "execute_result"
    }
   ],
   "source": [
    "prefs = {\"北海道\", \"青森\", \"秋田\", \"岩手\"}  # 県名のsetを定義\n",
    "capitals = {\"札幌\", \"青森\", \"秋田\", \"盛岡\"} # 県庁所在地のsetを定義\n",
    "\n",
    "pref_cap = prefs & capitals       # 2つの交わりを得る\n",
    "pref_cap                          # 得られた交わりを表示"
   ]
  },
  {
   "cell_type": "code",
   "execution_count": 17,
   "metadata": {},
   "outputs": [
    {
     "data": {
      "text/plain": [
       "{'北海道', '岩手', '札幌', '盛岡'}"
      ]
     },
     "execution_count": 17,
     "metadata": {},
     "output_type": "execute_result"
    }
   ],
   "source": [
    "prefs = {\"北海道\", \"青森\", \"秋田\", \"岩手\"}  # 県名のsetを定義\n",
    "capitals = {\"札幌\", \"青森\", \"秋田\", \"盛岡\"} # 県庁所在地のsetを定義\n",
    "\n",
    "pref_cap2 = prefs ^ capitals       # 2つの対象差を得る\n",
    "pref_cap2                          # 得られた対象差を表示"
   ]
  },
  {
   "cell_type": "code",
   "execution_count": 18,
   "metadata": {},
   "outputs": [
    {
     "name": "stdout",
     "output_type": "stream",
     "text": [
      "8 7\n"
     ]
    }
   ],
   "source": [
    "# setを使って文字列リストの重複を除去する\n",
    "# 文字列のリストを定義\n",
    "codon = ['ATG', 'GGC', 'TCC', 'AAG', 'TTC', 'TGG',\n",
    "         'GAC', 'TCC']\n",
    "s_codon = set(codon)   # リストをsetに変換\n",
    "print(len(codon), len(s_codon))    # リストとsetの長さを表示"
   ]
  },
  {
   "cell_type": "code",
   "execution_count": 19,
   "metadata": {},
   "outputs": [
    {
     "name": "stdout",
     "output_type": "stream",
     "text": [
      "13は素数で，フィボナッチ数でもある\n",
      "2, 3は素数で，フィボナッチ数でもある\n",
      "{13, 2, 3, 5}\n"
     ]
    }
   ],
   "source": [
    "# setで使える比較演算子の例\n",
    "prime = {2, 3, 5, 7, 13, 17}  # 素数のsetを定義\n",
    "fib = {1, 1, 2, 3, 5, 8, 13}  # フィボナッチ数のsetを定義\n",
    "\n",
    "prime_fib = prime & fib       # 2つの交わりを得る\n",
    "if 13 in prime_fib:\n",
    "    print(\"13は素数で，フィボナッチ数でもある\")\n",
    "if {2, 3} <= prime_fib:\n",
    "    print(\"2, 3は素数で，フィボナッチ数でもある\")\n",
    "print(prime_fib)"
   ]
  },
  {
   "cell_type": "markdown",
   "metadata": {},
   "source": [
    "## Tuple"
   ]
  },
  {
   "cell_type": "code",
   "execution_count": 20,
   "metadata": {},
   "outputs": [],
   "source": [
    "# 英語の月名をタプルで定義\n",
    "\n",
    "month_names = (\"January\", \"February\", \"March\", \"April\",\n",
    "               \"May\", \"June\", \"July\")"
   ]
  },
  {
   "cell_type": "code",
   "execution_count": 21,
   "metadata": {},
   "outputs": [
    {
     "data": {
      "text/plain": [
       "'February'"
      ]
     },
     "execution_count": 21,
     "metadata": {},
     "output_type": "execute_result"
    }
   ],
   "source": [
    "# インデックスで要素を取り出す\n",
    "month_names[1]   # 2月の名前を表示する"
   ]
  },
  {
   "cell_type": "code",
   "execution_count": 22,
   "metadata": {},
   "outputs": [
    {
     "ename": "TypeError",
     "evalue": "'tuple' object does not support item assignment",
     "output_type": "error",
     "traceback": [
      "\u001b[1;31m---------------------------------------------------------------------------\u001b[0m",
      "\u001b[1;31mTypeError\u001b[0m                                 Traceback (most recent call last)",
      "\u001b[1;32m<ipython-input-22-5aef648f44f7>\u001b[0m in \u001b[0;36m<module>\u001b[1;34m\u001b[0m\n\u001b[0;32m      1\u001b[0m \u001b[1;31m# タプルは要素の変更ができないため，以下のコードはエラーになる\u001b[0m\u001b[1;33m\u001b[0m\u001b[1;33m\u001b[0m\u001b[0m\n\u001b[1;32m----> 2\u001b[1;33m \u001b[0mmonth_names\u001b[0m\u001b[1;33m[\u001b[0m\u001b[1;36m0\u001b[0m\u001b[1;33m]\u001b[0m \u001b[1;33m=\u001b[0m \u001b[1;34m\"睦月\"\u001b[0m\u001b[1;33m\u001b[0m\u001b[0m\n\u001b[0m",
      "\u001b[1;31mTypeError\u001b[0m: 'tuple' object does not support item assignment"
     ]
    }
   ],
   "source": [
    "# タプルは要素の変更ができないため，以下のコードはエラーになる\n",
    "month_names[0] = \"睦月\""
   ]
  },
  {
   "cell_type": "code",
   "execution_count": 23,
   "metadata": {},
   "outputs": [
    {
     "data": {
      "text/plain": [
       "'December'"
      ]
     },
     "execution_count": 23,
     "metadata": {},
     "output_type": "execute_result"
    }
   ],
   "source": [
    "# タプルの連結\n",
    "month_names = month_names+(\"August\", \"September\", \"October\", \n",
    "                           \"November\", \"December\")\n",
    "month_names[11]   # 12月の英語名を表示"
   ]
  },
  {
   "cell_type": "code",
   "execution_count": 24,
   "metadata": {},
   "outputs": [],
   "source": [
    "# 県庁所在地と緯度/経度をディクショナリに登録\n",
    "# タプルの緯度/経度をキーにする\n",
    "pref_capitals = {(43.06417, 141.34694):\"北海道(札幌)\",\n",
    "                (40.82444, 140.74):\"青森県(青森市)\",\n",
    "                (39.70361, 141.1525):\"岩手県(盛岡市)\"}"
   ]
  },
  {
   "cell_type": "code",
   "execution_count": 25,
   "metadata": {},
   "outputs": [
    {
     "name": "stdout",
     "output_type": "stream",
     "text": [
      "岩手県(盛岡市)\n"
     ]
    }
   ],
   "source": [
    "# 緯度/経度を与えて該当する県庁所在地を調べる\n",
    "loc = (39.70361, 141.1525)    # 調べたい地点の緯度，経度\n",
    "for key in pref_capitals:     # キーでループ\n",
    "    if loc == key:\n",
    "        # 調べたい地点と辞書のキーが同じだった\n",
    "        print(pref_capitals[key])\n",
    "        break                 # ループを抜ける"
   ]
  },
  {
   "cell_type": "code",
   "execution_count": 26,
   "metadata": {},
   "outputs": [
    {
     "name": "stdout",
     "output_type": "stream",
     "text": [
      "青森県(青森市)\n"
     ]
    }
   ],
   "source": [
    "# 緯度/経度を与えて最寄りの県庁所在地を調べる\n",
    "loc = (41.768793, 140.72881)  # 調べたい地点の緯度，経度\n",
    "nearest_cap = ''              # 最寄りの県庁所在地名を保存する変数\n",
    "nearest_dist = 10000          # 最寄りの地点までの距離を保存する変数\n",
    "for key in pref_capitals:     # キーでループ\n",
    "    # 緯度経度の差を二乗して距離を計算\n",
    "    dist = (loc[0]-key[0])**2+(loc[1]-key[1])**2\n",
    "    if nearest_dist > dist:\n",
    "        # より近い地点が見つかったので，変数を入れ替え\n",
    "        nearest_dist = dist\n",
    "        nearest_cap = pref_capitals[key]\n",
    "\n",
    "print(nearest_cap)"
   ]
  },
  {
   "cell_type": "code",
   "execution_count": 27,
   "metadata": {},
   "outputs": [
    {
     "data": {
      "text/plain": [
       "41.768793"
      ]
     },
     "execution_count": 27,
     "metadata": {},
     "output_type": "execute_result"
    }
   ],
   "source": [
    "loc[0]"
   ]
  },
  {
   "cell_type": "code",
   "execution_count": 28,
   "metadata": {},
   "outputs": [
    {
     "data": {
      "text/plain": [
       "140.72881"
      ]
     },
     "execution_count": 28,
     "metadata": {},
     "output_type": "execute_result"
    }
   ],
   "source": [
    "loc[1]"
   ]
  },
  {
   "cell_type": "code",
   "execution_count": 29,
   "metadata": {},
   "outputs": [
    {
     "data": {
      "text/plain": [
       "{(43.06417, 141.34694): '北海道(札幌)',\n",
       " (40.82444, 140.74): '青森県(青森市)',\n",
       " (39.70361, 141.1525): '岩手県(盛岡市)'}"
      ]
     },
     "execution_count": 29,
     "metadata": {},
     "output_type": "execute_result"
    }
   ],
   "source": [
    "pref_capitals"
   ]
  },
  {
   "cell_type": "code",
   "execution_count": 30,
   "metadata": {},
   "outputs": [
    {
     "data": {
      "text/plain": [
       "'北海道(札幌)'"
      ]
     },
     "execution_count": 30,
     "metadata": {},
     "output_type": "execute_result"
    }
   ],
   "source": [
    "pref_capitals[(43.06417, 141.34694)]"
   ]
  },
  {
   "cell_type": "code",
   "execution_count": 31,
   "metadata": {},
   "outputs": [
    {
     "ename": "KeyError",
     "evalue": "'北海道(札幌)'",
     "output_type": "error",
     "traceback": [
      "\u001b[1;31m---------------------------------------------------------------------------\u001b[0m",
      "\u001b[1;31mKeyError\u001b[0m                                  Traceback (most recent call last)",
      "\u001b[1;32m<ipython-input-31-0abe30f57edd>\u001b[0m in \u001b[0;36m<module>\u001b[1;34m\u001b[0m\n\u001b[1;32m----> 1\u001b[1;33m \u001b[0mpref_capitals\u001b[0m\u001b[1;33m[\u001b[0m\u001b[1;33m(\u001b[0m\u001b[1;34m'北海道(札幌)'\u001b[0m\u001b[1;33m)\u001b[0m\u001b[1;33m]\u001b[0m\u001b[1;33m\u001b[0m\u001b[0m\n\u001b[0m",
      "\u001b[1;31mKeyError\u001b[0m: '北海道(札幌)'"
     ]
    }
   ],
   "source": [
    "pref_capitals[('北海道(札幌)')]"
   ]
  },
  {
   "cell_type": "markdown",
   "metadata": {},
   "source": [
    "## If"
   ]
  },
  {
   "cell_type": "code",
   "execution_count": 32,
   "metadata": {},
   "outputs": [
    {
     "data": {
      "text/plain": [
       "True"
      ]
     },
     "execution_count": 32,
     "metadata": {},
     "output_type": "execute_result"
    }
   ],
   "source": [
    "# 比較式では，結果によって，True(真)，False(偽)が返ってきます\n",
    "\n",
    "1+1 == 2          # 計算式と数値の比較1"
   ]
  },
  {
   "cell_type": "code",
   "execution_count": 33,
   "metadata": {},
   "outputs": [
    {
     "data": {
      "text/plain": [
       "True"
      ]
     },
     "execution_count": 33,
     "metadata": {},
     "output_type": "execute_result"
    }
   ],
   "source": [
    "5**(4-4)+9 == 10  # 計算式と数値の比較2"
   ]
  },
  {
   "cell_type": "code",
   "execution_count": 34,
   "metadata": {},
   "outputs": [
    {
     "data": {
      "text/plain": [
       "True"
      ]
     },
     "execution_count": 34,
     "metadata": {},
     "output_type": "execute_result"
    }
   ],
   "source": [
    "5**(4-4)+9 == 10  # 計算式と数値の比較2"
   ]
  },
  {
   "cell_type": "code",
   "execution_count": 35,
   "metadata": {},
   "outputs": [
    {
     "data": {
      "text/plain": [
       "True"
      ]
     },
     "execution_count": 35,
     "metadata": {},
     "output_type": "execute_result"
    }
   ],
   "source": [
    "5 > 2             # 数値の大小の比較"
   ]
  },
  {
   "cell_type": "code",
   "execution_count": 36,
   "metadata": {},
   "outputs": [
    {
     "data": {
      "text/plain": [
       "True"
      ]
     },
     "execution_count": 36,
     "metadata": {},
     "output_type": "execute_result"
    }
   ],
   "source": [
    "100 == 100.0      # 整数と浮動小数点数の比較"
   ]
  },
  {
   "cell_type": "code",
   "execution_count": 37,
   "metadata": {},
   "outputs": [
    {
     "data": {
      "text/plain": [
       "True"
      ]
     },
     "execution_count": 37,
     "metadata": {},
     "output_type": "execute_result"
    }
   ],
   "source": [
    "\"かなこ\" != \"かなこぉ↑↑\" # 文字列の比較"
   ]
  },
  {
   "cell_type": "code",
   "execution_count": 38,
   "metadata": {},
   "outputs": [
    {
     "data": {
      "text/plain": [
       "True"
      ]
     },
     "execution_count": 38,
     "metadata": {},
     "output_type": "execute_result"
    }
   ],
   "source": [
    "[1, 2, 3] == [1, 2, 3]  # リストとリストの比較"
   ]
  },
  {
   "cell_type": "code",
   "execution_count": 39,
   "metadata": {},
   "outputs": [
    {
     "ename": "TypeError",
     "evalue": "'<' not supported between instances of 'int' and 'str'",
     "output_type": "error",
     "traceback": [
      "\u001b[1;31m---------------------------------------------------------------------------\u001b[0m",
      "\u001b[1;31mTypeError\u001b[0m                                 Traceback (most recent call last)",
      "\u001b[1;32m<ipython-input-39-bbe1d8976cb0>\u001b[0m in \u001b[0;36m<module>\u001b[1;34m\u001b[0m\n\u001b[0;32m      1\u001b[0m \u001b[1;31m# Python(3)では違う型の比較が実行できない\u001b[0m\u001b[1;33m\u001b[0m\u001b[1;33m\u001b[0m\u001b[0m\n\u001b[0;32m      2\u001b[0m \u001b[1;33m\u001b[0m\u001b[0m\n\u001b[1;32m----> 3\u001b[1;33m \u001b[1;36m1\u001b[0m \u001b[1;33m<\u001b[0m \u001b[1;34m\"2\"\u001b[0m    \u001b[1;31m# エラーになります\u001b[0m\u001b[1;33m\u001b[0m\u001b[0m\n\u001b[0m",
      "\u001b[1;31mTypeError\u001b[0m: '<' not supported between instances of 'int' and 'str'"
     ]
    }
   ],
   "source": [
    "# Python(3)では違う型の比較が実行できない\n",
    "\n",
    "1 < \"2\"    # エラーになります"
   ]
  },
  {
   "cell_type": "code",
   "execution_count": 40,
   "metadata": {},
   "outputs": [
    {
     "data": {
      "text/plain": [
       "True"
      ]
     },
     "execution_count": 40,
     "metadata": {},
     "output_type": "execute_result"
    }
   ],
   "source": [
    "# 文字列を明示的に数値に変換して比較するのがPython流\n",
    "1 < int(\"2\")"
   ]
  },
  {
   "cell_type": "code",
   "execution_count": 41,
   "metadata": {},
   "outputs": [
    {
     "data": {
      "text/plain": [
       "True"
      ]
     },
     "execution_count": 41,
     "metadata": {},
     "output_type": "execute_result"
    }
   ],
   "source": [
    "# 文字列どうしの比較(大小)\n",
    "\"100\" < \"200\"    # 一見期待通りの結果が返ってきているようだが"
   ]
  },
  {
   "cell_type": "code",
   "execution_count": 42,
   "metadata": {},
   "outputs": [
    {
     "data": {
      "text/plain": [
       "True"
      ]
     },
     "execution_count": 42,
     "metadata": {},
     "output_type": "execute_result"
    }
   ],
   "source": [
    "\"100\" < \"2\"      # (内部的に)文字列を数値にして比較しているわけではない"
   ]
  },
  {
   "cell_type": "code",
   "execution_count": 43,
   "metadata": {},
   "outputs": [
    {
     "name": "stdout",
     "output_type": "stream",
     "text": [
      "月とお友達です\n"
     ]
    }
   ],
   "source": [
    "# 地球上から水平に打ち出した物体が速度(v)によって\n",
    "# どのような振る舞いをするかを調べる\n",
    "v = 30000                   # 打ち出し速度(Km/h)\n",
    "if v < 28400:              # 第一宇宙速度以下\n",
    "    print(\"地上に落下します\")\n",
    "if v >= 28400 and v < 40300: # 第一宇宙速度以上\n",
    "    print(\"月とお友達です\")\n",
    "if v >= 40300 and v < 60100: # 第二宇宙速度以上\n",
    "    print(\"惑星の仲間入りです\")\n",
    "if v >= 60100:               # 第三宇宙速度以上\n",
    "    print(\"アルファケンタウリを目指せ\")"
   ]
  },
  {
   "cell_type": "markdown",
   "metadata": {},
   "source": [
    "## Loop"
   ]
  },
  {
   "cell_type": "code",
   "execution_count": 44,
   "metadata": {},
   "outputs": [
    {
     "name": "stdout",
     "output_type": "stream",
     "text": [
      "1\n",
      "2\n",
      "Fizz\n",
      "4\n",
      "Buzz\n",
      "Fizz\n",
      "7\n",
      "8\n",
      "Fizz\n",
      "Buzz\n",
      "11\n",
      "Fizz\n",
      "13\n",
      "14\n",
      "FizzBuzz\n",
      "16\n",
      "17\n",
      "Fizz\n",
      "19\n",
      "Buzz\n",
      "Fizz\n",
      "22\n",
      "23\n",
      "Fizz\n",
      "Buzz\n",
      "26\n",
      "Fizz\n",
      "28\n",
      "29\n",
      "FizzBuzz\n",
      "31\n",
      "32\n",
      "Fizz\n",
      "34\n",
      "Buzz\n",
      "Fizz\n",
      "37\n",
      "38\n",
      "Fizz\n",
      "Buzz\n",
      "41\n",
      "Fizz\n",
      "43\n",
      "44\n",
      "FizzBuzz\n",
      "46\n",
      "47\n",
      "Fizz\n",
      "49\n",
      "Buzz\n",
      "Fizz\n",
      "52\n",
      "53\n",
      "Fizz\n",
      "Buzz\n",
      "56\n",
      "Fizz\n",
      "58\n",
      "59\n",
      "FizzBuzz\n",
      "61\n",
      "62\n",
      "Fizz\n",
      "64\n",
      "Buzz\n",
      "Fizz\n",
      "67\n",
      "68\n",
      "Fizz\n",
      "Buzz\n",
      "71\n",
      "Fizz\n",
      "73\n",
      "74\n",
      "FizzBuzz\n",
      "76\n",
      "77\n",
      "Fizz\n",
      "79\n",
      "Buzz\n",
      "Fizz\n",
      "82\n",
      "83\n",
      "Fizz\n",
      "Buzz\n",
      "86\n",
      "Fizz\n",
      "88\n",
      "89\n",
      "FizzBuzz\n",
      "91\n",
      "92\n",
      "Fizz\n",
      "94\n",
      "Buzz\n",
      "Fizz\n",
      "97\n",
      "98\n",
      "Fizz\n",
      "Buzz\n"
     ]
    }
   ],
   "source": [
    "# whileを使ってfizzbuzz問題を解く\n",
    "cnt = 1         # ループカウンタを初期化\n",
    "while cnt <= 100:         # 1から100まで繰り返し\n",
    "    if cnt%3 == 0 and cnt%5 == 0:\n",
    "        print(\"FizzBuzz\") # 3で割り切れ，かつ5でも割り切れる\n",
    "    elif cnt%3 == 0:\n",
    "        print(\"Fizz\")     # 3で割り切れる\n",
    "    elif cnt%5 == 0:\n",
    "        print(\"Buzz\")     # 5で割り切れる\n",
    "    else:\n",
    "        print(cnt)        # 数値を表示する\n",
    "    cnt = cnt+1           # カウンタを1増やす"
   ]
  },
  {
   "cell_type": "code",
   "execution_count": 45,
   "metadata": {},
   "outputs": [
    {
     "name": "stdout",
     "output_type": "stream",
     "text": [
      "0:グー 1:チョキ 2:パー 3:やめる3\n"
     ]
    }
   ],
   "source": [
    "# じゃんけんプログラム\n",
    "from random import randint              # 乱数を作る関数を読み込む\n",
    "hands = {0:\"グー\", 1:\"チョキ\", 2:\"パー\"}  # じゃんけんの手\n",
    "# 勝ち負けのルール\n",
    "rules = {(0, 0):\"あいこ\", (0, 1):\"勝ち\",   (0, 2):\"負け\",   \n",
    "         (1, 0):\"負け\",   (1, 1):\"あいこ\", (1, 2):\"勝ち\",\n",
    "         (2, 0):\"勝ち\",   (2, 1):\"負け\",   (2, 2):\"あいこ\"}\n",
    "\n",
    "while True:\n",
    "    # じゃんけんのループ\n",
    "    pc_hand = randint(0, 2)             # 乱数で手を決める\n",
    "    user_hand_str = input(\"0:グー 1:チョキ 2:パー 3:やめる\")\n",
    "    if user_hand_str == \"3\":\n",
    "        # 終了の数値が入力されたので，ループを抜ける\n",
    "        break\n",
    "    if user_hand_str not in (\"0\", \"1\", \"2\"):\n",
    "        # 不正な入力の場合，ループの先頭に戻る\n",
    "        print(\"Input 0, 1, 2, 3\")\n",
    "        continue\n",
    "    user_hand = int(user_hand_str)     # ユーザの手を数値に変換\n",
    "    # 手を表示する\n",
    "    print(\"あなた\"+hands[user_hand]+\"，コンピュータ:\"+hands[pc_hand])\n",
    "    # 勝ち負けを表示する\n",
    "    print(rules[(user_hand, pc_hand)])"
   ]
  },
  {
   "cell_type": "code",
   "execution_count": 46,
   "metadata": {},
   "outputs": [
    {
     "name": "stdout",
     "output_type": "stream",
     "text": [
      "59 は素数です\n"
     ]
    }
   ],
   "source": [
    "# 素数を調べるプログラム\n",
    "# elseを使って素数のケースでも結果を表示する\n",
    "a_num = 59            # 素数かどうかを調べる数\n",
    "for num in range(2, a_num):  # 2からa_num-1まで繰り返す\n",
    "    if a_num % num == 0:     # a_numをnumで割り切れるか\n",
    "        print(a_num, \"は素数ではありません\")\n",
    "        break\n",
    "else:\n",
    "    # break文を一度も通らないでループが終了した\n",
    "    print(a_num, \"は素数です\")"
   ]
  },
  {
   "cell_type": "markdown",
   "metadata": {},
   "source": [
    "## Function"
   ]
  },
  {
   "cell_type": "code",
   "execution_count": 47,
   "metadata": {},
   "outputs": [
    {
     "data": {
      "text/plain": [
       "42"
      ]
     },
     "execution_count": 47,
     "metadata": {},
     "output_type": "execute_result"
    }
   ],
   "source": [
    "# 関数の呼び出し，引数，戻り値の復習\n",
    "int(\"101010\", 2)       # 二進数相当の文字列を数値に変換"
   ]
  },
  {
   "cell_type": "code",
   "execution_count": 48,
   "metadata": {},
   "outputs": [
    {
     "data": {
      "text/plain": [
       "101010"
      ]
     },
     "execution_count": 48,
     "metadata": {},
     "output_type": "execute_result"
    }
   ],
   "source": [
    "# 第二引数を与えないと，暗黙に10が渡される\n",
    "int(\"101010\")"
   ]
  },
  {
   "cell_type": "code",
   "execution_count": 49,
   "metadata": {},
   "outputs": [],
   "source": [
    "def fizzbuzz(count=100, fizzmod=3, buzzmod=5):\n",
    "    \"\"\"\n",
    "    FizzBuzz問題を解く関数\n",
    "    繰り返し数，Fizz,Buzzを表示するタイミングを指定する\n",
    "    (これがdocstring/ドックストリングです)\n",
    "    \"\"\"\n",
    "    for cnt in range(1, count+1):             # count回繰り返し\n",
    "        if cnt%fizzmod == 0 and cnt%buzzmod == 0:\n",
    "            # fizzmodでもbuzzmod でも割り切れる\n",
    "            print(\"FizzBuzz\")\n",
    "        elif cnt%fizzmod == 0:\n",
    "            # fizzmodで割り切れる\n",
    "            print(\"Fizz\")\n",
    "        elif cnt%buzzmod == 0:\n",
    "            # buzzmodで割り切れる\n",
    "            print(\"Buzz\")\n",
    "        else:\n",
    "            # 数値を表示する\n",
    "            print(cnt)"
   ]
  },
  {
   "cell_type": "code",
   "execution_count": 50,
   "metadata": {},
   "outputs": [
    {
     "name": "stdout",
     "output_type": "stream",
     "text": [
      "1\n",
      "Fizz\n",
      "3\n",
      "Fizz\n",
      "5\n",
      "Fizz\n",
      "Buzz\n",
      "Fizz\n",
      "9\n",
      "Fizz\n",
      "11\n",
      "Fizz\n",
      "13\n",
      "FizzBuzz\n",
      "15\n",
      "Fizz\n",
      "17\n",
      "Fizz\n",
      "19\n",
      "Fizz\n",
      "Buzz\n",
      "Fizz\n",
      "23\n",
      "Fizz\n",
      "25\n",
      "Fizz\n",
      "27\n",
      "FizzBuzz\n",
      "29\n",
      "Fizz\n",
      "31\n",
      "Fizz\n",
      "33\n",
      "Fizz\n",
      "Buzz\n",
      "Fizz\n",
      "37\n",
      "Fizz\n",
      "39\n",
      "Fizz\n",
      "41\n",
      "FizzBuzz\n",
      "43\n",
      "Fizz\n",
      "45\n",
      "Fizz\n",
      "47\n",
      "Fizz\n",
      "Buzz\n",
      "Fizz\n"
     ]
    }
   ],
   "source": [
    "# 関数を呼び出してみる\n",
    "fizzbuzz(50, 2, 7)"
   ]
  },
  {
   "cell_type": "code",
   "execution_count": 54,
   "metadata": {},
   "outputs": [
    {
     "ename": "TypeError",
     "evalue": "'x' is an invalid keyword argument for int()",
     "output_type": "error",
     "traceback": [
      "\u001b[1;31m---------------------------------------------------------------------------\u001b[0m",
      "\u001b[1;31mTypeError\u001b[0m                                 Traceback (most recent call last)",
      "\u001b[1;32m<ipython-input-54-713471c3bf0e>\u001b[0m in \u001b[0;36m<module>\u001b[1;34m\u001b[0m\n\u001b[0;32m      1\u001b[0m \u001b[1;31m# キーワードを指定して引数の順番を入れ替えて見る\u001b[0m\u001b[1;33m\u001b[0m\u001b[1;33m\u001b[0m\u001b[0m\n\u001b[1;32m----> 2\u001b[1;33m \u001b[0mint\u001b[0m\u001b[1;33m(\u001b[0m\u001b[0mbase\u001b[0m\u001b[1;33m=\u001b[0m\u001b[1;36m2\u001b[0m\u001b[1;33m,\u001b[0m \u001b[0mx\u001b[0m\u001b[1;33m=\u001b[0m\u001b[1;34m\"1010\"\u001b[0m\u001b[1;33m)\u001b[0m  \u001b[1;31m# int(\"1010\", 2)と同じ\u001b[0m\u001b[1;33m\u001b[0m\u001b[0m\n\u001b[0m",
      "\u001b[1;31mTypeError\u001b[0m: 'x' is an invalid keyword argument for int()"
     ]
    }
   ],
   "source": [
    "# キーワードを指定して引数の順番を入れ替えて見る\n",
    "int(base=2, x=\"1010\")  # int(\"1010\", 2)と同じ"
   ]
  },
  {
   "cell_type": "code",
   "execution_count": 52,
   "metadata": {},
   "outputs": [
    {
     "name": "stdout",
     "output_type": "stream",
     "text": [
      "test_func()の中 = 200\n",
      "test_func()の外 = 1\n"
     ]
    }
   ],
   "source": [
    "# ローカル変数の挙動を確認\n",
    "local_var = 1\n",
    "\n",
    "def test_func(an_arg):\n",
    "    local_var = an_arg\n",
    "    print(\"test_func()の中 =\", local_var)\n",
    "\n",
    "test_func(200)\n",
    "print(\"test_func()の外 =\", local_var)"
   ]
  },
  {
   "cell_type": "code",
   "execution_count": null,
   "metadata": {},
   "outputs": [],
   "source": []
  }
 ],
 "metadata": {
  "kernelspec": {
   "display_name": "Python 3",
   "language": "python",
   "name": "python3"
  },
  "language_info": {
   "codemirror_mode": {
    "name": "ipython",
    "version": 3
   },
   "file_extension": ".py",
   "mimetype": "text/x-python",
   "name": "python",
   "nbconvert_exporter": "python",
   "pygments_lexer": "ipython3",
   "version": "3.7.0"
  }
 },
 "nbformat": 4,
 "nbformat_minor": 2
}
