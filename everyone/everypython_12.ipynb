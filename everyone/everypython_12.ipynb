{
 "cells": [
  {
   "cell_type": "markdown",
   "metadata": {},
   "source": [
    "# Chapter 12\n",
    "## NumPy & matplotlib"
   ]
  },
  {
   "cell_type": "code",
   "execution_count": 1,
   "metadata": {},
   "outputs": [],
   "source": [
    "# 反応テストの実験データを読み込む\n",
    "import numpy as np       # numpyをインポート\n",
    "# ファイルからデータを読み込む\n",
    "reactions_in_ms = np.loadtxt('reactions.txt')"
   ]
  },
  {
   "cell_type": "code",
   "execution_count": 2,
   "metadata": {},
   "outputs": [
    {
     "name": "stdout",
     "output_type": "stream",
     "text": [
      "1000\n",
      "[664. 481. 511. 612. 526. 498. 441. 447. 685. 477. 525. 686. 685. 485.\n",
      " 525. 704. 631. 464. 576. 514.]\n"
     ]
    }
   ],
   "source": [
    "# データの概要を表示する\n",
    "print(reactions_in_ms.size)      # 要素数を表示\n",
    "print(reactions_in_ms[:20])       # 先頭から20個の要素を表示"
   ]
  },
  {
   "cell_type": "code",
   "execution_count": 3,
   "metadata": {},
   "outputs": [
    {
     "name": "stdout",
     "output_type": "stream",
     "text": [
      "[0.664 0.481 0.511 0.612 0.526 0.498 0.441 0.447 0.685 0.477 0.525 0.686\n",
      " 0.685 0.485 0.525 0.704 0.631 0.464 0.576 0.514]\n"
     ]
    }
   ],
   "source": [
    "# ミリ秒を秒に直す\n",
    "reactions_in_sec = reactions_in_ms/1000\n",
    "print(reactions_in_sec[:20])            # 先頭から20個の要素を表示"
   ]
  },
  {
   "cell_type": "code",
   "execution_count": 4,
   "metadata": {},
   "outputs": [
    {
     "name": "stdout",
     "output_type": "stream",
     "text": [
      "平均値 : 0.492834\n",
      "中央値 : 0.478\n",
      "標準偏差 : 0.10190053210852237\n",
      "最小値 : 0.251\n",
      "最大値 : 0.843\n"
     ]
    }
   ],
   "source": [
    "# 基本統計量を表示してデータの概略を確認する\n",
    "print(\"平均値 :\", np.mean(reactions_in_sec))\n",
    "print(\"中央値 :\", np.median(reactions_in_sec))\n",
    "print(\"標準偏差 :\", np.std(reactions_in_sec))\n",
    "print(\"最小値 :\", np.min(reactions_in_sec))\n",
    "print(\"最大値 :\", np.max(reactions_in_sec))"
   ]
  },
  {
   "cell_type": "code",
   "execution_count": 5,
   "metadata": {},
   "outputs": [
    {
     "data": {
      "text/html": [
       "<div>\n",
       "<style scoped>\n",
       "    .dataframe tbody tr th:only-of-type {\n",
       "        vertical-align: middle;\n",
       "    }\n",
       "\n",
       "    .dataframe tbody tr th {\n",
       "        vertical-align: top;\n",
       "    }\n",
       "\n",
       "    .dataframe thead th {\n",
       "        text-align: right;\n",
       "    }\n",
       "</style>\n",
       "<table border=\"1\" class=\"dataframe\">\n",
       "  <thead>\n",
       "    <tr style=\"text-align: right;\">\n",
       "      <th></th>\n",
       "      <th>0</th>\n",
       "    </tr>\n",
       "  </thead>\n",
       "  <tbody>\n",
       "    <tr>\n",
       "      <th>0</th>\n",
       "      <td>0.664</td>\n",
       "    </tr>\n",
       "    <tr>\n",
       "      <th>1</th>\n",
       "      <td>0.481</td>\n",
       "    </tr>\n",
       "    <tr>\n",
       "      <th>2</th>\n",
       "      <td>0.511</td>\n",
       "    </tr>\n",
       "    <tr>\n",
       "      <th>3</th>\n",
       "      <td>0.612</td>\n",
       "    </tr>\n",
       "    <tr>\n",
       "      <th>4</th>\n",
       "      <td>0.526</td>\n",
       "    </tr>\n",
       "  </tbody>\n",
       "</table>\n",
       "</div>"
      ],
      "text/plain": [
       "       0\n",
       "0  0.664\n",
       "1  0.481\n",
       "2  0.511\n",
       "3  0.612\n",
       "4  0.526"
      ]
     },
     "execution_count": 5,
     "metadata": {},
     "output_type": "execute_result"
    }
   ],
   "source": [
    "# pandasを使ってデータの概要を表示する\n",
    "import pandas as pd\n",
    "reactions_df = pd.DataFrame(reactions_in_sec)\n",
    "reactions_df.head()       # データの概要を表示"
   ]
  },
  {
   "cell_type": "code",
   "execution_count": 6,
   "metadata": {},
   "outputs": [
    {
     "data": {
      "text/html": [
       "<div>\n",
       "<style scoped>\n",
       "    .dataframe tbody tr th:only-of-type {\n",
       "        vertical-align: middle;\n",
       "    }\n",
       "\n",
       "    .dataframe tbody tr th {\n",
       "        vertical-align: top;\n",
       "    }\n",
       "\n",
       "    .dataframe thead th {\n",
       "        text-align: right;\n",
       "    }\n",
       "</style>\n",
       "<table border=\"1\" class=\"dataframe\">\n",
       "  <thead>\n",
       "    <tr style=\"text-align: right;\">\n",
       "      <th></th>\n",
       "      <th>0</th>\n",
       "    </tr>\n",
       "  </thead>\n",
       "  <tbody>\n",
       "    <tr>\n",
       "      <th>count</th>\n",
       "      <td>1000.000000</td>\n",
       "    </tr>\n",
       "    <tr>\n",
       "      <th>mean</th>\n",
       "      <td>0.492834</td>\n",
       "    </tr>\n",
       "    <tr>\n",
       "      <th>std</th>\n",
       "      <td>0.101952</td>\n",
       "    </tr>\n",
       "    <tr>\n",
       "      <th>min</th>\n",
       "      <td>0.251000</td>\n",
       "    </tr>\n",
       "    <tr>\n",
       "      <th>25%</th>\n",
       "      <td>0.417000</td>\n",
       "    </tr>\n",
       "    <tr>\n",
       "      <th>50%</th>\n",
       "      <td>0.478000</td>\n",
       "    </tr>\n",
       "    <tr>\n",
       "      <th>75%</th>\n",
       "      <td>0.559000</td>\n",
       "    </tr>\n",
       "    <tr>\n",
       "      <th>max</th>\n",
       "      <td>0.843000</td>\n",
       "    </tr>\n",
       "  </tbody>\n",
       "</table>\n",
       "</div>"
      ],
      "text/plain": [
       "                 0\n",
       "count  1000.000000\n",
       "mean      0.492834\n",
       "std       0.101952\n",
       "min       0.251000\n",
       "25%       0.417000\n",
       "50%       0.478000\n",
       "75%       0.559000\n",
       "max       0.843000"
      ]
     },
     "execution_count": 6,
     "metadata": {},
     "output_type": "execute_result"
    }
   ],
   "source": [
    "reactions_df.describe()   # データの平均，標準偏差などを表示"
   ]
  },
  {
   "cell_type": "code",
   "execution_count": 7,
   "metadata": {},
   "outputs": [
    {
     "data": {
      "image/png": "[encoded data removed]",
      "text/plain": [
       "<Figure size 432x288 with 1 Axes>"
      ]
     },
     "metadata": {
      "needs_background": "light"
     },
     "output_type": "display_data"
    }
   ],
   "source": [
    "%matplotlib inline\n",
    "import matplotlib.pyplot as plt # matplotlibをインポートする\n",
    "h = plt.hist(reactions_in_sec)  # ヒストグラムを描く"
   ]
  },
  {
   "cell_type": "markdown",
   "metadata": {},
   "source": [
    "## Numpy"
   ]
  },
  {
   "cell_type": "code",
   "execution_count": 8,
   "metadata": {},
   "outputs": [
    {
     "data": {
      "text/plain": [
       "array([0, 1, 2, 3])"
      ]
     },
     "execution_count": 8,
     "metadata": {},
     "output_type": "execute_result"
    }
   ],
   "source": [
    "import numpy as np         # NumPyをインポート\n",
    "a = np.array([0, 1, 2, 3]) # arrayを作る\n",
    "a                          # arrayを表示"
   ]
  },
  {
   "cell_type": "code",
   "execution_count": 9,
   "metadata": {},
   "outputs": [
    {
     "data": {
      "text/plain": [
       "array([[0, 0, 0],\n",
       "       [0, 0, 0],\n",
       "       [0, 0, 0]])"
      ]
     },
     "execution_count": 9,
     "metadata": {},
     "output_type": "execute_result"
    }
   ],
   "source": [
    "# 二次元のarrayを表示\n",
    "b = np.array([[0, 0, 0], [0, 0, 0], [0, 0, 0]])\n",
    "\n",
    "b"
   ]
  },
  {
   "cell_type": "code",
   "execution_count": 10,
   "metadata": {},
   "outputs": [
    {
     "name": "stdout",
     "output_type": "stream",
     "text": [
      "2\n",
      "(3, 3)\n",
      "9\n",
      "int32\n"
     ]
    }
   ],
   "source": [
    "# arrayのアトリビュートを表示\n",
    "print(b.ndim)       # 次元数\n",
    "print(b.shape)      # 各次元の要素数\n",
    "print(b.size)       # サイズ\n",
    "print(b.dtype)      # 型"
   ]
  },
  {
   "cell_type": "code",
   "execution_count": 11,
   "metadata": {},
   "outputs": [
    {
     "data": {
      "text/plain": [
       "array([[0., 0., 0.],\n",
       "       [0., 0., 0.],\n",
       "       [0., 0., 0.]])"
      ]
     },
     "execution_count": 11,
     "metadata": {},
     "output_type": "execute_result"
    }
   ],
   "source": [
    "# reshape()でarrayの形を変える\n",
    "b2 = np.zeros(9).reshape(3, 3)\n",
    "b2"
   ]
  },
  {
   "cell_type": "code",
   "execution_count": 12,
   "metadata": {},
   "outputs": [
    {
     "data": {
      "text/plain": [
       "array([[0, 3, 6],\n",
       "       [1, 4, 7],\n",
       "       [2, 5, 8]])"
      ]
     },
     "execution_count": 12,
     "metadata": {},
     "output_type": "execute_result"
    }
   ],
   "source": [
    "# T(転置行列)を表示\n",
    "# 0,1,2 2,3,4 5,6,7という3x3のarray\n",
    "a = np.arange(9).reshape(3, 3)  \n",
    "a.T                   # 90度回転したarrayを表示"
   ]
  },
  {
   "cell_type": "code",
   "execution_count": 13,
   "metadata": {},
   "outputs": [
    {
     "data": {
      "text/plain": [
       "array([ 2,  3,  4,  5,  6,  7,  8,  9, 10])"
      ]
     },
     "execution_count": 13,
     "metadata": {},
     "output_type": "execute_result"
    }
   ],
   "source": [
    "# arrayの各要素に1を足す\n",
    "a = np.arange(1, 10)    # 1から9までの配列を作る\n",
    "a+1                     # 各要素に1を足し"
   ]
  },
  {
   "cell_type": "code",
   "execution_count": 14,
   "metadata": {},
   "outputs": [
    {
     "data": {
      "text/plain": [
       "array([ 2,  4,  6,  8, 10, 12, 14, 16, 18])"
      ]
     },
     "execution_count": 14,
     "metadata": {},
     "output_type": "execute_result"
    }
   ],
   "source": [
    "# 2つのarrayの各要素を足す\n",
    "a = np.arange(1, 10)\n",
    "b = np.arange(1, 10)    # 1から9までの配列をふたつ作る\n",
    "a+b                     # aの要素とbの要素を足す"
   ]
  },
  {
   "cell_type": "code",
   "execution_count": 15,
   "metadata": {},
   "outputs": [
    {
     "data": {
      "text/plain": [
       "array([[1., 2., 3.],\n",
       "       [1., 2., 3.],\n",
       "       [1., 2., 3.]])"
      ]
     },
     "execution_count": 15,
     "metadata": {},
     "output_type": "execute_result"
    }
   ],
   "source": [
    "# ブロードキャスティング(Broadcasting)\n",
    "a = np.ones(9).reshape(3, 3) # 1だけで構成された3x3のarrayを作る\n",
    "b = np.arange(1, 4)          # 1, 2, 3のarray作る\n",
    "a*b                          # かけ算した結果を表示"
   ]
  },
  {
   "cell_type": "code",
   "execution_count": 16,
   "metadata": {},
   "outputs": [
    {
     "data": {
      "text/plain": [
       "array([[0., 0., 0.],\n",
       "       [0., 0., 0.],\n",
       "       [0., 0., 0.]])"
      ]
     },
     "execution_count": 16,
     "metadata": {},
     "output_type": "execute_result"
    }
   ],
   "source": [
    "# ブロードキャスティングを使って3x3のarrayを作る\n",
    "np.zeros((3, 1))*np.zeros((1, 3))"
   ]
  },
  {
   "cell_type": "code",
   "execution_count": 17,
   "metadata": {},
   "outputs": [
    {
     "data": {
      "text/plain": [
       "36"
      ]
     },
     "execution_count": 17,
     "metadata": {},
     "output_type": "execute_result"
    }
   ],
   "source": [
    "# 関数を使った演算\n",
    "# 0,1,2 3,4,5 6,7,8という3x3のarray\n",
    "a = np.arange(9).reshape(3, 3)\n",
    "np.sum(a)        # 合計を計算"
   ]
  },
  {
   "cell_type": "code",
   "execution_count": 18,
   "metadata": {},
   "outputs": [
    {
     "data": {
      "text/plain": [
       "array([ 9, 12, 15])"
      ]
     },
     "execution_count": 18,
     "metadata": {},
     "output_type": "execute_result"
    }
   ],
   "source": [
    "# 引数axisを与えた演算\n",
    "# [[0 1 2]\n",
    "#  [3 4 5]\n",
    "#  [6 7 8]]\n",
    "# 上記配列の行ごとに合計を計算\n",
    "np.sum(a, axis=0)"
   ]
  },
  {
   "cell_type": "code",
   "execution_count": 19,
   "metadata": {},
   "outputs": [
    {
     "data": {
      "text/plain": [
       "5"
      ]
     },
     "execution_count": 19,
     "metadata": {},
     "output_type": "execute_result"
    }
   ],
   "source": [
    "a = np.arange(9).reshape(3, 3) # 0から8まで，3x3のarrayを作る\n",
    "a[1, 2]                        # 1, 2の要素を表示"
   ]
  },
  {
   "cell_type": "code",
   "execution_count": 20,
   "metadata": {},
   "outputs": [
    {
     "data": {
      "text/plain": [
       "array([[4, 5],\n",
       "       [7, 8]])"
      ]
     },
     "execution_count": 20,
     "metadata": {},
     "output_type": "execute_result"
    }
   ],
   "source": [
    "# スライスを使って要素にアクセスする\n",
    "a[1:, 1:3]             # 右下の2×2の配列を取り出す"
   ]
  },
  {
   "cell_type": "code",
   "execution_count": 21,
   "metadata": {},
   "outputs": [
    {
     "data": {
      "text/plain": [
       "array([2, 4, 6, 8])"
      ]
     },
     "execution_count": 21,
     "metadata": {},
     "output_type": "execute_result"
    }
   ],
   "source": [
    "# インデックスにシーケンスを渡して複数の要素にアクセスする\n",
    "d = np.arange(1, 10)        # 1から9までのarrayを作る\n",
    "d[[1, 3, 5, 7]]             # 偶数だけ取り出す"
   ]
  },
  {
   "cell_type": "code",
   "execution_count": 22,
   "metadata": {},
   "outputs": [
    {
     "data": {
      "text/plain": [
       "array([[0, 1, 5, 6],\n",
       "       [2, 3, 7, 8]])"
      ]
     },
     "execution_count": 22,
     "metadata": {},
     "output_type": "execute_result"
    }
   ],
   "source": [
    "# 横方向への連結\n",
    "a = np.arange(4).reshape(2, 2)      #2x2,0から3までのarray\n",
    "b = np.arange(5, 9).reshape(2, 2)   #2x2,5から8までのarray\n",
    "np.hstack((a, b))"
   ]
  },
  {
   "cell_type": "code",
   "execution_count": 23,
   "metadata": {},
   "outputs": [
    {
     "data": {
      "text/plain": [
       "array([[0, 1],\n",
       "       [2, 3],\n",
       "       [5, 6],\n",
       "       [7, 8]])"
      ]
     },
     "execution_count": 23,
     "metadata": {},
     "output_type": "execute_result"
    }
   ],
   "source": [
    "# 縦方向への連結\n",
    "a = np.arange(4).reshape(2, 2)      #2x2,0から3までのarray\n",
    "b = np.arange(5, 9).reshape(2, 2)   #2x2,5から8までのarray\n",
    "np.vstack((a, b))"
   ]
  },
  {
   "cell_type": "code",
   "execution_count": 24,
   "metadata": {},
   "outputs": [
    {
     "data": {
      "text/plain": [
       "array([1., 1., 1., 1.])"
      ]
     },
     "execution_count": 24,
     "metadata": {},
     "output_type": "execute_result"
    }
   ],
   "source": [
    "# 組み込み型のリストと同様に，arrayの代入はコピーになる\n",
    "# (変数が同一arrayへのリファレンスを持つ)\n",
    "a = np.zeros(4)     # 4つの0でarrayを作る\n",
    "b = a               # bに代入\n",
    "b += 1              # 各要素に1を足す\n",
    "a                   # aの内容を表示"
   ]
  },
  {
   "cell_type": "code",
   "execution_count": 25,
   "metadata": {},
   "outputs": [
    {
     "name": "stdout",
     "output_type": "stream",
     "text": [
      "[0. 0. 0. 0.]\n"
     ]
    }
   ],
   "source": [
    "# あるarrayから別のarrayを生成したいときは，明示的にコピーする\n",
    "a = np.zeros(4)     # 4つの0でarrayを作る\n",
    "b = a.copy()        # bに代入\n",
    "b += 1              # 各要素に1を足す\n",
    "print(a)            # aの内容を表示"
   ]
  },
  {
   "cell_type": "markdown",
   "metadata": {},
   "source": [
    "## matplotlib"
   ]
  },
  {
   "cell_type": "code",
   "execution_count": 26,
   "metadata": {},
   "outputs": [
    {
     "data": {
      "image/png": "[encoded data removed]",
      "text/plain": [
       "<Figure size 432x288 with 1 Axes>"
      ]
     },
     "metadata": {
      "needs_background": "light"
     },
     "output_type": "display_data"
    }
   ],
   "source": [
    "%matplotlib inline\n",
    "import numpy as np\n",
    "import matplotlib.pyplot as plt\n",
    "\n",
    "s = np.sin(np.pi*np.arange(0.0, 2.0, 0.01))\n",
    "t = plt.plot(s)    # sinのグラフを描く"
   ]
  },
  {
   "cell_type": "code",
   "execution_count": 27,
   "metadata": {},
   "outputs": [
    {
     "data": {
      "image/png": "[encoded data removed]",
      "text/plain": [
       "<Figure size 432x288 with 1 Axes>"
      ]
     },
     "metadata": {
      "needs_background": "light"
     },
     "output_type": "display_data"
    }
   ],
   "source": [
    "# 引数にマークを指定して分布図を書く\n",
    "x = np.random.randn(5000)    # 標準正規分布に従う乱数を生成\n",
    "y = np.random.randn(5000)\n",
    "t = plt.plot(x, y, 'o', alpha=0.1)"
   ]
  },
  {
   "cell_type": "code",
   "execution_count": 29,
   "metadata": {},
   "outputs": [
    {
     "name": "stderr",
     "output_type": "stream",
     "text": [
      "C:\\Users\\Takato\\Anaconda3\\lib\\site-packages\\ipykernel_launcher.py:8: FutureWarning: `rcond` parameter will change to the default of machine precision times ``max(M, N)`` where M and N are the input matrix dimensions.\n",
      "To use the future default and silence this warning we advise to pass `rcond=None`, to keep using the old, explicitly pass `rcond=-1`.\n",
      "  \n"
     ]
    },
    {
     "data": {
      "image/png": "[encoded data removed]",
      "text/plain": [
       "<Figure size 432x288 with 1 Axes>"
      ]
     },
     "metadata": {
      "needs_background": "light"
     },
     "output_type": "display_data"
    }
   ],
   "source": [
    "rcond=None\n",
    "# 最小二乗法でデータを近似する直線を求める\n",
    "x = np.array([1.628, 3.363, 5.145, 7.683, 9.855])\n",
    "y = np.array([1.257, 3.672, 5.841, 7.951, 9.775])\n",
    "# 最小二乗法でデータを近似する直線を求める\n",
    "a = np.array([x, np.ones(x.size)])\n",
    "a = a.T\n",
    "m, c = np.linalg.lstsq(a, y)[0]\n",
    "t = plt.plot(x, y, 'o')   # データを描画\n",
    "t = plt.plot(x, (m*x+c))  # 近似直線を描画"
   ]
  },
  {
   "cell_type": "code",
   "execution_count": 30,
   "metadata": {},
   "outputs": [
    {
     "data": {
      "image/png": "[encoded data removed]",
      "text/plain": [
       "<Figure size 432x288 with 1 Axes>"
      ]
     },
     "metadata": {
      "needs_background": "light"
     },
     "output_type": "display_data"
    }
   ],
   "source": [
    "# 線のスタイルをコントロールする\n",
    "s = np.sin(np.pi*np.arange(0.0, 2.0, 0.01))\n",
    "t = plt.plot(s, linestyle='--', linewidth=4)"
   ]
  },
  {
   "cell_type": "code",
   "execution_count": 31,
   "metadata": {},
   "outputs": [
    {
     "data": {
      "text/plain": [
       "['C:\\\\WINDOWS\\\\Fonts\\\\hgrsu025.ttf',\n",
       " 'C:\\\\WINDOWS\\\\Fonts\\\\hgrsu037.ttf',\n",
       " 'C:\\\\WINDOWS\\\\Fonts\\\\segoeuii.ttf',\n",
       " 'C:\\\\WINDOWS\\\\Fonts\\\\HGKyapiMarugothicM_CP932(90).ttf',\n",
       " 'C:\\\\WINDOWS\\\\Fonts\\\\ARCARTER.ttf',\n",
       " 'C:\\\\WINDOWS\\\\Fonts\\\\hgrsu017.ttf',\n",
       " 'C:\\\\WINDOWS\\\\Fonts\\\\malgunsl.ttf',\n",
       " 'C:\\\\WINDOWS\\\\Fonts\\\\couri.ttf',\n",
       " 'C:\\\\WINDOWS\\\\Fonts\\\\consola.ttf',\n",
       " 'C:\\\\WINDOWS\\\\Fonts\\\\hgrsu005.ttf',\n",
       " 'C:\\\\WINDOWS\\\\Fonts\\\\yumindb.ttf',\n",
       " 'C:\\\\WINDOWS\\\\Fonts\\\\ariblk.ttf',\n",
       " 'C:\\\\WINDOWS\\\\Fonts\\\\calibril.ttf',\n",
       " 'C:\\\\WINDOWS\\\\Fonts\\\\LeelaUIb.ttf',\n",
       " 'C:\\\\WINDOWS\\\\Fonts\\\\trebucbi.ttf',\n",
       " 'C:\\\\WINDOWS\\\\Fonts\\\\comici.ttf',\n",
       " 'C:\\\\WINDOWS\\\\Fonts\\\\hgrsu026.ttf',\n",
       " 'C:\\\\WINDOWS\\\\Fonts\\\\consolai.ttf',\n",
       " 'C:\\\\WINDOWS\\\\Fonts\\\\phagspab.ttf',\n",
       " 'C:\\\\WINDOWS\\\\Fonts\\\\ARBLANCA.ttf',\n",
       " 'C:\\\\WINDOWS\\\\Fonts\\\\comic.ttf',\n",
       " 'C:\\\\WINDOWS\\\\Fonts\\\\calibrii.ttf',\n",
       " 'C:\\\\WINDOWS\\\\Fonts\\\\msyi.ttf',\n",
       " 'C:\\\\WINDOWS\\\\Fonts\\\\ARDECODE.ttf',\n",
       " 'C:\\\\WINDOWS\\\\Fonts\\\\ARCHRISTY.ttf',\n",
       " 'C:\\\\WINDOWS\\\\Fonts\\\\Candarai.ttf',\n",
       " 'C:\\\\WINDOWS\\\\Fonts\\\\hgrsu010.ttf',\n",
       " 'C:\\\\WINDOWS\\\\Fonts\\\\georgiai.ttf',\n",
       " 'C:\\\\WINDOWS\\\\Fonts\\\\gadugi.ttf',\n",
       " 'C:\\\\WINDOWS\\\\Fonts\\\\ebrima.ttf',\n",
       " 'C:\\\\WINDOWS\\\\Fonts\\\\impact.ttf',\n",
       " 'C:\\\\WINDOWS\\\\Fonts\\\\LeelUIsl.ttf',\n",
       " 'C:\\\\WINDOWS\\\\Fonts\\\\hgrsu031.ttf',\n",
       " 'C:\\\\WINDOWS\\\\Fonts\\\\cambriab.ttf',\n",
       " 'C:\\\\WINDOWS\\\\Fonts\\\\hgrsu024.ttf',\n",
       " 'C:\\\\WINDOWS\\\\Fonts\\\\hgrsu011.ttf',\n",
       " 'C:\\\\WINDOWS\\\\Fonts\\\\verdanai.ttf',\n",
       " 'C:\\\\WINDOWS\\\\Fonts\\\\Candarab.ttf',\n",
       " 'C:\\\\WINDOWS\\\\Fonts\\\\phagspa.ttf',\n",
       " 'C:\\\\WINDOWS\\\\Fonts\\\\hgrsu009.ttf',\n",
       " 'C:\\\\WINDOWS\\\\Fonts\\\\segoesc.ttf',\n",
       " 'C:\\\\WINDOWS\\\\Fonts\\\\malgunbd.ttf',\n",
       " 'C:\\\\WINDOWS\\\\Fonts\\\\hgrsu004.ttf',\n",
       " 'C:\\\\WINDOWS\\\\Fonts\\\\verdana.ttf',\n",
       " 'C:\\\\WINDOWS\\\\Fonts\\\\Gabriola.ttf',\n",
       " 'C:\\\\WINDOWS\\\\Fonts\\\\tahomabd.ttf',\n",
       " 'C:\\\\WINDOWS\\\\Fonts\\\\comicbd.ttf',\n",
       " 'C:\\\\WINDOWS\\\\Fonts\\\\arialbi.ttf',\n",
       " 'C:\\\\WINDOWS\\\\Fonts\\\\constani.ttf',\n",
       " 'C:\\\\WINDOWS\\\\Fonts\\\\palabi.ttf',\n",
       " 'C:\\\\WINDOWS\\\\Fonts\\\\hgrsu003.ttf',\n",
       " 'C:\\\\WINDOWS\\\\Fonts\\\\Candarali.ttf',\n",
       " 'C:\\\\WINDOWS\\\\Fonts\\\\hgrsu020.ttf',\n",
       " 'C:\\\\WINDOWS\\\\Fonts\\\\himalaya.ttf',\n",
       " 'C:\\\\WINDOWS\\\\Fonts\\\\seguisli.ttf',\n",
       " 'C:\\\\WINDOWS\\\\Fonts\\\\lucon.ttf',\n",
       " 'C:\\\\WINDOWS\\\\Fonts\\\\corbeli.ttf',\n",
       " 'C:\\\\WINDOWS\\\\Fonts\\\\cambriai.ttf',\n",
       " 'C:\\\\WINDOWS\\\\Fonts\\\\ARESSENCE.ttf',\n",
       " 'C:\\\\WINDOWS\\\\Fonts\\\\hgrsu019.ttf',\n",
       " 'C:\\\\WINDOWS\\\\Fonts\\\\ARHERMANN.ttf',\n",
       " 'C:\\\\WINDOWS\\\\Fonts\\\\hgrsu012.ttf',\n",
       " 'C:\\\\WINDOWS\\\\Fonts\\\\consolaz.ttf',\n",
       " 'C:\\\\WINDOWS\\\\Fonts\\\\constanz.ttf',\n",
       " 'C:\\\\WINDOWS\\\\Fonts\\\\ariali.ttf',\n",
       " 'C:\\\\WINDOWS\\\\Fonts\\\\hgrsu035.ttf',\n",
       " 'C:\\\\WINDOWS\\\\Fonts\\\\corbelli.ttf',\n",
       " 'C:\\\\WINDOWS\\\\Fonts\\\\segoeprb.ttf',\n",
       " 'C:\\\\WINDOWS\\\\Fonts\\\\CANDGY.ttf',\n",
       " 'C:\\\\WINDOWS\\\\Fonts\\\\HGAkaneHeiseiMarugoW8_CP932(90).ttf',\n",
       " 'C:\\\\WINDOWS\\\\Fonts\\\\Nirmala.ttf',\n",
       " 'C:\\\\WINDOWS\\\\Fonts\\\\segoeuisl.ttf',\n",
       " 'C:\\\\WINDOWS\\\\Fonts\\\\hgrsu022.ttf',\n",
       " 'C:\\\\WINDOWS\\\\Fonts\\\\hgrsu032.ttf',\n",
       " 'C:\\\\WINDOWS\\\\Fonts\\\\Candaraz.ttf',\n",
       " 'C:\\\\WINDOWS\\\\Fonts\\\\ARBONNIE.ttf',\n",
       " 'C:\\\\WINDOWS\\\\Fonts\\\\HGElegantHeiseiMinchotaiW3_CP932(90).ttf',\n",
       " 'C:\\\\WINDOWS\\\\Fonts\\\\segoeuib.ttf',\n",
       " 'C:\\\\WINDOWS\\\\Fonts\\\\seguiemj.ttf',\n",
       " 'C:\\\\WINDOWS\\\\Fonts\\\\wingding.ttf',\n",
       " 'C:\\\\WINDOWS\\\\Fonts\\\\ntailu.ttf',\n",
       " 'C:\\\\WINDOWS\\\\Fonts\\\\hgrsu015.ttf',\n",
       " 'C:\\\\WINDOWS\\\\Fonts\\\\segoepr.ttf',\n",
       " 'C:\\\\WINDOWS\\\\Fonts\\\\arial.ttf',\n",
       " 'C:\\\\WINDOWS\\\\Fonts\\\\hgrsu030.ttf',\n",
       " 'C:\\\\WINDOWS\\\\Fonts\\\\ARDESTINE.ttf',\n",
       " 'C:\\\\WINDOWS\\\\Fonts\\\\cambriaz.ttf',\n",
       " 'C:\\\\WINDOWS\\\\Fonts\\\\hgrsu002.ttf',\n",
       " 'C:\\\\WINDOWS\\\\Fonts\\\\tahoma.ttf',\n",
       " 'C:\\\\WINDOWS\\\\Fonts\\\\yumin.ttf',\n",
       " 'C:\\\\WINDOWS\\\\Fonts\\\\framdit.ttf',\n",
       " 'C:\\\\WINDOWS\\\\Fonts\\\\ARCENA.ttf',\n",
       " 'C:\\\\WINDOWS\\\\Fonts\\\\yuminl.ttf',\n",
       " 'C:\\\\WINDOWS\\\\Fonts\\\\mvboli.ttf',\n",
       " 'C:\\\\WINDOWS\\\\Fonts\\\\constan.ttf',\n",
       " 'C:\\\\WINDOWS\\\\Fonts\\\\marlett.ttf',\n",
       " 'C:\\\\WINDOWS\\\\Fonts\\\\seguili.ttf',\n",
       " 'C:\\\\WINDOWS\\\\Fonts\\\\palab.ttf',\n",
       " 'C:\\\\WINDOWS\\\\Fonts\\\\hgrsu029.ttf',\n",
       " 'C:\\\\WINDOWS\\\\Fonts\\\\ARBERKLEY.ttf',\n",
       " 'C:\\\\WINDOWS\\\\Fonts\\\\corbelb.ttf',\n",
       " 'C:\\\\WINDOWS\\\\Fonts\\\\courbi.ttf',\n",
       " 'C:\\\\WINDOWS\\\\Fonts\\\\hgrsu023.ttf',\n",
       " 'C:\\\\WINDOWS\\\\Fonts\\\\calibrili.ttf',\n",
       " 'C:\\\\WINDOWS\\\\Fonts\\\\ARDARLING.ttf',\n",
       " 'C:\\\\WINDOWS\\\\Fonts\\\\seguibli.ttf',\n",
       " 'C:\\\\WINDOWS\\\\Fonts\\\\constanb.ttf',\n",
       " 'C:\\\\WINDOWS\\\\Fonts\\\\hgrsu014.ttf',\n",
       " 'C:\\\\WINDOWS\\\\Fonts\\\\hgrsu040.ttf',\n",
       " 'C:\\\\WINDOWS\\\\Fonts\\\\ntailub.ttf',\n",
       " 'C:\\\\WINDOWS\\\\Fonts\\\\bahnschrift.ttf',\n",
       " 'C:\\\\WINDOWS\\\\Fonts\\\\calibriz.ttf',\n",
       " 'C:\\\\WINDOWS\\\\Fonts\\\\verdanaz.ttf',\n",
       " 'C:\\\\WINDOWS\\\\Fonts\\\\segoeui.ttf',\n",
       " 'C:\\\\WINDOWS\\\\Fonts\\\\NirmalaB.ttf',\n",
       " 'C:\\\\WINDOWS\\\\Fonts\\\\timesbi.ttf',\n",
       " 'C:\\\\WINDOWS\\\\Fonts\\\\georgiaz.ttf',\n",
       " 'C:\\\\WINDOWS\\\\Fonts\\\\NirmalaS.ttf',\n",
       " 'C:\\\\WINDOWS\\\\Fonts\\\\hgrsu027.ttf',\n",
       " 'C:\\\\WINDOWS\\\\Fonts\\\\hgrsu013.ttf',\n",
       " 'C:\\\\WINDOWS\\\\Fonts\\\\seguihis.ttf',\n",
       " 'C:\\\\WINDOWS\\\\Fonts\\\\arialbd.ttf',\n",
       " 'C:\\\\WINDOWS\\\\Fonts\\\\ARJULIAN.ttf',\n",
       " 'C:\\\\WINDOWS\\\\Fonts\\\\javatext.ttf',\n",
       " 'C:\\\\WINDOWS\\\\Fonts\\\\palai.ttf',\n",
       " 'C:\\\\WINDOWS\\\\Fonts\\\\LeelawUI.ttf',\n",
       " 'C:\\\\WINDOWS\\\\Fonts\\\\hgrsu036.ttf',\n",
       " 'C:\\\\WINDOWS\\\\Fonts\\\\mmrtextb.ttf',\n",
       " 'C:\\\\WINDOWS\\\\Fonts\\\\hgrsu006.ttf',\n",
       " 'C:\\\\WINDOWS\\\\Fonts\\\\trebucbd.ttf',\n",
       " 'C:\\\\WINDOWS\\\\Fonts\\\\segoeuiz.ttf',\n",
       " 'C:\\\\WINDOWS\\\\Fonts\\\\timesbd.ttf',\n",
       " 'C:\\\\WINDOWS\\\\Fonts\\\\ARDELANEY.ttf',\n",
       " 'C:\\\\WINDOWS\\\\Fonts\\\\hgrsu034.ttf',\n",
       " 'C:\\\\WINDOWS\\\\Fonts\\\\Inkfree.ttf',\n",
       " 'C:\\\\WINDOWS\\\\Fonts\\\\malgun.ttf',\n",
       " 'C:\\\\WINDOWS\\\\Fonts\\\\georgia.ttf',\n",
       " 'C:\\\\WINDOWS\\\\Fonts\\\\mmrtext.ttf',\n",
       " 'C:\\\\WINDOWS\\\\Fonts\\\\Candara.ttf',\n",
       " 'C:\\\\WINDOWS\\\\Fonts\\\\seguibl.ttf',\n",
       " 'C:\\\\WINDOWS\\\\Fonts\\\\Candaral.ttf',\n",
       " 'C:\\\\WINDOWS\\\\Fonts\\\\segoeuil.ttf',\n",
       " 'C:\\\\WINDOWS\\\\Fonts\\\\hgrsu033.ttf',\n",
       " 'C:\\\\WINDOWS\\\\Fonts\\\\seguisb.ttf',\n",
       " 'C:\\\\WINDOWS\\\\Fonts\\\\comicz.ttf',\n",
       " 'C:\\\\WINDOWS\\\\Fonts\\\\taileb.ttf',\n",
       " 'C:\\\\WINDOWS\\\\Fonts\\\\calibri.ttf',\n",
       " 'C:\\\\WINDOWS\\\\Fonts\\\\times.ttf',\n",
       " 'C:\\\\WINDOWS\\\\Fonts\\\\hgrsu016.ttf',\n",
       " 'C:\\\\WINDOWS\\\\Fonts\\\\seguisbi.ttf',\n",
       " 'C:\\\\WINDOWS\\\\Fonts\\\\segoescb.ttf',\n",
       " 'C:\\\\WINDOWS\\\\Fonts\\\\corbel.ttf',\n",
       " 'C:\\\\WINDOWS\\\\Fonts\\\\hgrsu007.ttf',\n",
       " 'C:\\\\WINDOWS\\\\Fonts\\\\calibrib.ttf',\n",
       " 'C:\\\\WINDOWS\\\\Fonts\\\\taile.ttf',\n",
       " 'C:\\\\WINDOWS\\\\Fonts\\\\timesi.ttf',\n",
       " 'C:\\\\WINDOWS\\\\Fonts\\\\verdanab.ttf',\n",
       " 'C:\\\\WINDOWS\\\\Fonts\\\\corbelz.ttf',\n",
       " 'C:\\\\WINDOWS\\\\Fonts\\\\simsunb.ttf',\n",
       " 'C:\\\\WINDOWS\\\\Fonts\\\\sylfaen.ttf',\n",
       " 'C:\\\\WINDOWS\\\\Fonts\\\\seguisym.ttf',\n",
       " 'C:\\\\WINDOWS\\\\Fonts\\\\cour.ttf',\n",
       " 'C:\\\\WINDOWS\\\\Fonts\\\\monbaiti.ttf',\n",
       " 'C:\\\\WINDOWS\\\\Fonts\\\\symbol.ttf',\n",
       " 'C:\\\\WINDOWS\\\\Fonts\\\\hgrsu001.ttf',\n",
       " 'C:\\\\WINDOWS\\\\Fonts\\\\segmdl2.ttf',\n",
       " 'C:\\\\WINDOWS\\\\Fonts\\\\hgrsu038.ttf',\n",
       " 'C:\\\\WINDOWS\\\\Fonts\\\\webdings.ttf',\n",
       " 'C:\\\\WINDOWS\\\\Fonts\\\\hgrsu028.ttf',\n",
       " 'C:\\\\WINDOWS\\\\Fonts\\\\trebucit.ttf',\n",
       " 'C:\\\\WINDOWS\\\\Fonts\\\\l_10646.ttf',\n",
       " 'C:\\\\WINDOWS\\\\Fonts\\\\corbell.ttf',\n",
       " 'C:\\\\WINDOWS\\\\Fonts\\\\georgiab.ttf',\n",
       " 'C:\\\\WINDOWS\\\\Fonts\\\\courbd.ttf',\n",
       " 'C:\\\\WINDOWS\\\\Fonts\\\\pala.ttf',\n",
       " 'C:\\\\WINDOWS\\\\Fonts\\\\trebuc.ttf',\n",
       " 'C:\\\\WINDOWS\\\\Fonts\\\\hgrsu008.ttf',\n",
       " 'C:\\\\WINDOWS\\\\Fonts\\\\holomdl2.ttf',\n",
       " 'C:\\\\WINDOWS\\\\Fonts\\\\hgrsu039.ttf',\n",
       " 'C:\\\\WINDOWS\\\\Fonts\\\\hgrsu018.ttf',\n",
       " 'C:\\\\WINDOWS\\\\Fonts\\\\gadugib.ttf',\n",
       " 'C:\\\\WINDOWS\\\\Fonts\\\\micross.ttf',\n",
       " 'C:\\\\WINDOWS\\\\Fonts\\\\HGPrettyFrankHS_CP932(90).ttf',\n",
       " 'C:\\\\WINDOWS\\\\Fonts\\\\consolab.ttf',\n",
       " 'C:\\\\WINDOWS\\\\Fonts\\\\ebrimabd.ttf',\n",
       " 'C:\\\\WINDOWS\\\\Fonts\\\\hgrsu021.ttf',\n",
       " 'C:\\\\WINDOWS\\\\Fonts\\\\framd.ttf']"
      ]
     },
     "execution_count": 31,
     "metadata": {},
     "output_type": "execute_result"
    }
   ],
   "source": [
    "# システムで利用できるフォントの一覧を表示\n",
    "import matplotlib.font_manager as fm\n",
    "fm.findSystemFonts()"
   ]
  },
  {
   "cell_type": "markdown",
   "metadata": {},
   "source": [
    "## visualize"
   ]
  },
  {
   "cell_type": "code",
   "execution_count": 32,
   "metadata": {},
   "outputs": [],
   "source": [
    "import numpy as np\n",
    "\n",
    "# 1944年から2014年までの5歳階級別の人口を男女別に読み込む\n",
    "p_male = np.loadtxt('male_1944_2014.csv', delimiter=\",\",\n",
    "                      skiprows=1, usecols=range(1, 22))\n",
    "p_female = np.loadtxt('female_1944_2014.csv', delimiter=\",\",\n",
    "                      skiprows=1, usecols=range(1, 22))"
   ]
  },
  {
   "cell_type": "code",
   "execution_count": 33,
   "metadata": {},
   "outputs": [],
   "source": [
    "# 男女の5歳階級別人口を合計する\n",
    "p_total = p_male+p_female\n",
    "# 年ごとの人口になおす\n",
    "p_yearly = p_total.sum(axis=1)"
   ]
  },
  {
   "cell_type": "code",
   "execution_count": 34,
   "metadata": {},
   "outputs": [
    {
     "data": {
      "image/png": "[encoded data removed]",
      "text/plain": [
       "<Figure size 432x288 with 1 Axes>"
      ]
     },
     "metadata": {
      "needs_background": "light"
     },
     "output_type": "display_data"
    }
   ],
   "source": [
    "# 人口のグラフを表示する\n",
    "%matplotlib inline\n",
    "import matplotlib.pyplot as plt\n",
    "\n",
    "t = plt.plot(range(1944, 2015), p_yearly)\n",
    "plt.ylim((0, 130000))\n",
    "plt.grid(True)"
   ]
  },
  {
   "cell_type": "code",
   "execution_count": 35,
   "metadata": {},
   "outputs": [
    {
     "data": {
      "image/png": "[encoded data removed]",
      "text/plain": [
       "<Figure size 432x288 with 1 Axes>"
      ]
     },
     "metadata": {
      "needs_background": "light"
     },
     "output_type": "display_data"
    }
   ],
   "source": [
    "# 出生率(合計特殊出生率)のデータ，1960年から2014年を読み込む\n",
    "tfr = np.loadtxt('total_fertility_rate.csv', delimiter=\",\", skiprows=1)\n",
    "# 出生率のグラフを描く\n",
    "t = plt.plot(range(1960, 2015), tfr, ls=\":\")\n",
    "# 置き換え水準(2.07)に線を引く\n",
    "t = plt.plot([1960, 2015], [2.07, 2.07])"
   ]
  },
  {
   "cell_type": "code",
   "execution_count": 36,
   "metadata": {},
   "outputs": [],
   "source": [
    "from matplotlib import gridspec\n",
    "def show_pgraph(year, arr1, arr2, arr3,\n",
    "                ymin, ymax, ydim=1):\n",
    "    # 人口ピラミッドを表示する\n",
    "    # 表示する人口のインデックスを得る\n",
    "    idx = int((year-ymin)/ydim)\n",
    "    # 人口ピラミッドと人口グラフのグリッドを生成\n",
    "    gs = gridspec.GridSpec(2, 2, height_ratios=(3, 2))\n",
    "    # グラフの配置を決める\n",
    "    ax = [plt.subplot(gs[0, 0]),plt.subplot(gs[0, 1]),\n",
    "          plt.subplot(gs[1, :])]\n",
    "    # 男性の人口ピラミッドを描く\n",
    "    ax[0].barh(range(0, 101, 5), arr1[idx], height=3)\n",
    "    ax[0].set(ylim=(0, 100), xlim=(0, 6000))\n",
    "    ax[0].invert_xaxis()\n",
    "    ax[0].yaxis.tick_right()\n",
    "    # 女性の人口ピラミッドを描く\n",
    "    ax[1].barh(range(0, 101, 5), arr2[idx], height=3)\n",
    "    ax[1].tick_params(labelleft='off')\n",
    "    ax[1].set(ylim=(0, 100), xlim=(0, 6000))\n",
    "    # 人口グラフを描き西暦に線を引く\n",
    "    ax[2].plot(range(ymin, ymax+1, ydim), arr3, ls=\":\")\n",
    "    ax[2].plot([year, year], [0, 140000])"
   ]
  },
  {
   "cell_type": "code",
   "execution_count": 37,
   "metadata": {},
   "outputs": [
    {
     "name": "stderr",
     "output_type": "stream",
     "text": [
      "C:\\Users\\Takato\\Anaconda3\\lib\\site-packages\\matplotlib\\cbook\\__init__.py:424: MatplotlibDeprecationWarning: \n",
      "Passing one of 'on', 'true', 'off', 'false' as a boolean is deprecated; use an actual boolean (True/False) instead.\n",
      "  warn_deprecated(\"2.2\", \"Passing one of 'on', 'true', 'off', 'false' as a \"\n"
     ]
    },
    {
     "data": {
      "image/png": "[encoded data removed]",
      "text/plain": [
       "<Figure size 432x288 with 3 Axes>"
      ]
     },
     "metadata": {
      "needs_background": "light"
     },
     "output_type": "display_data"
    }
   ],
   "source": [
    "# 関数を呼び出して人口ピラミッドを描く\n",
    "show_pgraph(1950, p_male, p_female, p_yearly,\n",
    "            1944, 2014)"
   ]
  },
  {
   "cell_type": "code",
   "execution_count": 38,
   "metadata": {},
   "outputs": [
    {
     "data": {
      "application/vnd.jupyter.widget-view+json": {
       "model_id": "3da0c4a4b3054ae9b8cce2fb3b7fa87d",
       "version_major": 2,
       "version_minor": 0
      },
      "text/plain": [
       "interactive(children=(IntSlider(value=1944, description='year', max=2014, min=1944, step=5), Output()), _dom_c…"
      ]
     },
     "metadata": {},
     "output_type": "display_data"
    }
   ],
   "source": [
    "# スライダーを使って人口ピラミッドを動かす\n",
    "from ipywidgets import interact, IntSlider, fixed\n",
    "\n",
    "t = interact(show_pgraph, year=IntSlider(min=1944, max=2014, step=5),\n",
    "         arr1=fixed(p_male), arr2=fixed(p_female), arr3=fixed(p_yearly),\n",
    "         ymin=fixed(1944), ymax=fixed(2014), ydim=fixed(1))"
   ]
  },
  {
   "cell_type": "code",
   "execution_count": 39,
   "metadata": {},
   "outputs": [],
   "source": [
    "# 推計に必要なデータを読み込む\n",
    "# 2014年の死亡率(5歳階級別)を読み込む\n",
    "lifechart = np.loadtxt('lifechart2014.csv', delimiter=\",\", usecols=[3])\n",
    "# 死亡率を1から引いたarrayを作る\n",
    "rev_lifechart = np.ones(lifechart.size)-lifechart\n",
    "# 人口置き換え水準相当の出生率(15歳から5歳ごと)\n",
    "rep_level = np.array([0.0041, 0.107,\n",
    "        0.19, 0.0697, 0.017, 0.0021, 0.0001])\n",
    "# 高位推計に相当する出生率\n",
    "high_rate = np.array([0.0036, 0.0514,\n",
    "        0.1593, 0.0927, 0.0187, 0.0023, 0.0001])"
   ]
  },
  {
   "cell_type": "code",
   "execution_count": 40,
   "metadata": {},
   "outputs": [],
   "source": [
    "# 将来人口の推計を行う\n",
    "# 男女の人口データを推定するarrayを定義\n",
    "fp_male = np.array(p_male[-2:])\n",
    "fp_female = np.array(p_female[-2:])\n",
    "\n",
    "# 人口置き換え水準に戻る期間(割る5)\n",
    "recover_in = 5\n",
    "\n",
    "for i in range(20):\n",
    "    # 5年ごと100年間分繰り返す\n",
    "    # 直近の5歳階級別で新しい人口を初期化\n",
    "    new_fp_male = fp_male[-1]\n",
    "    new_fp_female = fp_female[-1]\n",
    "    # 出生率を設定\n",
    "    if i > recover_in:\n",
    "        f_rate = rep_level\n",
    "    else:\n",
    "        f_rate = high_rate\n",
    "    # 15-49歳の女性人口に出生率をかけて新生児数を計算\n",
    "    newborn = np.sum(new_fp_female[3:10]*f_rate)*5\n",
    "    # 直近の5歳階級別人口のインデックス\n",
    "    # を右にずらし，新生児を左に連結\n",
    "    new_fp_male = np.hstack(\n",
    "        ([newborn*0.4878], new_fp_male[:-1]))\n",
    "    new_fp_female = np.hstack(\n",
    "        ([newborn*0.5122], new_fp_female[:-1]))\n",
    "    # 各階級の人口に死亡率を適用\n",
    "    new_fp_male *= rev_lifechart\n",
    "    new_fp_female *= rev_lifechart\n",
    "    # 新しい推定人口を追加\n",
    "    fp_male = np.vstack(\n",
    "        (fp_male, new_fp_male))\n",
    "    fp_female = np.vstack(\n",
    "        (fp_female, new_fp_female))\n",
    "\n",
    "# 男女合算の5歳階級別人口，5年ごとの推定総人口のarrayを作る\n",
    "fp_total = fp_male+fp_female\n",
    "fp_sum = np.array([np.sum(x) for x in fp_total])"
   ]
  },
  {
   "cell_type": "code",
   "execution_count": 41,
   "metadata": {},
   "outputs": [
    {
     "data": {
      "image/png": "[encoded data removed]",
      "text/plain": [
       "<Figure size 432x288 with 1 Axes>"
      ]
     },
     "metadata": {
      "needs_background": "light"
     },
     "output_type": "display_data"
    }
   ],
   "source": [
    "# 25年後に置き換え水準に戻る前提の人口推計グラフを描く\n",
    "t=plt.plot(range(2013, 2120, 5), fp_sum)\n",
    "t=plt.ylim([0, 130000])\n",
    "plt.grid(True)"
   ]
  },
  {
   "cell_type": "code",
   "execution_count": 42,
   "metadata": {},
   "outputs": [
    {
     "data": {
      "application/vnd.jupyter.widget-view+json": {
       "model_id": "2f7e8c2a18df4899b5dc7ca2afb0554a",
       "version_major": 2,
       "version_minor": 0
      },
      "text/plain": [
       "interactive(children=(IntSlider(value=2013, description='year', max=2113, min=2013, step=5), Output()), _dom_c…"
      ]
     },
     "metadata": {},
     "output_type": "display_data"
    }
   ],
   "source": [
    "# 推計した人口データをスライダーで動的に表示\n",
    "t = interact(show_pgraph, year=IntSlider(min=2013, max=2113, step=5),\n",
    "         arr1=fixed(fp_male), arr2=fixed(fp_female), arr3=fixed(fp_sum),\n",
    "         ymin=fixed(2013), ymax=fixed(2120), ydim=fixed(5))"
   ]
  },
  {
   "cell_type": "markdown",
   "metadata": {},
   "source": [
    "## machine learning"
   ]
  },
  {
   "cell_type": "code",
   "execution_count": 43,
   "metadata": {},
   "outputs": [],
   "source": [
    "# 予測に利用するデータを作る\n",
    "import numpy as np\n",
    "\n",
    "#乱数のシードを設定\n",
    "np.random.seed(9)\n",
    "# 0から1まで100個の数値を生成，乱数要素を混ぜる前のx\n",
    "x_orig = np.linspace(0, 1, 100)\n",
    "\n",
    "def f(x):\n",
    "    # xに対応するsinを返す関数\n",
    "    return np.sin(2 * np.pi * x)\n",
    "\n",
    "# 0から1まで100個のばらけたサンプルデータ(x)を生成\n",
    "x = np.random.uniform(0, 1, size=100)[:, np.newaxis]\n",
    "# xに対応するsinに乱数値を足してサンプルデータ(y)を生成\n",
    "y = f(x)+np.random.normal(scale=0.3, size=100)[:, np.newaxis]"
   ]
  },
  {
   "cell_type": "code",
   "execution_count": 45,
   "metadata": {},
   "outputs": [
    {
     "data": {
      "text/plain": [
       "(0, 1)"
      ]
     },
     "execution_count": 45,
     "metadata": {},
     "output_type": "execute_result"
    },
    {
     "data": {
      "image/png": "[encoded data removed]",
      "text/plain": [
       "<Figure size 432x288 with 1 Axes>"
      ]
     },
     "metadata": {
      "needs_background": "light"
     },
     "output_type": "display_data"
    }
   ],
   "source": [
    "# データをグラフに描く\n",
    "%matplotlib inline\n",
    "import matplotlib.pyplot as plt\n",
    "from sklearn.model_selection import train_test_split\n",
    "# 学習用データとテスト用データに分ける\n",
    "x_train, x_test, y_train, y_test = train_test_split(x, y, test_size=0.8)\n",
    "\n",
    "# 元のsinとサンプルデータをplot\n",
    "plt.plot(x_orig, f(x_orig), ls=':')\n",
    "plt.scatter(x_train, y_train)\n",
    "plt.xlim((0, 1))"
   ]
  },
  {
   "cell_type": "code",
   "execution_count": 46,
   "metadata": {},
   "outputs": [
    {
     "data": {
      "image/png": "[encoded data removed]",
      "text/plain": [
       "<Figure size 576x360 with 4 Axes>"
      ]
     },
     "metadata": {
      "needs_background": "light"
     },
     "output_type": "display_data"
    }
   ],
   "source": [
    "# 最小二乗法の多項式近似を使ってデータを学習する\n",
    "from sklearn.linear_model import LinearRegression\n",
    "from sklearn.preprocessing import PolynomialFeatures\n",
    "from sklearn.pipeline import make_pipeline\n",
    "\n",
    "# 2x2のグラフを描く準備をする\n",
    "fig, axs = plt.subplots(2, 2, figsize=(8, 5))\n",
    "\n",
    "# 次数0, 1, 3, 9について学習した結果を表示\n",
    "for ax, deg in zip(axs.ravel(), [0, 1, 3, 9]):\n",
    "    # パイプラインを作る\n",
    "    e = make_pipeline(PolynomialFeatures(deg), LinearRegression())\n",
    "    # 学習セットで学習をする\n",
    "    e.fit(x_train, y_train)\n",
    "    # 元のxを与えて予測\n",
    "    px = e.predict(x_orig[:, np.newaxis])\n",
    "    # 予測結果のグラフとテストデータの点を描画\n",
    "    ax.scatter(x_train, y_train)\n",
    "    ax.plot(x_orig, px)\n",
    "    ax.set(xlim=(0, 1), ylim=(-2, 2),\n",
    "           ylabel='y', xlabel='x',\n",
    "           title='degree={}'.format(deg))\n",
    "\n",
    "plt.tight_layout()"
   ]
  },
  {
   "cell_type": "code",
   "execution_count": 47,
   "metadata": {},
   "outputs": [
    {
     "data": {
      "text/plain": [
       "<matplotlib.legend.Legend at 0x1df69306630>"
      ]
     },
     "execution_count": 47,
     "metadata": {},
     "output_type": "execute_result"
    },
    {
     "data": {
      "image/png": "[encoded data removed]",
      "text/plain": [
       "<Figure size 432x288 with 1 Axes>"
      ]
     },
     "metadata": {
      "needs_background": "light"
     },
     "output_type": "display_data"
    }
   ],
   "source": [
    "# テストデータを使って過学習の様子をグラフ化する\n",
    "from sklearn.metrics import mean_squared_error\n",
    "\n",
    "# 実データとの誤差を保存するarray\n",
    "train_error = np.empty(10)\n",
    "test_error = np.empty(10)\n",
    "# 次数0から9について調べる\n",
    "for deg in range(10):\n",
    "    # モデルを作る\n",
    "    e = make_pipeline(PolynomialFeatures(deg), LinearRegression())\n",
    "    e.fit(x_train, y_train)\n",
    "    # テストデータを使って，予測値と実際の値の誤差を調べる\n",
    "    train_error[deg] = mean_squared_error(y_train, e.predict(x_train))\n",
    "    test_error[deg] = mean_squared_error(y_test, e.predict(x_test))\n",
    "\n",
    "# グラフを描く\n",
    "plt.plot(np.arange(10), train_error, ls=':', label='train')\n",
    "plt.plot(np.arange(10), test_error, ls='-', label='test')\n",
    "plt.ylim((0, 1))\n",
    "plt.legend(loc='upper left')"
   ]
  },
  {
   "cell_type": "markdown",
   "metadata": {},
   "source": [
    "### Name and gender"
   ]
  },
  {
   "cell_type": "code",
   "execution_count": 48,
   "metadata": {},
   "outputs": [],
   "source": [
    "# データを読み込み整形する\n",
    "import numpy as np\n",
    "from sklearn.model_selection import train_test_split\n",
    "\n",
    "np.random.seed(9)\n",
    "# 男女のタグ付きひらがなの名前データを読み込む\n",
    "txtbody = open('names.txt', encoding='utf-8')\n",
    "# NumPyのarrayに変換\n",
    "jnames = np.array([x.split() for x in txtbody], dtype='U12')\n",
    "# 名前と性別に分割\n",
    "names_train, gender_train, = jnames[:, 1], jnames[:, 0]"
   ]
  },
  {
   "cell_type": "code",
   "execution_count": 49,
   "metadata": {},
   "outputs": [],
   "source": [
    "# ひらがなの読みを2文字ごとに分割する関数を作る\n",
    "def split_in_2words(name):\n",
    "    # 名前を2文字ごとに分割する関数\n",
    "    return [name[i:i+2] for i in range(len(name)-1)]"
   ]
  },
  {
   "cell_type": "code",
   "execution_count": 50,
   "metadata": {},
   "outputs": [
    {
     "data": {
      "text/plain": [
       "['とも', 'もの', 'のり']"
      ]
     },
     "execution_count": 50,
     "metadata": {},
     "output_type": "execute_result"
    }
   ],
   "source": [
    "# 関数を呼び出してみる\n",
    "split_in_2words(\"とものり\")"
   ]
  },
  {
   "cell_type": "code",
   "execution_count": 51,
   "metadata": {},
   "outputs": [],
   "source": [
    "# 学習データを作ってベクトル化の前段階となるデータを作る\n",
    "from sklearn.feature_extraction.text import CountVectorizer\n",
    "bow_t = CountVectorizer(analyzer=split_in_2words).fit(names_train)"
   ]
  },
  {
   "cell_type": "code",
   "execution_count": 52,
   "metadata": {},
   "outputs": [
    {
     "name": "stdout",
     "output_type": "stream",
     "text": [
      "  (0, 283)\t2\n",
      "  (0, 1898)\t1\n"
     ]
    }
   ],
   "source": [
    "name = 'かんかん'\n",
    "b1 = bow_t.transform([name])\n",
    "print(b1[0])"
   ]
  },
  {
   "cell_type": "code",
   "execution_count": 53,
   "metadata": {},
   "outputs": [
    {
     "name": "stdout",
     "output_type": "stream",
     "text": [
      "かん\n",
      "んか\n"
     ]
    }
   ],
   "source": [
    "# 出力データから文字列を逆引きする\n",
    "# (注)直前の出力セルに表示されたIDに置き換えてください\n",
    "print(bow_t.get_feature_names()[283])\n",
    "print(bow_t.get_feature_names()[1898])"
   ]
  },
  {
   "cell_type": "code",
   "execution_count": 54,
   "metadata": {},
   "outputs": [],
   "source": [
    "# 学習データを使って文字列の出現数を数える\n",
    "names_bow = bow_t.transform(names_train)"
   ]
  },
  {
   "cell_type": "code",
   "execution_count": 55,
   "metadata": {},
   "outputs": [],
   "source": [
    "# TF-IDFでデータの重み付けと正規化を行う\n",
    "from sklearn.feature_extraction.text import TfidfTransformer\n",
    "\n",
    "tfidf_t = TfidfTransformer().fit(names_bow)"
   ]
  },
  {
   "cell_type": "code",
   "execution_count": 56,
   "metadata": {},
   "outputs": [
    {
     "name": "stdout",
     "output_type": "stream",
     "text": [
      "  (0, 1898)\t0.530554460022041\n",
      "  (0, 283)\t0.8476508508523546\n"
     ]
    }
   ],
   "source": [
    "# tfidf_tでどのような変換が行われるか確認する\n",
    "tfidf1 = tfidf_t.transform(b1)\n",
    "print(tfidf1)"
   ]
  },
  {
   "cell_type": "code",
   "execution_count": 57,
   "metadata": {},
   "outputs": [],
   "source": [
    "# ナイーブベイズの多項モデルを使った学習器を作る\n",
    "from sklearn.naive_bayes import MultinomialNB\n",
    "# 文字列の重み付けと正規化を行う\n",
    "names_tfidf = tfidf_t.transform(names_bow)\n",
    "# 学習を実行\n",
    "namegender_detector = MultinomialNB().fit(names_tfidf, gender_train)"
   ]
  },
  {
   "cell_type": "code",
   "execution_count": 58,
   "metadata": {},
   "outputs": [
    {
     "name": "stdout",
     "output_type": "stream",
     "text": [
      "boy\n"
     ]
    }
   ],
   "source": [
    "# 「かんかん」という名前の性別を予測する\n",
    "print(namegender_detector.predict(tfidf1)[0])"
   ]
  },
  {
   "cell_type": "code",
   "execution_count": 59,
   "metadata": {},
   "outputs": [],
   "source": [
    "# 文字列を与えて性別を予測する関数を定義\n",
    "def predict_gender(name):\n",
    "    # 性別を予測する\n",
    "    bow = bow_t.transform([name])\n",
    "    n_tfidf = tfidf_t.transform(bow)\n",
    "    return namegender_detector.predict(n_tfidf)[0]"
   ]
  },
  {
   "cell_type": "code",
   "execution_count": 60,
   "metadata": {},
   "outputs": [
    {
     "name": "stdout",
     "output_type": "stream",
     "text": [
      "girl\n"
     ]
    }
   ],
   "source": [
    "print(predict_gender(\"のんな\"))"
   ]
  },
  {
   "cell_type": "code",
   "execution_count": 63,
   "metadata": {},
   "outputs": [
    {
     "name": "stdout",
     "output_type": "stream",
     "text": [
      "boy\n"
     ]
    }
   ],
   "source": [
    "print(predict_gender(\"まさみ\"))"
   ]
  },
  {
   "cell_type": "code",
   "execution_count": 64,
   "metadata": {},
   "outputs": [],
   "source": [
    "# データを学習データとテストデータに分割\n",
    "from sklearn.pipeline import Pipeline\n",
    "pipeline = Pipeline([\n",
    "    ('bow', CountVectorizer(analyzer=split_in_2words)),  # strings to token integer counts\n",
    "    ('tfidf', TfidfTransformer()),  # integer counts to weighted TF-IDF scores\n",
    "    ('classifier', MultinomialNB()),  # train on TF-IDF vectors w/ Naive Bayes classifier\n",
    "])"
   ]
  },
  {
   "cell_type": "code",
   "execution_count": 67,
   "metadata": {},
   "outputs": [
    {
     "name": "stdout",
     "output_type": "stream",
     "text": [
      "[0.78397213 0.80836237 0.78571429 0.81326353 0.79057592 0.7556719\n",
      " 0.78708551 0.77661431 0.78708551 0.8006993 ]\n"
     ]
    }
   ],
   "source": [
    "# パイプラインを使って学習とテストを行う\n",
    "from sklearn.model_selection import StratifiedKFold, cross_val_score, train_test_split \n",
    "scores = cross_val_score(pipeline,  # steps to convert raw messages into models\n",
    "                         names_train,  # training data\n",
    "                         gender_train,  # training labels\n",
    "                         cv=10,  # split data randomly into 10 parts: 9 for training, 1 for scoring\n",
    "                         scoring='accuracy',  # which scoring metric?\n",
    "                         #n_jobs=-1,  # -1 = use all cores = faster\n",
    "                         )\n",
    "print(scores)"
   ]
  },
  {
   "cell_type": "code",
   "execution_count": null,
   "metadata": {},
   "outputs": [],
   "source": []
  }
 ],
 "metadata": {
  "kernelspec": {
   "display_name": "Python 3",
   "language": "python",
   "name": "python3"
  },
  "language_info": {
   "codemirror_mode": {
    "name": "ipython",
    "version": 3
   },
   "file_extension": ".py",
   "mimetype": "text/x-python",
   "name": "python",
   "nbconvert_exporter": "python",
   "pygments_lexer": "ipython3",
   "version": "3.7.0"
  }
 },
 "nbformat": 4,
 "nbformat_minor": 2
}
