{
 "cells": [
  {
   "cell_type": "markdown",
   "metadata": {},
   "source": [
    "# Chapter 05\n",
    "## Function"
   ]
  },
  {
   "cell_type": "code",
   "execution_count": 1,
   "metadata": {},
   "outputs": [
    {
     "data": {
      "text/plain": [
       "True"
      ]
     },
     "execution_count": 1,
     "metadata": {},
     "output_type": "execute_result"
    }
   ],
   "source": [
    "# リストのreverse()メソッドを使った回文判定\n",
    "orig_str = \"よのなかねかおかおかねかなのよ\"\n",
    "str_list = list(orig_str)     # 文字列をリストに変換\n",
    "str_list.reverse()            # リストを反転\n",
    "''.join(str_list) == orig_str # リストを文字列に直し回文判定"
   ]
  },
  {
   "cell_type": "code",
   "execution_count": 2,
   "metadata": {},
   "outputs": [
    {
     "data": {
      "text/plain": [
       "True"
      ]
     },
     "execution_count": 2,
     "metadata": {},
     "output_type": "execute_result"
    }
   ],
   "source": [
    "# reversed()を使った回文判定\n",
    "orig_str = \"おかしがすきすきすがしかお\"\n",
    "\"\".join(reversed(orig_str)) == orig_str"
   ]
  },
  {
   "cell_type": "code",
   "execution_count": 3,
   "metadata": {},
   "outputs": [
    {
     "data": {
      "text/plain": [
       "True"
      ]
     },
     "execution_count": 3,
     "metadata": {},
     "output_type": "execute_result"
    }
   ],
   "source": [
    "# ちなみに，文字列の反転だけならスライスのステップ数を使うのが\n",
    "# 一番簡単\n",
    "\n",
    "orig_str = \"わたしまけましたわ\"\n",
    "orig_str == orig_str[::-1]\n",
    "\n",
    "# スライスも関数型的な操作と言えるかも知れません"
   ]
  },
  {
   "cell_type": "code",
   "execution_count": 4,
   "metadata": {},
   "outputs": [
    {
     "name": "stdout",
     "output_type": "stream",
     "text": [
      "Pythonでは空文字列が偽と判定されます\n"
     ]
    }
   ],
   "source": [
    "\n",
    "# Pythonの文\n",
    "\n",
    "# if文， for文， def文など，「〜文」と呼ばれる機能\n",
    "# 「文」では改行を要求します\n",
    "if \"\":\n",
    "    print(\"このブロックは実行されません\")\n",
    "else:\n",
    "    print(\"Pythonでは空文字列が偽と判定されます\")\n",
    "    \n",
    "# Pythonでは，代入も「文」の仲間です\n",
    "# 「代入文」などと呼ばれます\n",
    "var = 123      "
   ]
  },
  {
   "cell_type": "code",
   "execution_count": 5,
   "metadata": {},
   "outputs": [
    {
     "name": "stdout",
     "output_type": "stream",
     "text": [
      "ろりこんげかいいいかげんこりろ\n"
     ]
    }
   ],
   "source": [
    "# Pythonの式\n",
    "\n",
    "# 関数/メソッド呼び出し，演算子や比較演算子を含む式などが「式」です\n",
    "\n",
    "print(\"\".join(reversed(\"ろりこんげかいいいかげんこりろ\")))"
   ]
  },
  {
   "cell_type": "code",
   "execution_count": 6,
   "metadata": {},
   "outputs": [
    {
     "data": {
      "text/plain": [
       "[2, 3, 5, 7, 11, 13, 17, 19, 23, 29]"
      ]
     },
     "execution_count": 6,
     "metadata": {},
     "output_type": "execute_result"
    }
   ],
   "source": [
    "# 「式」は改行せずにいくらでも長く続けることができます\n",
    "# しかし，一行をあまり長くしすぎると読みにくくなるので注意\n",
    "\n",
    "# 素数を探す関数をワンライナーで定義\n",
    "primelist = lambda n : [x for x in range(2, n) if not 0 in map(lambda z : x % z, range(2,x))]\n",
    "primelist(30)  # 30までの素数を探す"
   ]
  },
  {
   "cell_type": "markdown",
   "metadata": {},
   "source": [
    "## lambda"
   ]
  },
  {
   "cell_type": "code",
   "execution_count": 7,
   "metadata": {},
   "outputs": [
    {
     "name": "stdout",
     "output_type": "stream",
     "text": [
      "[('IV号戦車', 38, 80, 75), ('III号突撃砲', 40, 50, 75), ('M3中戦車', 39, 51, 75), ('LT-38', 42, 50, 37), ('八九式中戦車', 20, 17, 57)]\n"
     ]
    }
   ],
   "source": [
    "# lambdaを使ってソート順をカスタマイズする\n",
    "tank_data = [(\"IV号戦車\", 38, 80, 75), (\"LT-38\", 42, 50, 37),\n",
    "             (\"八九式中戦車\", 20, 17, 57), (\"III号突撃砲\", 40, 50, 75),\n",
    "             (\"M3中戦車\", 39, 51, 75)]\n",
    "def evaluate_tankdata(tup):\n",
    "    # 戦車の諸元を足して返す関数\n",
    "    return tup[1]+tup[2]+tup[3]\n",
    "\n",
    "#def evaluate_tankdata(tup):\n",
    "#    # 戦車の諸元を足して返す関数\n",
    "#    return tup[1]+tup[2]+tup[3]\n",
    "\n",
    "tank_data.sort(key=lambda tup: sum(tup[1:4]), reverse=True)\n",
    "print(tank_data)"
   ]
  },
  {
   "cell_type": "code",
   "execution_count": 8,
   "metadata": {},
   "outputs": [
    {
     "name": "stdout",
     "output_type": "stream",
     "text": [
      "[('IV号戦車', 38, 80, 75), ('III号突撃砲', 40, 50, 75), ('M3中戦車', 39, 51, 75), ('LT-38', 42, 50, 37), ('八九式中戦車', 20, 17, 57)]\n"
     ]
    }
   ],
   "source": [
    "# sorted()を使ってソートする\n",
    "r = sorted(tank_data, key=lambda tup: sum(tup[1:4]), reverse=True)\n",
    "print(r)"
   ]
  },
  {
   "cell_type": "markdown",
   "metadata": {},
   "source": [
    "## comprehension"
   ]
  },
  {
   "cell_type": "code",
   "execution_count": 9,
   "metadata": {},
   "outputs": [
    {
     "data": {
      "text/plain": [
       "35.2"
      ]
     },
     "execution_count": 9,
     "metadata": {},
     "output_type": "execute_result"
    }
   ],
   "source": [
    "# リスト内包表記を使って分散を計算する\n",
    "monk_fish_team = [158, 157, 163, 157, 145]\n",
    "\n",
    "total = sum(monk_fish_team)    # リストの合計\n",
    "length = len(monk_fish_team)   # リストの要素数(長さ)\n",
    "mean = total/length            # 算術平均を求める\n",
    "\n",
    "# for height in monk_fish_team:\n",
    "#     variance = variance+(height-mean)**2\n",
    "#\n",
    "# variance = variance/length\n",
    "\n",
    "variance = sum([(h-mean)**2 for h in monk_fish_team])/length\n",
    "\n",
    "variance"
   ]
  },
  {
   "cell_type": "code",
   "execution_count": 10,
   "metadata": {},
   "outputs": [
    {
     "data": {
      "text/plain": [
       "[4.0, 1.0, 49.0, 1.0, 121.0]"
      ]
     },
     "execution_count": 10,
     "metadata": {},
     "output_type": "execute_result"
    }
   ],
   "source": [
    "# 上のコードからリスト内包表記だけを抜き出して実行\n",
    "[(h-mean)**2 for h in monk_fish_team]"
   ]
  },
  {
   "cell_type": "code",
   "execution_count": 11,
   "metadata": {},
   "outputs": [
    {
     "data": {
      "text/plain": [
       "[38, 42, 20, 40, 39]"
      ]
     },
     "execution_count": 11,
     "metadata": {},
     "output_type": "execute_result"
    }
   ],
   "source": [
    "# 数値相当の文字列を数値に変換しながらリストを作る\n",
    "str_speeds = \"38 42 20 40 39\"\n",
    "speeds = [int(s) for s in str_speeds.split()]\n",
    "speeds"
   ]
  },
  {
   "cell_type": "code",
   "execution_count": 3,
   "metadata": {},
   "outputs": [
    {
     "data": {
      "text/plain": [
       "[[1, 2, 3, 4, 5, 6, 7, 8, 9],\n",
       " [2, 4, 6, 8, 10, 12, 14, 16, 18],\n",
       " [3, 6, 9, 12, 15, 18, 21, 24, 27],\n",
       " [4, 8, 12, 16, 20, 24, 28, 32, 36],\n",
       " [5, 10, 15, 20, 25, 30, 35, 40, 45],\n",
       " [6, 12, 18, 24, 30, 36, 42, 48, 54],\n",
       " [7, 14, 21, 28, 35, 42, 49, 56, 63],\n",
       " [8, 16, 24, 32, 40, 48, 56, 64, 72],\n",
       " [9, 18, 27, 36, 45, 54, 63, 72, 81]]"
      ]
     },
     "execution_count": 3,
     "metadata": {},
     "output_type": "execute_result"
    }
   ],
   "source": [
    "[[i*j for i in range(1,10)] for j in range(1,10)]"
   ]
  },
  {
   "cell_type": "code",
   "execution_count": 12,
   "metadata": {},
   "outputs": [
    {
     "data": {
      "text/plain": [
       "[38, 42, 20, 40, 39]"
      ]
     },
     "execution_count": 12,
     "metadata": {},
     "output_type": "execute_result"
    }
   ],
   "source": [
    "# リスト内包表記のifを使って数値に変換できない文字列を判定\n",
    "str_speeds = \"38 42 20 40 a1 39\"\n",
    "speeds = [int(s) for s in str_speeds.split()\n",
    "                              if s.isdigit()]\n",
    "speeds"
   ]
  },
  {
   "cell_type": "code",
   "execution_count": 13,
   "metadata": {},
   "outputs": [
    {
     "data": {
      "text/plain": [
       "{'+000': 'GMT', '+100': 'BST', '+200': 'EET', '+900': 'JST'}"
      ]
     },
     "execution_count": 13,
     "metadata": {},
     "output_type": "execute_result"
    }
   ],
   "source": [
    "# ディクショナリ内包表記を使ってキーと値を逆転したディクショナリを作る\n",
    "# タイムゾーンのディクショナリを作る\n",
    "tz = {\"GMT\":\"+000\", \"BST\":\"+100\",\n",
    "      \"EET\":\"+200\", \"JST\":\"+900\"}\n",
    "# ゾーンと時差を逆にしたディクショナリを作る\n",
    "revtz = {off:zone for zone, off in tz.items()}\n",
    "revtz"
   ]
  },
  {
   "cell_type": "code",
   "execution_count": 14,
   "metadata": {},
   "outputs": [
    {
     "data": {
      "text/plain": [
       "{'bob', 'burton', 'dave'}"
      ]
     },
     "execution_count": 14,
     "metadata": {},
     "output_type": "execute_result"
    }
   ],
   "source": [
    "# set内包表記を使って重複を取り除きながらsetを作る\n",
    "names = [\"BOB\", \"burton\", \"dave\", \"bob\"]  # 名前のリストを定義\n",
    "unames = {x.lower() for x in names}       # 名前を小文字にして重複を除去\n",
    "unames"
   ]
  },
  {
   "cell_type": "markdown",
   "metadata": {},
   "source": [
    "## iterate"
   ]
  },
  {
   "cell_type": "code",
   "execution_count": 15,
   "metadata": {},
   "outputs": [
    {
     "name": "stdout",
     "output_type": "stream",
     "text": [
      "abc\n",
      "edf\n",
      "ghi\n",
      "jkl\n",
      "mno\n"
     ]
    }
   ],
   "source": [
    "# ファイルから全て読み込んで先頭の5行を表示する\n",
    "f = open('some.txt')           # ファイルオブジェクトを作る\n",
    "body = f.read()                # ファイル全体を読み込む\n",
    "lines = body.split('\\n')       # ファイルを改行で分割\n",
    "print('\\n'.join(lines[:5]))    # 先頭の5行を表示"
   ]
  },
  {
   "cell_type": "code",
   "execution_count": 16,
   "metadata": {},
   "outputs": [
    {
     "name": "stdout",
     "output_type": "stream",
     "text": [
      "abc\n",
      "edf\n",
      "ghi\n",
      "jkl\n",
      "mno\n",
      "\n"
     ]
    }
   ],
   "source": [
    "# ループカウンタを使って先頭の5行だけ読み込む\n",
    "f = open('some.txt')       # ファイルオブジェクトを作る\n",
    "lines = ''                 # 表示する文字列を初期化\n",
    "for i in range(5):         # 先頭から5行読み込む\n",
    "    lines += f.readline()\n",
    "print(lines)               # 先頭の5行を表示する"
   ]
  },
  {
   "cell_type": "code",
   "execution_count": 17,
   "metadata": {},
   "outputs": [
    {
     "name": "stdout",
     "output_type": "stream",
     "text": [
      "abc\n",
      "edf\n",
      "ghi\n",
      "jkl\n",
      "mno\n"
     ]
    }
   ],
   "source": [
    "# ファイルオブジェクトをforに添えて5行だけ読み込む\n",
    "# ファイルから一行ずつ読み込む\n",
    "for c, l in enumerate(open('some.txt')):\n",
    "    print(l, end='')  # 行を表示\n",
    "    if c == 4:        # 5行表示したらループを抜ける\n",
    "        break"
   ]
  },
  {
   "cell_type": "code",
   "execution_count": 18,
   "metadata": {},
   "outputs": [],
   "source": [
    "i = iter([1, 2])   # リストをイテレータオブジェクトに変換す"
   ]
  },
  {
   "cell_type": "code",
   "execution_count": 19,
   "metadata": {},
   "outputs": [
    {
     "data": {
      "text/plain": [
       "1"
      ]
     },
     "execution_count": 19,
     "metadata": {},
     "output_type": "execute_result"
    }
   ],
   "source": [
    "next(i)   # 最初の要素を取り出す"
   ]
  },
  {
   "cell_type": "code",
   "execution_count": 20,
   "metadata": {},
   "outputs": [
    {
     "data": {
      "text/plain": [
       "2"
      ]
     },
     "execution_count": 20,
     "metadata": {},
     "output_type": "execute_result"
    }
   ],
   "source": [
    "next(i)   # 次の要素を取り出す"
   ]
  },
  {
   "cell_type": "code",
   "execution_count": 21,
   "metadata": {},
   "outputs": [
    {
     "ename": "StopIteration",
     "evalue": "",
     "output_type": "error",
     "traceback": [
      "\u001b[1;31m---------------------------------------------------------------------------\u001b[0m",
      "\u001b[1;31mStopIteration\u001b[0m                             Traceback (most recent call last)",
      "\u001b[1;32m<ipython-input-21-b6cd66406b6f>\u001b[0m in \u001b[0;36m<module>\u001b[1;34m\u001b[0m\n\u001b[1;32m----> 1\u001b[1;33m \u001b[0mnext\u001b[0m\u001b[1;33m(\u001b[0m\u001b[0mi\u001b[0m\u001b[1;33m)\u001b[0m   \u001b[1;31m# 要素がなくなったのでStopIteration例外が発生する\u001b[0m\u001b[1;33m\u001b[0m\u001b[0m\n\u001b[0m",
      "\u001b[1;31mStopIteration\u001b[0m: "
     ]
    }
   ],
   "source": [
    "next(i)   # 要素がなくなったのでStopIteration例外が発生する"
   ]
  },
  {
   "cell_type": "markdown",
   "metadata": {},
   "source": [
    "## generator"
   ]
  },
  {
   "cell_type": "code",
   "execution_count": 11,
   "metadata": {},
   "outputs": [
    {
     "name": "stdout",
     "output_type": "stream",
     "text": [
      "2\n",
      "3\n",
      "5\n",
      "7\n",
      "11\n",
      "13\n",
      "17\n",
      "19\n",
      "23\n",
      "29\n"
     ]
    }
   ],
   "source": [
    "def get_primes(x=2):\n",
    "    # 素数を返すジェネレータ関数\n",
    "    while True:\n",
    "        for i in range(2, x):\n",
    "            if x%i == 0: # 割りきれる数を見つける\n",
    "                break\n",
    "        else:\n",
    "            yield x      # 素数が見つかったらyieldで返す\n",
    "        x += 1           # 数値を増加\n",
    "        \n",
    "k= get_primes()       # ジェネレータ関数からイテレータを取得\n",
    "for c in range(10):    # 素数を10個表示\n",
    "    print(next(k))"
   ]
  },
  {
   "cell_type": "code",
   "execution_count": 5,
   "metadata": {},
   "outputs": [
    {
     "data": {
      "text/plain": [
       "<generator object get_primes at 0x000001D219CDEE58>"
      ]
     },
     "execution_count": 5,
     "metadata": {},
     "output_type": "execute_result"
    }
   ],
   "source": [
    "i"
   ]
  },
  {
   "cell_type": "code",
   "execution_count": 6,
   "metadata": {},
   "outputs": [
    {
     "data": {
      "text/plain": [
       "generator"
      ]
     },
     "execution_count": 6,
     "metadata": {},
     "output_type": "execute_result"
    }
   ],
   "source": [
    "type(i)"
   ]
  },
  {
   "cell_type": "code",
   "execution_count": 7,
   "metadata": {},
   "outputs": [
    {
     "data": {
      "text/plain": [
       "5"
      ]
     },
     "execution_count": 7,
     "metadata": {},
     "output_type": "execute_result"
    }
   ],
   "source": [
    "j = get_primes(5)\n",
    "next(j)"
   ]
  },
  {
   "cell_type": "code",
   "execution_count": 8,
   "metadata": {},
   "outputs": [
    {
     "data": {
      "text/plain": [
       "7"
      ]
     },
     "execution_count": 8,
     "metadata": {},
     "output_type": "execute_result"
    }
   ],
   "source": [
    "next(j)"
   ]
  },
  {
   "cell_type": "code",
   "execution_count": null,
   "metadata": {},
   "outputs": [],
   "source": []
  },
  {
   "cell_type": "code",
   "execution_count": 25,
   "metadata": {},
   "outputs": [
    {
     "data": {
      "text/plain": [
       "[1, 4, 9, 16, 25, 36, 49, 64, 81]"
      ]
     },
     "execution_count": 25,
     "metadata": {},
     "output_type": "execute_result"
    }
   ],
   "source": [
    "# リスト内包表記は要素が完全に揃ったリストを返す\n",
    "[x**2 for x in range(1, 10)]   # 1から9までの二乗リスト"
   ]
  },
  {
   "cell_type": "code",
   "execution_count": 26,
   "metadata": {},
   "outputs": [
    {
     "name": "stdout",
     "output_type": "stream",
     "text": [
      "1\n",
      "4\n",
      "9\n"
     ]
    }
   ],
   "source": [
    "# ジェネレータ式はイテレータを返す\n",
    "i = (x**2 for x in range(1, 10))\n",
    "print(next(i))\n",
    "print(next(i))\n",
    "print(next(i))"
   ]
  },
  {
   "cell_type": "code",
   "execution_count": 27,
   "metadata": {},
   "outputs": [
    {
     "data": {
      "text/plain": [
       "<generator object <genexpr> at 0x0000019F14F4A5E8>"
      ]
     },
     "execution_count": 27,
     "metadata": {},
     "output_type": "execute_result"
    }
   ],
   "source": [
    "i"
   ]
  },
  {
   "cell_type": "code",
   "execution_count": 28,
   "metadata": {},
   "outputs": [
    {
     "data": {
      "text/plain": [
       "generator"
      ]
     },
     "execution_count": 28,
     "metadata": {},
     "output_type": "execute_result"
    }
   ],
   "source": [
    "type(i)"
   ]
  },
  {
   "cell_type": "markdown",
   "metadata": {},
   "source": [
    "## higher-order function"
   ]
  },
  {
   "cell_type": "code",
   "execution_count": 29,
   "metadata": {},
   "outputs": [
    {
     "name": "stdout",
     "output_type": "stream",
     "text": [
      "100\n"
     ]
    }
   ],
   "source": [
    "# 関数を受け取り実行する関数を定義する\n",
    "def execute(func, arg):\n",
    "    return func(arg)   # 引数として受け取った関数を実行する\n",
    "\n",
    "print(execute(int, \"100\"))  # 関数を引数に渡して実行"
   ]
  },
  {
   "cell_type": "code",
   "execution_count": 30,
   "metadata": {},
   "outputs": [],
   "source": [
    "# 関数を受け取り実行する関数を定義する\n",
    "def logger(func):\n",
    "    def inner(*args):\n",
    "        print(\"引数:\", args)  # 引数リストを表示\n",
    "        return func(*args)   # 関数を呼び出す\n",
    "    return inner"
   ]
  },
  {
   "cell_type": "code",
   "execution_count": 31,
   "metadata": {},
   "outputs": [
    {
     "name": "stdout",
     "output_type": "stream",
     "text": [
      "3\n"
     ]
    }
   ],
   "source": [
    "# 2つの値を足す関数を定義\n",
    "def accumulate(a, b):\n",
    "    return a+b\n",
    "\n",
    "print(accumulate(1, 2))   # 関数を呼び出す"
   ]
  },
  {
   "cell_type": "code",
   "execution_count": 32,
   "metadata": {},
   "outputs": [
    {
     "name": "stdout",
     "output_type": "stream",
     "text": [
      "引数: (1, 2)\n",
      "3\n"
     ]
    }
   ],
   "source": [
    "# loggerを使ってaccumulateを変換\n",
    "newfunc = logger(accumulate)\n",
    "print(newfunc(1, 2))      # 高階関数で作った関数を呼び出"
   ]
  },
  {
   "cell_type": "markdown",
   "metadata": {},
   "source": [
    "## decorator"
   ]
  },
  {
   "cell_type": "code",
   "execution_count": 34,
   "metadata": {},
   "outputs": [
    {
     "name": "stdout",
     "output_type": "stream",
     "text": [
      "引数: (1, 2)\n",
      "3\n"
     ]
    }
   ],
   "source": [
    "# 高階関数とデコレータを組み合わせる\n",
    "@logger\n",
    "def accumulate(a, b):\n",
    "    return a+b\n",
    "\n",
    "print(accumulate(1, 2))"
   ]
  },
  {
   "cell_type": "code",
   "execution_count": 35,
   "metadata": {},
   "outputs": [],
   "source": [
    "# functoolsのlru_cacheを使う\n",
    "\n",
    "# lru_cacheを使ってフィボナッチ数を計算する関数\n",
    "from functools import lru_cache\n",
    "@lru_cache(maxsize=None)\n",
    "def fib(n):\n",
    "    if n < 2:\n",
    "        return n\n",
    "    return fib(n-1) + fib(n-2)"
   ]
  },
  {
   "cell_type": "code",
   "execution_count": 36,
   "metadata": {},
   "outputs": [
    {
     "name": "stdout",
     "output_type": "stream",
     "text": [
      "Wall time: 0 ns\n"
     ]
    },
    {
     "data": {
      "text/plain": [
       "[0, 1, 1, 2, 3, 5, 8, 13, 21, 34, 55, 89, 144, 233, 377, 610]"
      ]
     },
     "execution_count": 36,
     "metadata": {},
     "output_type": "execute_result"
    }
   ],
   "source": [
    "# 実行時間を計測\n",
    "%time [fib(n) for n in range(16)]"
   ]
  },
  {
   "cell_type": "code",
   "execution_count": 37,
   "metadata": {},
   "outputs": [],
   "source": [
    "# lru_cacheを「使わず」フィボナッチ数を計算する関数\n",
    "def fib_nc(n):\n",
    "    if n < 2:\n",
    "        return n\n",
    "    return fib_nc(n-1) + fib_nc(n-2)"
   ]
  },
  {
   "cell_type": "code",
   "execution_count": 38,
   "metadata": {},
   "outputs": [
    {
     "name": "stdout",
     "output_type": "stream",
     "text": [
      "Wall time: 991 µs\n"
     ]
    },
    {
     "data": {
      "text/plain": [
       "[0, 1, 1, 2, 3, 5, 8, 13, 21, 34, 55, 89, 144, 233, 377, 610]"
      ]
     },
     "execution_count": 38,
     "metadata": {},
     "output_type": "execute_result"
    }
   ],
   "source": [
    "# 実行時間を計測\n",
    "%time [fib_nc(n) for n in range(16)]"
   ]
  },
  {
   "cell_type": "code",
   "execution_count": null,
   "metadata": {},
   "outputs": [],
   "source": []
  }
 ],
 "metadata": {
  "kernelspec": {
   "display_name": "Python 3",
   "language": "python",
   "name": "python3"
  },
  "language_info": {
   "codemirror_mode": {
    "name": "ipython",
    "version": 3
   },
   "file_extension": ".py",
   "mimetype": "text/x-python",
   "name": "python",
   "nbconvert_exporter": "python",
   "pygments_lexer": "ipython3",
   "version": "3.7.0"
  }
 },
 "nbformat": 4,
 "nbformat_minor": 2
}
