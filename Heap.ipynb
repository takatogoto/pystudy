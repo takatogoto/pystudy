{
 "cells": [
  {
   "cell_type": "markdown",
   "metadata": {},
   "source": [
    "## Sort algorithm\n",
    "### Heap"
   ]
  },
  {
   "cell_type": "code",
   "execution_count": 11,
   "metadata": {},
   "outputs": [
    {
     "name": "stdout",
     "output_type": "stream",
     "text": [
      "Unsorted\n",
      "[2, 14, 0, 13, 11, 7, 3, 6, 10, 5, 9, 12, 4, 8, 1]\n",
      "Sorted\n",
      "[0, 1, 2, 3, 4, 5, 6, 7, 8, 9, 10, 11, 12, 13, 14]\n"
     ]
    }
   ],
   "source": [
    "def heapsort(aList):\n",
    "    list_size = len(aList) - 1\n",
    "    for i in range((list_size // 2), -1, -1):\n",
    "        sift_down(aList, i, list_size)\n",
    "\n",
    "    for i in range(list_size , 0, -1):\n",
    "        if aList[0] > aList[i]:\n",
    "            temp = aList[0]\n",
    "            aList[0] = aList[i]\n",
    "            aList[i] = temp\n",
    "            sift_down(aList, 0, i - 1)\n",
    "    return aList\n",
    "# end def heapsort\n",
    "\n",
    "\n",
    "def sift_down(aList, root, bottom):\n",
    "    left = root * 2 + 1\n",
    "    right = root * 2 + 2\n",
    "    \n",
    "    if left <= bottom and aList[left] > aList[root]:\n",
    "        max_child = left\n",
    "    else:\n",
    "        max_child = root\n",
    "    \n",
    "    if right <= bottom and aList[right] > aList[max_child]:\n",
    "        max_child = right\n",
    "    \n",
    "    if max_child != root:\n",
    "        aList[root], aList[max_child] = aList[max_child], aList[root]\n",
    "        sift_down(aList, max_child, bottom)\n",
    "# end def sift_down\n",
    "\n",
    "\n",
    "if __name__ == '__main__':\n",
    "    from random import shuffle\n",
    "    l = list(range(15))\n",
    "    lcopy = l[:]\n",
    "    shuffle(l)\n",
    "    print('Unsorted')\n",
    "    print (l)\n",
    "    assert l != lcopy\n",
    "    print ('Sorted')\n",
    "    l = heapsort(l)\n",
    "    print (l)\n",
    "    assert l == lcopy"
   ]
  },
  {
   "cell_type": "code",
   "execution_count": null,
   "metadata": {},
   "outputs": [],
   "source": []
  },
  {
   "cell_type": "code",
   "execution_count": null,
   "metadata": {},
   "outputs": [],
   "source": []
  }
 ],
 "metadata": {
  "kernelspec": {
   "display_name": "Python 3",
   "language": "python",
   "name": "python3"
  },
  "language_info": {
   "codemirror_mode": {
    "name": "ipython",
    "version": 3
   },
   "file_extension": ".py",
   "mimetype": "text/x-python",
   "name": "python",
   "nbconvert_exporter": "python",
   "pygments_lexer": "ipython3",
   "version": "3.6.6"
  }
 },
 "nbformat": 4,
 "nbformat_minor": 2
}
