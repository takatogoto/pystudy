{
 "cells": [
  {
   "cell_type": "code",
   "execution_count": 7,
   "metadata": {},
   "outputs": [],
   "source": [
    "import os\n",
    "import glob\n",
    "from PIL import Image\n",
    "\n",
    "### set folder for existing images\n",
    "image_dir ='data'\n",
    "### set new folder for resize images\n",
    "new_dir = 'resize'\n",
    "\n",
    "os.makedirs(new_dir, exist_ok=True)\n",
    "\n",
    "files =  glob.glob(os.path.join(image_dir,'*.jpg'))\n",
    "\n",
    "for f in files:\n",
    "    img = Image.open(f)\n",
    "    \n",
    "    ftitle, fext = os.path.splitext(f)\n",
    "    img_resize = img.resize((32, 32))\n",
    "    #ftitle, fext = os.path.splitext(f)\n",
    "    ftitle, fext = os.path.splitext(f.split(os.sep)[-1])\n",
    "    img_resize.save(os.path.join(new_dir, ftitle + '_32' + fext))"
   ]
  }
 ],
 "metadata": {
  "kernelspec": {
   "display_name": "Python 3",
   "language": "python",
   "name": "python3"
  },
  "language_info": {
   "codemirror_mode": {
    "name": "ipython",
    "version": 3
   },
   "file_extension": ".py",
   "mimetype": "text/x-python",
   "name": "python",
   "nbconvert_exporter": "python",
   "pygments_lexer": "ipython3",
   "version": "3.6.7"
  }
 },
 "nbformat": 4,
 "nbformat_minor": 2
}
