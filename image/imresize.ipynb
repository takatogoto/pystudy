{
 "cells": [
  {
   "cell_type": "code",
   "execution_count": 1,
   "metadata": {},
   "outputs": [],
   "source": [
    "import os\n",
    "import glob\n",
    "from PIL import Image\n",
    "\n",
    "### set image folder\n",
    "image_dir ='data'\n",
    "###\n",
    "\n",
    "files =  glob.glob(os.path.join(image_dir,'*.jpg'))\n",
    "\n",
    "for f in files:\n",
    "    img = Image.open(f)\n",
    "    \n",
    "    ftitle, fext = os.path.splitext(f)\n",
    "    img_resize = img.resize((32, 32))\n",
    "    ftitle, fext = os.path.splitext(f)\n",
    "    img_resize.save(ftitle + '_32' + fext)\n",
    "\n"
   ]
  },
  {
   "cell_type": "code",
   "execution_count": null,
   "metadata": {},
   "outputs": [],
   "source": []
  }
 ],
 "metadata": {
  "kernelspec": {
   "display_name": "Python 3",
   "language": "python",
   "name": "python3"
  },
  "language_info": {
   "codemirror_mode": {
    "name": "ipython",
    "version": 3
   },
   "file_extension": ".py",
   "mimetype": "text/x-python",
   "name": "python",
   "nbconvert_exporter": "python",
   "pygments_lexer": "ipython3",
   "version": "3.6.8"
  }
 },
 "nbformat": 4,
 "nbformat_minor": 2
}
