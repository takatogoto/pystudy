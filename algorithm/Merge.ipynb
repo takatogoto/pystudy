{
 "cells": [
  {
   "cell_type": "markdown",
   "metadata": {},
   "source": [
    "## Sort algorithm\n",
    "### merge"
   ]
  },
  {
   "cell_type": "code",
   "execution_count": 1,
   "metadata": {},
   "outputs": [
    {
     "name": "stdout",
     "output_type": "stream",
     "text": [
      "Unsorted\n",
      "[7, 12, 0, 9, 13, 11, 1, 3, 6, 8, 14, 5, 2, 10, 4]\n",
      "Sorted\n",
      "[0, 1, 2, 3, 4, 5, 6, 7, 8, 9, 10, 11, 12, 13, 14]\n"
     ]
    }
   ],
   "source": [
    "def merge_sort(aList):\n",
    "    if len(aList) <= 1:\n",
    "        return aList\n",
    "\n",
    "    # divide\n",
    "    mid = len(aList) // 2\n",
    "    left = aList[:mid]\n",
    "    right = aList[mid:]\n",
    "\n",
    "    # repeat until alist==1\n",
    "    left = merge_sort(left)\n",
    "    right = merge_sort(right)\n",
    "\n",
    "    return list(merge(left, right))\n",
    "\n",
    "\n",
    "def merge(left, right):\n",
    "    sorted_list = []\n",
    "    left_index = 0\n",
    "    right_index = 0\n",
    "\n",
    "# compare head of left and right\n",
    "    while left_index < len(left) and right_index < len(right):\n",
    "        if left[left_index] <= right[right_index]:\n",
    "            sorted_list.append(left[left_index])\n",
    "            left_index += 1\n",
    "        else:\n",
    "            sorted_list.append(right[right_index])\n",
    "            right_index += 1\n",
    "\n",
    "# the remain merge\n",
    "    if left:\n",
    "        sorted_list.extend(left[left_index:])\n",
    "    if right:\n",
    "        sorted_list.extend(right[right_index:])\n",
    "\n",
    "    return sorted_list\n",
    "\n",
    "\n",
    "if __name__ == '__main__':\n",
    "    from random import shuffle\n",
    "    l = list(range(15))\n",
    "    lcopy = l[:]\n",
    "    shuffle(l)\n",
    "    print('Unsorted')\n",
    "    print (l)\n",
    "    assert l != lcopy\n",
    "    print ('Sorted')\n",
    "    l = merge_sort(l)\n",
    "    print (l)\n",
    "    assert l == lcopy"
   ]
  },
  {
   "cell_type": "code",
   "execution_count": null,
   "metadata": {},
   "outputs": [],
   "source": []
  }
 ],
 "metadata": {
  "kernelspec": {
   "display_name": "Python 3",
   "language": "python",
   "name": "python3"
  },
  "language_info": {
   "codemirror_mode": {
    "name": "ipython",
    "version": 3
   },
   "file_extension": ".py",
   "mimetype": "text/x-python",
   "name": "python",
   "nbconvert_exporter": "python",
   "pygments_lexer": "ipython3",
   "version": "3.6.6"
  }
 },
 "nbformat": 4,
 "nbformat_minor": 2
}
