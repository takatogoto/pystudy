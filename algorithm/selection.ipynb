{
 "cells": [
  {
   "cell_type": "markdown",
   "metadata": {},
   "source": [
    "## Sort algorithm\n",
    "### selection"
   ]
  },
  {
   "cell_type": "code",
   "execution_count": 23,
   "metadata": {},
   "outputs": [
    {
     "name": "stdout",
     "output_type": "stream",
     "text": [
      "Unsorted\n",
      "[7, 13, 0, 1, 10, 9, 4, 14, 2, 5, 12, 8, 3, 11, 6]\n",
      "Sorted\n",
      "[0, 1, 2, 3, 4, 5, 6, 7, 8, 9, 10, 11, 12, 13, 14]\n"
     ]
    }
   ],
   "source": [
    "def selectionsort(l):\n",
    "    n = len(l)\n",
    "    for index in range(n-1):\n",
    "        least = index\n",
    "        for x in range(index + 1, n):\n",
    "            if l[x] < l[least]:\n",
    "                least = x\n",
    "        #tmp = l[index]\n",
    "        #l[index] = l[least]\n",
    "        #l[least] = tmp\n",
    "        l[index],l[least] = l[least],l[index]\n",
    "    return l\n",
    "\n",
    "\n",
    "if __name__ == '__main__':\n",
    "    from random import shuffle\n",
    "    l = list(range(15))\n",
    "    lcopy = l[:]\n",
    "    shuffle(l)\n",
    "    print('Unsorted')\n",
    "    print (l)\n",
    "    assert l != lcopy\n",
    "    print ('Sorted')\n",
    "    l = selectionsort(l)\n",
    "    print (l)\n",
    "    assert l == lcopy"
   ]
  },
  {
   "cell_type": "code",
   "execution_count": null,
   "metadata": {},
   "outputs": [],
   "source": []
  },
  {
   "cell_type": "code",
   "execution_count": null,
   "metadata": {},
   "outputs": [],
   "source": []
  }
 ],
 "metadata": {
  "kernelspec": {
   "display_name": "Python 3",
   "language": "python",
   "name": "python3"
  },
  "language_info": {
   "codemirror_mode": {
    "name": "ipython",
    "version": 3
   },
   "file_extension": ".py",
   "mimetype": "text/x-python",
   "name": "python",
   "nbconvert_exporter": "python",
   "pygments_lexer": "ipython3",
   "version": "3.6.6"
  }
 },
 "nbformat": 4,
 "nbformat_minor": 2
}
