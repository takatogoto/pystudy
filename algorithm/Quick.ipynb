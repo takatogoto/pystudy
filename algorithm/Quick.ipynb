{
 "cells": [
  {
   "cell_type": "markdown",
   "metadata": {},
   "source": [
    "## Sort algorithm\n",
    "### Quick"
   ]
  },
  {
   "cell_type": "code",
   "execution_count": 1,
   "metadata": {},
   "outputs": [
    {
     "name": "stdout",
     "output_type": "stream",
     "text": [
      "Unsorted\n",
      "[1, 14, 6, 4, 7, 9, 5, 3, 12, 8, 10, 13, 0, 2, 11]\n",
      "Sorted\n",
      "[0, 1, 2, 3, 4, 5, 6, 7, 8, 9, 10, 11, 12, 13, 14]\n"
     ]
    }
   ],
   "source": [
    "def quicksort(seq):\n",
    "    if len(seq) < 1:\n",
    "        return seq\n",
    "    # let pivot head of seq\n",
    "    pivot = seq[0]\n",
    "    left = []\n",
    "    right = []\n",
    "    for x in range(1, len(seq)):\n",
    "        if seq[x] <= pivot:\n",
    "            left.append(seq[x])\n",
    "        else:\n",
    "            right.append(seq[x])\n",
    "    left = quicksort(left)\n",
    "    right = quicksort(right)\n",
    "    foo = [pivot]\n",
    "    return left + foo + right\n",
    "\n",
    "\n",
    "if __name__ == '__main__':\n",
    "    from random import shuffle\n",
    "    l = list(range(15))\n",
    "    lcopy = l[:]\n",
    "    shuffle(l)\n",
    "    print('Unsorted')\n",
    "    print (l)\n",
    "    assert l != lcopy\n",
    "    print ('Sorted')\n",
    "    l = quicksort(l)\n",
    "    print (l)\n",
    "    assert l == lcopy"
   ]
  },
  {
   "cell_type": "code",
   "execution_count": null,
   "metadata": {},
   "outputs": [],
   "source": []
  }
 ],
 "metadata": {
  "kernelspec": {
   "display_name": "Python 3",
   "language": "python",
   "name": "python3"
  },
  "language_info": {
   "codemirror_mode": {
    "name": "ipython",
    "version": 3
   },
   "file_extension": ".py",
   "mimetype": "text/x-python",
   "name": "python",
   "nbconvert_exporter": "python",
   "pygments_lexer": "ipython3",
   "version": "3.6.6"
  }
 },
 "nbformat": 4,
 "nbformat_minor": 2
}
