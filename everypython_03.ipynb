{
 "cells": [
  {
   "cell_type": "markdown",
   "metadata": {},
   "source": [
    "# Chapter 03-01\n",
    "## Dictionary"
   ]
  },
  {
   "cell_type": "code",
   "execution_count": 1,
   "metadata": {},
   "outputs": [
    {
     "data": {
      "text/plain": [
       "'神奈川県'"
      ]
     },
     "execution_count": 1,
     "metadata": {},
     "output_type": "execute_result"
    }
   ],
   "source": [
    "# ニックネーム，出身地，キャッチフレーズをリストに登録\n",
    "purple = [\"れにちゃん\", \"神奈川県\", \"感電少女\"]\n",
    "\n",
    "# インデックスを使えば要素を取り出せるが\n",
    "# インデックスを覚えておく必要があり少し面倒\n",
    "purple[1]"
   ]
  },
  {
   "cell_type": "code",
   "execution_count": 3,
   "metadata": {},
   "outputs": [],
   "source": [
    "# 同じ内容をディクショナリに登録\n",
    "purple = {\"ニックネーム\": \"れにちゃん\",\n",
    "          \"出身地\": \"神奈川県\",\n",
    "          \"キャッチフレーズ\": \"感電少女\"}"
   ]
  },
  {
   "cell_type": "markdown",
   "metadata": {},
   "source": [
    "### key"
   ]
  },
  {
   "cell_type": "code",
   "execution_count": 6,
   "metadata": {},
   "outputs": [
    {
     "name": "stdout",
     "output_type": "stream",
     "text": [
      "神奈川県\n"
     ]
    }
   ],
   "source": [
    "# ディクショナリから出身地を取り出す\n",
    "print(purple[\"出身地\"])"
   ]
  },
  {
   "cell_type": "code",
   "execution_count": 7,
   "metadata": {},
   "outputs": [
    {
     "data": {
      "text/plain": [
       "{'ニックネーム': 'れにちゃん', '出身地': '神奈川県', 'キャッチフレーズ': '感電少女'}"
      ]
     },
     "execution_count": 7,
     "metadata": {},
     "output_type": "execute_result"
    }
   ],
   "source": [
    "# ディクショナリの内容を表示すると\n",
    "# 並び順が定義したときと変わっている\n",
    "# (ただしPython 3.5まで，3.6からは並び順が保存される)\n",
    "purple"
   ]
  },
  {
   "cell_type": "code",
   "execution_count": 8,
   "metadata": {},
   "outputs": [
    {
     "data": {
      "text/plain": [
       "{'ニックネーム': 'れにちゃん', '出身地': '神奈川県', 'キャッチフレーズ': '鋼少女'}"
      ]
     },
     "execution_count": 8,
     "metadata": {},
     "output_type": "execute_result"
    }
   ],
   "source": [
    "# キーを使って要素を入れ替え\n",
    "purple[\"キャッチフレーズ\"] = \"鋼少女\"\n",
    "purple            # ディクショナリを表示"
   ]
  },
  {
   "cell_type": "code",
   "execution_count": 9,
   "metadata": {},
   "outputs": [
    {
     "data": {
      "text/plain": [
       "{'ニックネーム': 'れにちゃん', '出身地': '神奈川県', 'キャッチフレーズ': '鋼少女', '生年月日': '1993年6月21日'}"
      ]
     },
     "execution_count": 9,
     "metadata": {},
     "output_type": "execute_result"
    }
   ],
   "source": [
    "# キーを使って新しい要素を追加\n",
    "purple[\"生年月日\"] = \"1993年6月21日\"\n",
    "purple            # ディクショナリを表示"
   ]
  },
  {
   "cell_type": "code",
   "execution_count": 10,
   "metadata": {},
   "outputs": [
    {
     "data": {
      "text/plain": [
       "{'出身地': '神奈川県', 'キャッチフレーズ': '鋼少女', '生年月日': '1993年6月21日'}"
      ]
     },
     "execution_count": 10,
     "metadata": {},
     "output_type": "execute_result"
    }
   ],
   "source": [
    "# キーを添えて要素を削除\n",
    "del purple[\"ニックネーム\"]\n",
    "purple            # ディクショナリを表示"
   ]
  },
  {
   "cell_type": "code",
   "execution_count": 11,
   "metadata": {},
   "outputs": [
    {
     "ename": "KeyError",
     "evalue": "'ニックネーム'",
     "output_type": "error",
     "traceback": [
      "\u001b[1;31m---------------------------------------------------------------------------\u001b[0m",
      "\u001b[1;31mKeyError\u001b[0m                                  Traceback (most recent call last)",
      "\u001b[1;32m<ipython-input-11-82b7cf984e3b>\u001b[0m in \u001b[0;36m<module>\u001b[1;34m\u001b[0m\n\u001b[0;32m      1\u001b[0m \u001b[1;31m# 存在しない(削除した)キーを参照しようとするとエラーになる\u001b[0m\u001b[1;33m\u001b[0m\u001b[1;33m\u001b[0m\u001b[0m\n\u001b[1;32m----> 2\u001b[1;33m \u001b[0mpurple\u001b[0m\u001b[1;33m[\u001b[0m\u001b[1;34m\"ニックネーム\"\u001b[0m\u001b[1;33m]\u001b[0m\u001b[1;33m\u001b[0m\u001b[0m\n\u001b[0m",
      "\u001b[1;31mKeyError\u001b[0m: 'ニックネーム'"
     ]
    }
   ],
   "source": [
    "# 存在しない(削除した)キーを参照しようとするとエラーになる\n",
    "purple[\"ニックネーム\"]"
   ]
  },
  {
   "cell_type": "code",
   "execution_count": 12,
   "metadata": {},
   "outputs": [],
   "source": [
    "# inを使ったキーの存在確認のサンプル\n",
    "def convert_number(num):\n",
    "    # アラビア数字をローマ数字に変換するプログラム\n",
    "    # アラビア数字とローマ数字の対応表をディクショナリに定義\n",
    "    roman_nums = {1:\"I\", 2:\"II\", 3:\"III\", 4:\"IV\", 5:\"V\",\n",
    "                  6:\"VI\", 7:\"VII\", 8:\"VIII\", 9:\"IX\"}\n",
    "    if num in roman_nums:\n",
    "        # ディクショナリのキーとして引数の整数が存在していたら\n",
    "        # キーに対応する値を戻り値にする\n",
    "        return roman_nums[num]\n",
    "    else:\n",
    "        return \"[変換できません]\""
   ]
  },
  {
   "cell_type": "code",
   "execution_count": 13,
   "metadata": {},
   "outputs": [
    {
     "data": {
      "text/plain": [
       "'III'"
      ]
     },
     "execution_count": 13,
     "metadata": {},
     "output_type": "execute_result"
    }
   ],
   "source": [
    "convert_number(3)   # 関数を呼び出してみる"
   ]
  },
  {
   "cell_type": "code",
   "execution_count": 14,
   "metadata": {},
   "outputs": [
    {
     "data": {
      "text/plain": [
       "'[変換できません]'"
      ]
     },
     "execution_count": 14,
     "metadata": {},
     "output_type": "execute_result"
    }
   ],
   "source": [
    "convert_number(11)"
   ]
  },
  {
   "cell_type": "code",
   "execution_count": 15,
   "metadata": {},
   "outputs": [
    {
     "name": "stdout",
     "output_type": "stream",
     "text": [
      "ニックネーム れにちゃん\n",
      "出身地 神奈川県\n",
      "キャッチフレーズ 感電少女\n",
      "生年月日 1993年6月21日\n"
     ]
    }
   ],
   "source": [
    "# ディクショナリをforに添えて，キーの一覧を取り出す\n",
    "purple = {\"ニックネーム\": \"れにちゃん\",\n",
    "          \"出身地\": \"神奈川県\",\n",
    "          \"キャッチフレーズ\": \"感電少女\",\n",
    "          \"生年月日\": \"1993年6月21日\"}\n",
    "for key in purple:           # キーをすべて取り出す\n",
    "    print(key, purple[key])  # キーと要素を表示"
   ]
  },
  {
   "cell_type": "code",
   "execution_count": null,
   "metadata": {},
   "outputs": [],
   "source": []
  }
 ],
 "metadata": {
  "kernelspec": {
   "display_name": "Python 3",
   "language": "python",
   "name": "python3"
  },
  "language_info": {
   "codemirror_mode": {
    "name": "ipython",
    "version": 3
   },
   "file_extension": ".py",
   "mimetype": "text/x-python",
   "name": "python",
   "nbconvert_exporter": "python",
   "pygments_lexer": "ipython3",
   "version": "3.7.0"
  }
 },
 "nbformat": 4,
 "nbformat_minor": 2
}
